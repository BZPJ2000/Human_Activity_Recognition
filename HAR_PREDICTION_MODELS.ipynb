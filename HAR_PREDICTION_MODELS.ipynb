{
 "cells": [
  {
   "metadata": {},
   "cell_type": "code",
   "source": [
    "import sklearn\n",
    "import xgboost\n",
    "from alembic.command import heads\n",
    "\n",
    "print(\"scikit-learn version:\", sklearn.__version__)\n",
    "print(\"xgboost version:\", xgboost.__version__)\n",
    "# pip install xgboost==1.6.0\n",
    "# pip install scikit-learn==1.2.1"
   ],
   "outputs": [],
   "execution_count": null
  },
  {
   "metadata": {
    "ExecuteTime": {
     "end_time": "2025-02-08T00:51:04.630557Z",
     "start_time": "2025-02-08T00:51:02.181566Z"
    }
   },
   "cell_type": "code",
   "source": [
    "import numpy as np\n",
    "import pandas as pd"
   ],
   "outputs": [],
   "execution_count": 2
  },
  {
   "cell_type": "markdown",
   "metadata": {},
   "source": [
    "## Obtain the train and test data"
   ]
  },
  {
   "metadata": {
    "ExecuteTime": {
     "end_time": "2025-02-08T00:54:23.473228Z",
     "start_time": "2025-02-08T00:51:04.679567Z"
    }
   },
   "cell_type": "code",
   "source": [
    "train = pd.read_excel(r'E:\\A_workbench\\A-lab\\25-2-4\\Human-Activity-Recognition-master\\my_data\\train_dataset.xlsx')\n",
    "test = pd.read_excel(r'E:\\A_workbench\\A-lab\\25-2-4\\Human-Activity-Recognition-master\\my_data\\test_dataset.xlsx')"
   ],
   "outputs": [],
   "execution_count": 3
  },
  {
   "metadata": {
    "ExecuteTime": {
     "end_time": "2025-02-08T00:54:23.520614Z",
     "start_time": "2025-02-08T00:54:23.504609Z"
    }
   },
   "cell_type": "code",
   "source": "print(train.shape, test.shape)",
   "outputs": [
    {
     "name": "stdout",
     "output_type": "stream",
     "text": [
      "(16482, 883) (5635, 883)\n"
     ]
    }
   ],
   "execution_count": 4
  },
  {
   "cell_type": "code",
   "metadata": {
    "scrolled": true,
    "ExecuteTime": {
     "end_time": "2025-02-08T00:54:23.662431Z",
     "start_time": "2025-02-08T00:54:23.647919Z"
    }
   },
   "source": "print(train.head(5))",
   "outputs": [
    {
     "name": "stdout",
     "output_type": "stream",
     "text": [
      "   tAccelerometer_X_mean  tAccelerometer_X_std  tAccelerometer_X_mad  \\\n",
      "0              -0.005355              0.066856              0.036765   \n",
      "1              -0.005292              0.049632              0.025016   \n",
      "2               0.008141              0.045348              0.027677   \n",
      "3               0.050977              0.153627              0.042061   \n",
      "4              -0.116075              0.447143              0.224372   \n",
      "\n",
      "   tAccelerometer_X_max  tAccelerometer_X_min  tAccelerometer_X_sma  \\\n",
      "0              0.174204             -0.198227              6.364118   \n",
      "1              0.117290             -0.198227              4.598944   \n",
      "2              0.129252             -0.158697              4.446158   \n",
      "3              0.600533             -0.452172             12.498151   \n",
      "4              0.632339             -1.532125             41.125657   \n",
      "\n",
      "   tAccelerometer_X_energy  tAccelerometer_X_iqr  tAccelerometer_X_entropy  \\\n",
      "0                 0.004498              0.072515                  2.162373   \n",
      "1                 0.002491              0.052083                  2.214277   \n",
      "2                 0.002123              0.050951                  2.215105   \n",
      "3                 0.026200              0.085828                  2.446603   \n",
      "4                 0.213410              0.499151                  2.047123   \n",
      "\n",
      "   tAccelerometer_X_arCoeff_1  ...  fMagnetometerJerkMag_arCoeff_3  \\\n",
      "0               -1.210000e-09  ...                       -1.543756   \n",
      "1                2.590000e-09  ...                       -1.545823   \n",
      "2                3.720000e-09  ...                       -1.548774   \n",
      "3               -3.220000e-08  ...                       -1.550996   \n",
      "4                1.120000e-07  ...                       -1.546973   \n",
      "\n",
      "   fMagnetometerJerkMag_arCoeff_4  fMagnetometerJerkMag_arCoeff_5  \\\n",
      "0                       23.851767                      790.421711   \n",
      "1                       23.865445                      792.182170   \n",
      "2                       23.913140                      793.800457   \n",
      "3                       23.902890                      797.033521   \n",
      "4                       23.702894                      801.003413   \n",
      "\n",
      "   fMagnetometerJerkMag_maxInds  fMagnetometerJerkMag_meanFreq  \\\n",
      "0                             0                     558.816538   \n",
      "1                             0                     559.801504   \n",
      "2                             0                     561.033101   \n",
      "3                             0                     562.801758   \n",
      "4                             0                     564.021453   \n",
      "\n",
      "   fMagnetometerJerkMag_skewness  fMagnetometerJerkMag_kurtosis  subject  \\\n",
      "0                      -0.496767                      -1.067345        3   \n",
      "1                      -0.495228                      -1.069772        3   \n",
      "2                      -0.496201                      -1.067627        3   \n",
      "3                      -0.495412                      -1.068289        3   \n",
      "4                      -0.493310                      -1.068898        3   \n",
      "\n",
      "   Activity  ActivityName  \n",
      "0         1      Standing  \n",
      "1         1      Standing  \n",
      "2         1      Standing  \n",
      "3         1      Standing  \n",
      "4         1      Standing  \n",
      "\n",
      "[5 rows x 883 columns]\n"
     ]
    }
   ],
   "execution_count": 5
  },
  {
   "cell_type": "code",
   "metadata": {
    "ExecuteTime": {
     "end_time": "2025-02-08T00:55:21.758635Z",
     "start_time": "2025-02-08T00:55:21.728635Z"
    }
   },
   "source": [
    "# get X_train and y_train from csv files\n",
    "X_train = train.drop(['subject', 'Activity', 'ActivityName'], axis=1)\n",
    "y_train = train.Activity"
   ],
   "outputs": [],
   "execution_count": 17
  },
  {
   "metadata": {},
   "cell_type": "markdown",
   "source": ""
  },
  {
   "cell_type": "code",
   "metadata": {
    "ExecuteTime": {
     "end_time": "2025-02-08T00:55:23.240115Z",
     "start_time": "2025-02-08T00:55:23.213644Z"
    }
   },
   "source": [
    "# get X_test and y_test from test csv file\n",
    "X_test = test.drop(['subject', 'Activity', 'ActivityName'], axis=1)\n",
    "y_test = test.Activity"
   ],
   "outputs": [],
   "execution_count": 18
  },
  {
   "cell_type": "code",
   "metadata": {
    "ExecuteTime": {
     "end_time": "2025-02-08T00:55:23.786752Z",
     "start_time": "2025-02-08T00:55:23.776937Z"
    }
   },
   "source": [
    "print('X_train and y_train : ({},{})'.format(X_train.shape, y_train.shape))\n",
    "print('X_test  and y_test  : ({},{})'.format(X_test.shape, y_test.shape))"
   ],
   "outputs": [
    {
     "name": "stdout",
     "output_type": "stream",
     "text": [
      "X_train and y_train : ((16482, 880),(16482,))\n",
      "X_test  and y_test  : ((5635, 880),(5635,))\n"
     ]
    }
   ],
   "execution_count": 19
  },
  {
   "metadata": {
    "ExecuteTime": {
     "end_time": "2025-02-08T00:55:24.643575Z",
     "start_time": "2025-02-08T00:55:24.535527Z"
    }
   },
   "cell_type": "code",
   "source": [
    "from sklearn.model_selection import train_test_split\n",
    "\n",
    "# 使用 stratify 参数来保证类别平均 \n",
    "X_train, X_temp, y_train, y_temp = train_test_split(X_train, y_train, test_size=0.9, random_state=42, stratify=y_train)\n",
    "X_test, X_val, y_test, y_val = train_test_split(X_test, y_test, test_size=0.5, random_state=42, stratify=y_test)\n",
    " \n",
    "# 打印数据形状 \n",
    "print('X_train and y_train : ({},{})'.format(X_train.shape,  y_train.shape))\n",
    "print('X_temp and y_temp : ({},{})'.format(X_temp.shape,  y_temp.shape))\n",
    "print('X_val  and y_val   : ({},{})'.format(X_val.shape,  y_val.shape)) \n",
    "print('X_test and y_test  : ({},{})'.format(X_test.shape,  y_test.shape)) "
   ],
   "outputs": [
    {
     "name": "stdout",
     "output_type": "stream",
     "text": [
      "X_train and y_train : ((1648, 880),(1648,))\n",
      "X_temp and y_temp : ((14834, 880),(14834,))\n",
      "X_val  and y_val   : ((2818, 880),(2818,))\n",
      "X_test and y_test  : ((2817, 880),(2817,))\n"
     ]
    }
   ],
   "execution_count": 20
  },
  {
   "cell_type": "markdown",
   "metadata": {},
   "source": [
    "# Let's model with our data"
   ]
  },
  {
   "cell_type": "markdown",
   "metadata": {},
   "source": [
    "### Labels that are useful in plotting confusion matrix"
   ]
  },
  {
   "cell_type": "code",
   "metadata": {
    "ExecuteTime": {
     "end_time": "2025-02-08T00:55:26.478238Z",
     "start_time": "2025-02-08T00:55:26.471534Z"
    }
   },
   "source": "labels=['Standing', 'Walking','Transitional movements','Bending','Squatting']",
   "outputs": [],
   "execution_count": 21
  },
  {
   "cell_type": "markdown",
   "metadata": {},
   "source": [
    "### Function to plot the confusion matrix"
   ]
  },
  {
   "metadata": {
    "ExecuteTime": {
     "end_time": "2025-02-08T00:55:27.354122Z",
     "start_time": "2025-02-08T00:55:27.341473Z"
    }
   },
   "cell_type": "code",
   "source": [
    "import matplotlib\n",
    "print(\"matplotlib version:\", matplotlib.__version__)\n"
   ],
   "outputs": [
    {
     "name": "stdout",
     "output_type": "stream",
     "text": [
      "matplotlib version: 3.6.0\n"
     ]
    }
   ],
   "execution_count": 22
  },
  {
   "cell_type": "code",
   "metadata": {
    "ExecuteTime": {
     "end_time": "2025-02-08T00:55:27.634788Z",
     "start_time": "2025-02-08T00:55:27.627788Z"
    }
   },
   "source": [
    "import itertools\n",
    "import numpy as np\n",
    "import matplotlib.pyplot as plt\n",
    "from sklearn.metrics import confusion_matrix\n",
    "plt.rcParams[\"font.family\"] = 'DejaVu Sans'\n",
    "\n",
    "def plot_confusion_matrix(cm, classes,\n",
    "                          normalize=False,\n",
    "                          title='Confusion matrix',\n",
    "                          cmap=plt.cm.Blues):\n",
    "    if normalize:\n",
    "        cm = cm.astype('float') / cm.sum(axis=1)[:, np.newaxis]\n",
    "\n",
    "    plt.imshow(cm, interpolation='nearest', cmap=cmap)\n",
    "    plt.title(title)\n",
    "    plt.colorbar()\n",
    "    tick_marks = np.arange(len(classes))\n",
    "    plt.xticks(tick_marks, classes, rotation=90)\n",
    "    plt.yticks(tick_marks, classes)\n",
    "    ax = plt.gca()\n",
    "    ax.set_ylim(-.5, 5.5)\n",
    "        \n",
    "    fmt = '.2f' if normalize else 'd'\n",
    "    thresh = cm.max() / 2.\n",
    "    for i, j in itertools.product(range(cm.shape[0]), range(cm.shape[1])):\n",
    "        plt.text(j, i, format(cm[i, j], fmt),\n",
    "                 horizontalalignment=\"center\",\n",
    "                 color=\"white\" if cm[i, j] > thresh else \"black\")\n",
    "\n",
    "    plt.tight_layout()\n",
    "    plt.ylabel('True label')\n",
    "    plt.xlabel('Predicted label')"
   ],
   "outputs": [],
   "execution_count": 23
  },
  {
   "cell_type": "markdown",
   "metadata": {},
   "source": [
    "### Generic function to run any model specified"
   ]
  },
  {
   "cell_type": "code",
   "metadata": {
    "ExecuteTime": {
     "end_time": "2025-02-08T00:55:29.029720Z",
     "start_time": "2025-02-08T00:55:29.007715Z"
    }
   },
   "source": [
    "from datetime import datetime\n",
    "from memory_profiler import memory_usage\n",
    "\n",
    "def perform_model(model, X_train, y_train, X_test, y_test, class_labels, cm_normalize=True, \\\n",
    "                 print_cm=True, cm_cmap=plt.cm.Reds): \n",
    "    \n",
    "    # 用于存储各个阶段的结果\n",
    "    results = dict()\n",
    "    \n",
    "    # 模型开始训练的时间\n",
    "    train_start_time = datetime.now() \n",
    "    print('训练模型中..')\n",
    "    \n",
    "    # 监控训练阶段的内存使用\n",
    "    mem_usage_train = memory_usage((model.fit, (X_train, y_train)), interval=0.1)\n",
    "    results['train_memory_usage'] = max(mem_usage_train)\n",
    "    \n",
    "    print('完成 \\n \\n')\n",
    "    train_end_time = datetime.now() \n",
    "    \n",
    "    # 计算并存储训练时间\n",
    "    results['training_time'] = train_end_time - train_start_time\n",
    "    # 输出训练时间，格式为时:分:秒.毫秒\n",
    "    print('训练时间(HH:MM:SS.ms)  - {}\\n\\n'.format(results['training_time']))\n",
    "    print('训练阶段最大内存使用: {:.2f} MB\\n\\n'.format(results['train_memory_usage']))\n",
    "    \n",
    "    # 预测测试数据\n",
    "    print('预测测试数据')\n",
    "    test_start_time = datetime.now() \n",
    "    \n",
    "    # 监控测试阶段的内存使用\n",
    "    mem_usage_test = memory_usage((model.predict, (X_test,)), interval=0.1)\n",
    "    results['test_memory_usage'] = max(mem_usage_test)\n",
    "    \n",
    "    y_pred = model.predict(X_test) \n",
    "    test_end_time = datetime.now() \n",
    "    print('完成 \\n \\n')\n",
    "    results['testing_time'] = test_end_time - test_start_time\n",
    "    print('测试时间(HH:MM:SS.ms)  - {}\\n\\n'.format(results['testing_time']))\n",
    "    print('测试阶段最大内存使用: {:.2f} MB\\n\\n'.format(results['test_memory_usage']))\n",
    "    \n",
    "    results['predicted'] = y_pred\n",
    "   \n",
    "    # 计算模型的整体准确率\n",
    "    accuracy = metrics.accuracy_score(y_true=y_test,  y_pred=y_pred)\n",
    "    # 存储准确率\n",
    "    results['accuracy'] = accuracy\n",
    "    print('---------------------')\n",
    "    print('|      准确率       |')\n",
    "    print('---------------------')\n",
    "    print('\\n    {}\\n\\n'.format(accuracy))\n",
    "    \n",
    "    # 混淆矩阵\n",
    "    cm = metrics.confusion_matrix(y_test,  y_pred)\n",
    "    results['confusion_matrix'] = cm\n",
    "    if print_cm: \n",
    "        print('--------------------')\n",
    "        print('| 混淆矩阵 |')\n",
    "        print('--------------------')\n",
    "        print('\\n {}'.format(cm))\n",
    "        \n",
    "    # 绘制混淆矩阵\n",
    "    plt.figure(figsize=(8,8)) \n",
    "    plt.grid(b=False) \n",
    "    plot_confusion_matrix(cm, classes=class_labels, normalize=cm_normalize, title='归一化混淆矩阵', cmap=cm_cmap)\n",
    "    ax = plt.gca() \n",
    "    ax.set_ylim(-.5,5.5) \n",
    "    plt.show() \n",
    "    \n",
    "    # 获取分类报告\n",
    "    print('-------------------------')\n",
    "    print('| 分类报告 |')\n",
    "    print('-------------------------')\n",
    "    classification_report = metrics.classification_report(y_test,  y_pred)\n",
    "    # 存储分类报告\n",
    "    results['classification_report'] = classification_report\n",
    "    print(classification_report)\n",
    "    \n",
    "    # 将训练好的模型添加到结果中\n",
    "    results['model'] = model\n",
    "    \n",
    "    return results\n",
    "    "
   ],
   "outputs": [],
   "execution_count": 24
  },
  {
   "cell_type": "markdown",
   "metadata": {},
   "source": [
    "### Method to print the gridsearch Attributes"
   ]
  },
  {
   "cell_type": "code",
   "metadata": {
    "ExecuteTime": {
     "end_time": "2025-02-08T00:55:30.350945Z",
     "start_time": "2025-02-08T00:55:30.338942Z"
    }
   },
   "source": [
    "def print_grid_search_attributes(model):\n",
    "    # Estimator that gave highest score among all the estimators formed in GridSearch\n",
    "    print('--------------------------')\n",
    "    print('|      Best Estimator     |')\n",
    "    print('--------------------------')\n",
    "    print('\\n\\t{}\\n'.format(model.best_estimator_))\n",
    "\n",
    "\n",
    "    # parameters that gave best results while performing grid search\n",
    "    print('--------------------------')\n",
    "    print('|     Best parameters     |')\n",
    "    print('--------------------------')\n",
    "    print('\\tParameters of best estimator : \\n\\n\\t{}\\n'.format(model.best_params_))\n",
    "\n",
    "\n",
    "    #  number of cross validation splits\n",
    "    print('---------------------------------')\n",
    "    print('|   No of CrossValidation sets   |')\n",
    "    print('--------------------------------')\n",
    "    print('\\n\\tTotal numbre of cross validation sets: {}\\n'.format(model.n_splits_))\n",
    "\n",
    "\n",
    "    # Average cross validated score of the best estimator, from the Grid Search \n",
    "    print('--------------------------')\n",
    "    print('|        Best Score       |')\n",
    "    print('--------------------------')\n",
    "    print('\\n\\tAverage Cross Validate scores of best estimator : \\n\\n\\t{}\\n'.format(model.best_score_))\n",
    "\n",
    "    \n",
    "    "
   ],
   "outputs": [],
   "execution_count": 25
  },
  {
   "metadata": {
    "ExecuteTime": {
     "end_time": "2025-02-08T00:55:31.011494Z",
     "start_time": "2025-02-08T00:55:30.994494Z"
    }
   },
   "cell_type": "code",
   "source": "y_train",
   "outputs": [
    {
     "data": {
      "text/plain": [
       "9530     5\n",
       "1033     1\n",
       "12156    1\n",
       "5602     5\n",
       "13877    1\n",
       "        ..\n",
       "9112     5\n",
       "9209     5\n",
       "1039     4\n",
       "15655    4\n",
       "16314    1\n",
       "Name: Activity, Length: 1648, dtype: int64"
      ]
     },
     "execution_count": 26,
     "metadata": {},
     "output_type": "execute_result"
    }
   ],
   "execution_count": 26
  },
  {
   "cell_type": "markdown",
   "metadata": {},
   "source": [
    "# 1. Logistic Regression with Grid Search"
   ]
  },
  {
   "cell_type": "code",
   "metadata": {
    "ExecuteTime": {
     "end_time": "2025-02-08T00:55:37.817261Z",
     "start_time": "2025-02-08T00:55:37.572535Z"
    }
   },
   "source": [
    "from sklearn import linear_model\n",
    "from sklearn import metrics\n",
    "\n",
    "from sklearn.model_selection import GridSearchCV"
   ],
   "outputs": [],
   "execution_count": 27
  },
  {
   "cell_type": "code",
   "metadata": {
    "scrolled": false,
    "ExecuteTime": {
     "end_time": "2025-02-08T00:55:50.334515Z",
     "start_time": "2025-02-08T00:55:38.735532Z"
    }
   },
   "source": [
    "\n",
    "# start Grid search\n",
    "parameters = {'C':[0.01, 0.1, 1, 10, 20, 30], 'penalty':['l2','l1']}\n",
    "log_reg = linear_model.LogisticRegression()\n",
    "log_reg_grid = GridSearchCV(log_reg, param_grid=parameters, cv=3, verbose=1, n_jobs=-1)\n",
    "log_reg_grid_results =  perform_model(log_reg_grid, X_train, y_train, X_test, y_test, class_labels=labels)\n",
    "\n"
   ],
   "outputs": [
    {
     "name": "stdout",
     "output_type": "stream",
     "text": [
      "训练模型中..\n",
      "Fitting 3 folds for each of 12 candidates, totalling 36 fits\n"
     ]
    },
    {
     "name": "stderr",
     "output_type": "stream",
     "text": [
      "E:\\Anaconda3\\envs\\pytorch\\lib\\site-packages\\sklearn\\model_selection\\_validation.py:378: FitFailedWarning: \n",
      "18 fits failed out of a total of 36.\n",
      "The score on these train-test partitions for these parameters will be set to nan.\n",
      "If these failures are not expected, you can try to debug them by setting error_score='raise'.\n",
      "\n",
      "Below are more details about the failures:\n",
      "--------------------------------------------------------------------------------\n",
      "18 fits failed with the following error:\n",
      "Traceback (most recent call last):\n",
      "  File \"E:\\Anaconda3\\envs\\pytorch\\lib\\site-packages\\sklearn\\model_selection\\_validation.py\", line 686, in _fit_and_score\n",
      "    estimator.fit(X_train, y_train, **fit_params)\n",
      "  File \"E:\\Anaconda3\\envs\\pytorch\\lib\\site-packages\\sklearn\\linear_model\\_logistic.py\", line 1162, in fit\n",
      "    solver = _check_solver(self.solver, self.penalty, self.dual)\n",
      "  File \"E:\\Anaconda3\\envs\\pytorch\\lib\\site-packages\\sklearn\\linear_model\\_logistic.py\", line 54, in _check_solver\n",
      "    raise ValueError(\n",
      "ValueError: Solver lbfgs supports only 'l2' or 'none' penalties, got l1 penalty.\n",
      "\n",
      "  warnings.warn(some_fits_failed_message, FitFailedWarning)\n",
      "E:\\Anaconda3\\envs\\pytorch\\lib\\site-packages\\sklearn\\model_selection\\_search.py:952: UserWarning: One or more of the test scores are non-finite: [0.67355302        nan 0.67476955        nan 0.67173152        nan\n",
      " 0.67173373        nan 0.66930507        nan 0.67294696        nan]\n",
      "  warnings.warn(\n",
      "E:\\Anaconda3\\envs\\pytorch\\lib\\site-packages\\sklearn\\linear_model\\_logistic.py:458: ConvergenceWarning: lbfgs failed to converge (status=1):\n",
      "STOP: TOTAL NO. of ITERATIONS REACHED LIMIT.\n",
      "\n",
      "Increase the number of iterations (max_iter) or scale the data as shown in:\n",
      "    https://scikit-learn.org/stable/modules/preprocessing.html\n",
      "Please also refer to the documentation for alternative solver options:\n",
      "    https://scikit-learn.org/stable/modules/linear_model.html#logistic-regression\n",
      "  n_iter_i = _check_optimize_result(\n"
     ]
    },
    {
     "name": "stdout",
     "output_type": "stream",
     "text": [
      "完成 \n",
      " \n",
      "\n",
      "训练时间(HH:MM:SS.ms)  - 0:00:08.204821\n",
      "\n",
      "\n",
      "训练阶段最大内存使用: 561.25 MB\n",
      "\n",
      "\n",
      "预测测试数据\n",
      "完成 \n",
      " \n",
      "\n",
      "测试时间(HH:MM:SS.ms)  - 0:00:03.107831\n",
      "\n",
      "\n",
      "测试阶段最大内存使用: 583.93 MB\n",
      "\n",
      "\n",
      "---------------------\n",
      "|      准确率       |\n",
      "---------------------\n",
      "\n",
      "    0.7326943556975506\n",
      "\n",
      "\n",
      "--------------------\n",
      "| 混淆矩阵 |\n",
      "--------------------\n",
      "\n",
      " [[1972    0    1   16   36]\n",
      " [ 296    0    0    1    3]\n",
      " [  81    0    0    2   27]\n",
      " [  86    0    0    0   10]\n",
      " [ 182    0    0   12   92]]\n"
     ]
    },
    {
     "name": "stderr",
     "output_type": "stream",
     "text": [
      "C:\\Users\\yuyu\\AppData\\Local\\Temp\\ipykernel_40260\\3027523060.py:64: MatplotlibDeprecationWarning: The 'b' parameter of grid() has been renamed 'visible' since Matplotlib 3.5; support for the old name will be dropped two minor releases later.\n",
      "  plt.grid(b=False)\n",
      "C:\\Users\\yuyu\\AppData\\Local\\Temp\\ipykernel_40260\\3315235828.py:30: UserWarning: Glyph 24402 (\\N{CJK UNIFIED IDEOGRAPH-5F52}) missing from current font.\n",
      "  plt.tight_layout()\n",
      "C:\\Users\\yuyu\\AppData\\Local\\Temp\\ipykernel_40260\\3315235828.py:30: UserWarning: Glyph 19968 (\\N{CJK UNIFIED IDEOGRAPH-4E00}) missing from current font.\n",
      "  plt.tight_layout()\n",
      "C:\\Users\\yuyu\\AppData\\Local\\Temp\\ipykernel_40260\\3315235828.py:30: UserWarning: Glyph 21270 (\\N{CJK UNIFIED IDEOGRAPH-5316}) missing from current font.\n",
      "  plt.tight_layout()\n",
      "C:\\Users\\yuyu\\AppData\\Local\\Temp\\ipykernel_40260\\3315235828.py:30: UserWarning: Glyph 28151 (\\N{CJK UNIFIED IDEOGRAPH-6DF7}) missing from current font.\n",
      "  plt.tight_layout()\n",
      "C:\\Users\\yuyu\\AppData\\Local\\Temp\\ipykernel_40260\\3315235828.py:30: UserWarning: Glyph 28102 (\\N{CJK UNIFIED IDEOGRAPH-6DC6}) missing from current font.\n",
      "  plt.tight_layout()\n",
      "C:\\Users\\yuyu\\AppData\\Local\\Temp\\ipykernel_40260\\3315235828.py:30: UserWarning: Glyph 30697 (\\N{CJK UNIFIED IDEOGRAPH-77E9}) missing from current font.\n",
      "  plt.tight_layout()\n",
      "C:\\Users\\yuyu\\AppData\\Local\\Temp\\ipykernel_40260\\3315235828.py:30: UserWarning: Glyph 38453 (\\N{CJK UNIFIED IDEOGRAPH-9635}) missing from current font.\n",
      "  plt.tight_layout()\n",
      "E:\\Anaconda3\\envs\\pytorch\\lib\\site-packages\\IPython\\core\\pylabtools.py:152: UserWarning: Glyph 24402 (\\N{CJK UNIFIED IDEOGRAPH-5F52}) missing from current font.\n",
      "  fig.canvas.print_figure(bytes_io, **kw)\n",
      "E:\\Anaconda3\\envs\\pytorch\\lib\\site-packages\\IPython\\core\\pylabtools.py:152: UserWarning: Glyph 19968 (\\N{CJK UNIFIED IDEOGRAPH-4E00}) missing from current font.\n",
      "  fig.canvas.print_figure(bytes_io, **kw)\n",
      "E:\\Anaconda3\\envs\\pytorch\\lib\\site-packages\\IPython\\core\\pylabtools.py:152: UserWarning: Glyph 21270 (\\N{CJK UNIFIED IDEOGRAPH-5316}) missing from current font.\n",
      "  fig.canvas.print_figure(bytes_io, **kw)\n",
      "E:\\Anaconda3\\envs\\pytorch\\lib\\site-packages\\IPython\\core\\pylabtools.py:152: UserWarning: Glyph 28151 (\\N{CJK UNIFIED IDEOGRAPH-6DF7}) missing from current font.\n",
      "  fig.canvas.print_figure(bytes_io, **kw)\n",
      "E:\\Anaconda3\\envs\\pytorch\\lib\\site-packages\\IPython\\core\\pylabtools.py:152: UserWarning: Glyph 28102 (\\N{CJK UNIFIED IDEOGRAPH-6DC6}) missing from current font.\n",
      "  fig.canvas.print_figure(bytes_io, **kw)\n",
      "E:\\Anaconda3\\envs\\pytorch\\lib\\site-packages\\IPython\\core\\pylabtools.py:152: UserWarning: Glyph 30697 (\\N{CJK UNIFIED IDEOGRAPH-77E9}) missing from current font.\n",
      "  fig.canvas.print_figure(bytes_io, **kw)\n",
      "E:\\Anaconda3\\envs\\pytorch\\lib\\site-packages\\IPython\\core\\pylabtools.py:152: UserWarning: Glyph 38453 (\\N{CJK UNIFIED IDEOGRAPH-9635}) missing from current font.\n",
      "  fig.canvas.print_figure(bytes_io, **kw)\n"
     ]
    },
    {
     "data": {
      "text/plain": [
       "<Figure size 800x800 with 2 Axes>"
      ],
      "image/png": "[encoded data removed]"
     },
     "metadata": {},
     "output_type": "display_data"
    },
    {
     "name": "stdout",
     "output_type": "stream",
     "text": [
      "-------------------------\n",
      "| 分类报告 |\n",
      "-------------------------\n",
      "              precision    recall  f1-score   support\n",
      "\n",
      "           1       0.75      0.97      0.85      2025\n",
      "           2       0.00      0.00      0.00       300\n",
      "           3       0.00      0.00      0.00       110\n",
      "           4       0.00      0.00      0.00        96\n",
      "           5       0.55      0.32      0.41       286\n",
      "\n",
      "    accuracy                           0.73      2817\n",
      "   macro avg       0.26      0.26      0.25      2817\n",
      "weighted avg       0.60      0.73      0.65      2817\n",
      "\n"
     ]
    },
    {
     "name": "stderr",
     "output_type": "stream",
     "text": [
      "E:\\Anaconda3\\envs\\pytorch\\lib\\site-packages\\sklearn\\metrics\\_classification.py:1344: UndefinedMetricWarning: Precision and F-score are ill-defined and being set to 0.0 in labels with no predicted samples. Use `zero_division` parameter to control this behavior.\n",
      "  _warn_prf(average, modifier, msg_start, len(result))\n",
      "E:\\Anaconda3\\envs\\pytorch\\lib\\site-packages\\sklearn\\metrics\\_classification.py:1344: UndefinedMetricWarning: Precision and F-score are ill-defined and being set to 0.0 in labels with no predicted samples. Use `zero_division` parameter to control this behavior.\n",
      "  _warn_prf(average, modifier, msg_start, len(result))\n",
      "E:\\Anaconda3\\envs\\pytorch\\lib\\site-packages\\sklearn\\metrics\\_classification.py:1344: UndefinedMetricWarning: Precision and F-score are ill-defined and being set to 0.0 in labels with no predicted samples. Use `zero_division` parameter to control this behavior.\n",
      "  _warn_prf(average, modifier, msg_start, len(result))\n"
     ]
    }
   ],
   "execution_count": 28
  },
  {
   "cell_type": "code",
   "metadata": {
    "ExecuteTime": {
     "end_time": "2025-02-08T00:55:50.588569Z",
     "start_time": "2025-02-08T00:55:50.413025Z"
    }
   },
   "source": [
    "plt.figure(figsize=(8,8))\n",
    "plt.grid(b=False)\n",
    "plot_confusion_matrix(log_reg_grid_results['confusion_matrix'], classes=labels, cmap=plt.cm.Reds, )\n",
    "\n",
    "plt.show()"
   ],
   "outputs": [
    {
     "name": "stderr",
     "output_type": "stream",
     "text": [
      "C:\\Users\\yuyu\\AppData\\Local\\Temp\\ipykernel_40260\\181114546.py:2: MatplotlibDeprecationWarning: The 'b' parameter of grid() has been renamed 'visible' since Matplotlib 3.5; support for the old name will be dropped two minor releases later.\n",
      "  plt.grid(b=False)\n"
     ]
    },
    {
     "data": {
      "text/plain": [
       "<Figure size 800x800 with 2 Axes>"
      ],
      "image/png": "[encoded data removed]"
     },
     "metadata": {},
     "output_type": "display_data"
    }
   ],
   "execution_count": 29
  },
  {
   "cell_type": "code",
   "metadata": {
    "ExecuteTime": {
     "end_time": "2025-02-08T00:55:50.668027Z",
     "start_time": "2025-02-08T00:55:50.653070Z"
    }
   },
   "source": [
    "# observe the attributes of the model \n",
    "print_grid_search_attributes(log_reg_grid_results['model'])"
   ],
   "outputs": [
    {
     "name": "stdout",
     "output_type": "stream",
     "text": [
      "--------------------------\n",
      "|      Best Estimator     |\n",
      "--------------------------\n",
      "\n",
      "\tLogisticRegression(C=0.1)\n",
      "\n",
      "--------------------------\n",
      "|     Best parameters     |\n",
      "--------------------------\n",
      "\tParameters of best estimator : \n",
      "\n",
      "\t{'C': 0.1, 'penalty': 'l2'}\n",
      "\n",
      "---------------------------------\n",
      "|   No of CrossValidation sets   |\n",
      "--------------------------------\n",
      "\n",
      "\tTotal numbre of cross validation sets: 3\n",
      "\n",
      "--------------------------\n",
      "|        Best Score       |\n",
      "--------------------------\n",
      "\n",
      "\tAverage Cross Validate scores of best estimator : \n",
      "\n",
      "\t0.674769553458078\n",
      "\n"
     ]
    }
   ],
   "execution_count": 30
  },
  {
   "cell_type": "markdown",
   "metadata": {},
   "source": [
    "# 2. KNN with GridSearch"
   ]
  },
  {
   "cell_type": "code",
   "metadata": {
    "ExecuteTime": {
     "end_time": "2025-02-07T11:50:48.011392Z",
     "start_time": "2025-02-07T11:50:45.120456Z"
    }
   },
   "source": [
    "from sklearn.neighbors import KNeighborsClassifier\n",
    "\n",
    "#knn\n",
    "# start Grid search\n",
    "parameters = {'n_neighbors': [1, 10, 11, 20, 30]}\n",
    "log_knn = KNeighborsClassifier(n_neighbors=6)\n",
    "\n",
    "log_knn_grid = GridSearchCV(log_knn, param_grid=parameters, cv=3, verbose=1, n_jobs=-1)\n",
    "log_knn_grid_results =  perform_model(log_knn_grid, X_train, y_train, X_test, y_test, class_labels=labels)\n"
   ],
   "outputs": [
    {
     "name": "stdout",
     "output_type": "stream",
     "text": [
      "训练模型中..\n",
      "Fitting 3 folds for each of 5 candidates, totalling 15 fits\n",
      "完成 \n",
      " \n",
      "\n",
      "训练时间(HH:MM:SS.ms)  - 0:00:01.159768\n",
      "\n",
      "\n",
      "训练阶段最大内存使用: 564.40 MB\n",
      "\n",
      "\n",
      "预测测试数据\n",
      "完成 \n",
      " \n",
      "\n",
      "测试时间(HH:MM:SS.ms)  - 0:00:01.296224\n",
      "\n",
      "\n",
      "测试阶段最大内存使用: 591.80 MB\n",
      "\n",
      "\n",
      "---------------------\n",
      "|      准确率       |\n",
      "---------------------\n",
      "\n",
      "    0.53177138800142\n",
      "\n",
      "\n",
      "--------------------\n",
      "| 混淆矩阵 |\n",
      "--------------------\n",
      "\n",
      " [[  17   20   49   10    0]\n",
      " [  65   72  101   40    8]\n",
      " [ 151  253 1378  106  137]\n",
      " [   8   30   44   13   15]\n",
      " [  10   51  197   24   18]]\n"
     ]
    },
    {
     "name": "stderr",
     "output_type": "stream",
     "text": [
      "C:\\Users\\yuyu\\AppData\\Local\\Temp\\ipykernel_34940\\3027523060.py:64: MatplotlibDeprecationWarning: The 'b' parameter of grid() has been renamed 'visible' since Matplotlib 3.5; support for the old name will be dropped two minor releases later.\n",
      "  plt.grid(b=False)\n",
      "C:\\Users\\yuyu\\AppData\\Local\\Temp\\ipykernel_34940\\3315235828.py:30: UserWarning: Glyph 24402 (\\N{CJK UNIFIED IDEOGRAPH-5F52}) missing from current font.\n",
      "  plt.tight_layout()\n",
      "C:\\Users\\yuyu\\AppData\\Local\\Temp\\ipykernel_34940\\3315235828.py:30: UserWarning: Glyph 19968 (\\N{CJK UNIFIED IDEOGRAPH-4E00}) missing from current font.\n",
      "  plt.tight_layout()\n",
      "C:\\Users\\yuyu\\AppData\\Local\\Temp\\ipykernel_34940\\3315235828.py:30: UserWarning: Glyph 21270 (\\N{CJK UNIFIED IDEOGRAPH-5316}) missing from current font.\n",
      "  plt.tight_layout()\n",
      "C:\\Users\\yuyu\\AppData\\Local\\Temp\\ipykernel_34940\\3315235828.py:30: UserWarning: Glyph 28151 (\\N{CJK UNIFIED IDEOGRAPH-6DF7}) missing from current font.\n",
      "  plt.tight_layout()\n",
      "C:\\Users\\yuyu\\AppData\\Local\\Temp\\ipykernel_34940\\3315235828.py:30: UserWarning: Glyph 28102 (\\N{CJK UNIFIED IDEOGRAPH-6DC6}) missing from current font.\n",
      "  plt.tight_layout()\n",
      "C:\\Users\\yuyu\\AppData\\Local\\Temp\\ipykernel_34940\\3315235828.py:30: UserWarning: Glyph 30697 (\\N{CJK UNIFIED IDEOGRAPH-77E9}) missing from current font.\n",
      "  plt.tight_layout()\n",
      "C:\\Users\\yuyu\\AppData\\Local\\Temp\\ipykernel_34940\\3315235828.py:30: UserWarning: Glyph 38453 (\\N{CJK UNIFIED IDEOGRAPH-9635}) missing from current font.\n",
      "  plt.tight_layout()\n",
      "E:\\Anaconda3\\envs\\pytorch\\lib\\site-packages\\IPython\\core\\pylabtools.py:152: UserWarning: Glyph 24402 (\\N{CJK UNIFIED IDEOGRAPH-5F52}) missing from current font.\n",
      "  fig.canvas.print_figure(bytes_io, **kw)\n",
      "E:\\Anaconda3\\envs\\pytorch\\lib\\site-packages\\IPython\\core\\pylabtools.py:152: UserWarning: Glyph 19968 (\\N{CJK UNIFIED IDEOGRAPH-4E00}) missing from current font.\n",
      "  fig.canvas.print_figure(bytes_io, **kw)\n",
      "E:\\Anaconda3\\envs\\pytorch\\lib\\site-packages\\IPython\\core\\pylabtools.py:152: UserWarning: Glyph 21270 (\\N{CJK UNIFIED IDEOGRAPH-5316}) missing from current font.\n",
      "  fig.canvas.print_figure(bytes_io, **kw)\n",
      "E:\\Anaconda3\\envs\\pytorch\\lib\\site-packages\\IPython\\core\\pylabtools.py:152: UserWarning: Glyph 28151 (\\N{CJK UNIFIED IDEOGRAPH-6DF7}) missing from current font.\n",
      "  fig.canvas.print_figure(bytes_io, **kw)\n",
      "E:\\Anaconda3\\envs\\pytorch\\lib\\site-packages\\IPython\\core\\pylabtools.py:152: UserWarning: Glyph 28102 (\\N{CJK UNIFIED IDEOGRAPH-6DC6}) missing from current font.\n",
      "  fig.canvas.print_figure(bytes_io, **kw)\n",
      "E:\\Anaconda3\\envs\\pytorch\\lib\\site-packages\\IPython\\core\\pylabtools.py:152: UserWarning: Glyph 30697 (\\N{CJK UNIFIED IDEOGRAPH-77E9}) missing from current font.\n",
      "  fig.canvas.print_figure(bytes_io, **kw)\n",
      "E:\\Anaconda3\\envs\\pytorch\\lib\\site-packages\\IPython\\core\\pylabtools.py:152: UserWarning: Glyph 38453 (\\N{CJK UNIFIED IDEOGRAPH-9635}) missing from current font.\n",
      "  fig.canvas.print_figure(bytes_io, **kw)\n"
     ]
    },
    {
     "data": {
      "text/plain": [
       "<Figure size 800x800 with 2 Axes>"
      ],
      "image/png": "[encoded data removed]"
     },
     "metadata": {},
     "output_type": "display_data"
    },
    {
     "name": "stdout",
     "output_type": "stream",
     "text": [
      "-------------------------\n",
      "| 分类报告 |\n",
      "-------------------------\n",
      "                        precision    recall  f1-score   support\n",
      "\n",
      "               Bending       0.07      0.18      0.10        96\n",
      "             Squatting       0.17      0.25      0.20       286\n",
      "              Standing       0.78      0.68      0.73      2025\n",
      "Transitional movements       0.07      0.12      0.09       110\n",
      "               Walking       0.10      0.06      0.08       300\n",
      "\n",
      "              accuracy                           0.53      2817\n",
      "             macro avg       0.24      0.26      0.24      2817\n",
      "          weighted avg       0.59      0.53      0.56      2817\n",
      "\n"
     ]
    }
   ],
   "execution_count": 19
  },
  {
   "cell_type": "code",
   "metadata": {
    "ExecuteTime": {
     "end_time": "2025-02-07T11:50:48.370902Z",
     "start_time": "2025-02-07T11:50:48.178439Z"
    }
   },
   "source": [
    "plt.figure(figsize=(8,8))\n",
    "plt.grid(b=False)\n",
    "plot_confusion_matrix(log_knn_grid_results['confusion_matrix'], classes=labels, cmap=plt.cm.Reds, )\n",
    "\n",
    "plt.show()"
   ],
   "outputs": [
    {
     "name": "stderr",
     "output_type": "stream",
     "text": [
      "C:\\Users\\yuyu\\AppData\\Local\\Temp\\ipykernel_34940\\2556982687.py:2: MatplotlibDeprecationWarning: The 'b' parameter of grid() has been renamed 'visible' since Matplotlib 3.5; support for the old name will be dropped two minor releases later.\n",
      "  plt.grid(b=False)\n"
     ]
    },
    {
     "data": {
      "text/plain": [
       "<Figure size 800x800 with 2 Axes>"
      ],
      "image/png": "[encoded data removed]"
     },
     "metadata": {},
     "output_type": "display_data"
    }
   ],
   "execution_count": 20
  },
  {
   "cell_type": "code",
   "metadata": {
    "ExecuteTime": {
     "end_time": "2025-02-07T11:50:48.497916Z",
     "start_time": "2025-02-07T11:50:48.486911Z"
    }
   },
   "source": [
    "# observe the attributes of the model \n",
    "print_grid_search_attributes(log_knn_grid_results['model'])"
   ],
   "outputs": [
    {
     "name": "stdout",
     "output_type": "stream",
     "text": [
      "--------------------------\n",
      "|      Best Estimator     |\n",
      "--------------------------\n",
      "\n",
      "\tKNeighborsClassifier(n_neighbors=1)\n",
      "\n",
      "--------------------------\n",
      "|     Best parameters     |\n",
      "--------------------------\n",
      "\tParameters of best estimator : \n",
      "\n",
      "\t{'n_neighbors': 1}\n",
      "\n",
      "---------------------------------\n",
      "|   No of CrossValidation sets   |\n",
      "--------------------------------\n",
      "\n",
      "\tTotal numbre of cross validation sets: 3\n",
      "\n",
      "--------------------------\n",
      "|        Best Score       |\n",
      "--------------------------\n",
      "\n",
      "\tAverage Cross Validate scores of best estimator : \n",
      "\n",
      "\t0.6947949439752718\n",
      "\n"
     ]
    }
   ],
   "execution_count": 21
  },
  {
   "cell_type": "markdown",
   "metadata": {
    "collapsed": true
   },
   "source": [
    "#  3. Linear SVC with GridSearch"
   ]
  },
  {
   "cell_type": "code",
   "metadata": {
    "ExecuteTime": {
     "end_time": "2025-02-07T11:50:51.020417Z",
     "start_time": "2025-02-07T11:50:51.006462Z"
    }
   },
   "source": [
    "from sklearn.svm import LinearSVC"
   ],
   "outputs": [],
   "execution_count": 22
  },
  {
   "cell_type": "code",
   "metadata": {
    "scrolled": false,
    "ExecuteTime": {
     "end_time": "2025-02-07T11:51:34.241659Z",
     "start_time": "2025-02-07T11:50:52.184947Z"
    }
   },
   "source": [
    "parameters = {'C':[0.125, 0.5]}\n",
    "lr_svc = LinearSVC(tol=0.00005)\n",
    "lr_svc_grid = GridSearchCV(lr_svc, param_grid=parameters, n_jobs=-1, verbose=1)\n",
    "lr_svc_grid_results = perform_model(lr_svc_grid, X_train, y_train, X_test, y_test, class_labels=labels)"
   ],
   "outputs": [
    {
     "name": "stdout",
     "output_type": "stream",
     "text": [
      "训练模型中..\n",
      "Fitting 5 folds for each of 2 candidates, totalling 10 fits\n"
     ]
    },
    {
     "name": "stderr",
     "output_type": "stream",
     "text": [
      "E:\\Anaconda3\\envs\\pytorch\\lib\\site-packages\\sklearn\\svm\\_base.py:1244: ConvergenceWarning: Liblinear failed to converge, increase the number of iterations.\n",
      "  warnings.warn(\n"
     ]
    },
    {
     "name": "stdout",
     "output_type": "stream",
     "text": [
      "完成 \n",
      " \n",
      "\n",
      "训练时间(HH:MM:SS.ms)  - 0:00:39.609984\n",
      "\n",
      "\n",
      "训练阶段最大内存使用: 610.83 MB\n",
      "\n",
      "\n",
      "预测测试数据\n",
      "完成 \n",
      " \n",
      "\n",
      "测试时间(HH:MM:SS.ms)  - 0:00:02.207406\n",
      "\n",
      "\n",
      "测试阶段最大内存使用: 596.75 MB\n",
      "\n",
      "\n",
      "---------------------\n",
      "|      准确率       |\n",
      "---------------------\n",
      "\n",
      "    0.1270855520056798\n",
      "\n",
      "\n",
      "--------------------\n",
      "| 混淆矩阵 |\n",
      "--------------------\n",
      "\n",
      " [[   0    0    0   96    0]\n",
      " [   0    0    0  286    0]\n",
      " [   0    2  249 1774    0]\n",
      " [   0    2    0  107    1]\n",
      " [   0    0    2  296    2]]\n"
     ]
    },
    {
     "name": "stderr",
     "output_type": "stream",
     "text": [
      "C:\\Users\\yuyu\\AppData\\Local\\Temp\\ipykernel_34940\\3027523060.py:64: MatplotlibDeprecationWarning: The 'b' parameter of grid() has been renamed 'visible' since Matplotlib 3.5; support for the old name will be dropped two minor releases later.\n",
      "  plt.grid(b=False)\n",
      "C:\\Users\\yuyu\\AppData\\Local\\Temp\\ipykernel_34940\\3315235828.py:30: UserWarning: Glyph 24402 (\\N{CJK UNIFIED IDEOGRAPH-5F52}) missing from current font.\n",
      "  plt.tight_layout()\n",
      "C:\\Users\\yuyu\\AppData\\Local\\Temp\\ipykernel_34940\\3315235828.py:30: UserWarning: Glyph 19968 (\\N{CJK UNIFIED IDEOGRAPH-4E00}) missing from current font.\n",
      "  plt.tight_layout()\n",
      "C:\\Users\\yuyu\\AppData\\Local\\Temp\\ipykernel_34940\\3315235828.py:30: UserWarning: Glyph 21270 (\\N{CJK UNIFIED IDEOGRAPH-5316}) missing from current font.\n",
      "  plt.tight_layout()\n",
      "C:\\Users\\yuyu\\AppData\\Local\\Temp\\ipykernel_34940\\3315235828.py:30: UserWarning: Glyph 28151 (\\N{CJK UNIFIED IDEOGRAPH-6DF7}) missing from current font.\n",
      "  plt.tight_layout()\n",
      "C:\\Users\\yuyu\\AppData\\Local\\Temp\\ipykernel_34940\\3315235828.py:30: UserWarning: Glyph 28102 (\\N{CJK UNIFIED IDEOGRAPH-6DC6}) missing from current font.\n",
      "  plt.tight_layout()\n",
      "C:\\Users\\yuyu\\AppData\\Local\\Temp\\ipykernel_34940\\3315235828.py:30: UserWarning: Glyph 30697 (\\N{CJK UNIFIED IDEOGRAPH-77E9}) missing from current font.\n",
      "  plt.tight_layout()\n",
      "C:\\Users\\yuyu\\AppData\\Local\\Temp\\ipykernel_34940\\3315235828.py:30: UserWarning: Glyph 38453 (\\N{CJK UNIFIED IDEOGRAPH-9635}) missing from current font.\n",
      "  plt.tight_layout()\n",
      "E:\\Anaconda3\\envs\\pytorch\\lib\\site-packages\\IPython\\core\\pylabtools.py:152: UserWarning: Glyph 24402 (\\N{CJK UNIFIED IDEOGRAPH-5F52}) missing from current font.\n",
      "  fig.canvas.print_figure(bytes_io, **kw)\n",
      "E:\\Anaconda3\\envs\\pytorch\\lib\\site-packages\\IPython\\core\\pylabtools.py:152: UserWarning: Glyph 19968 (\\N{CJK UNIFIED IDEOGRAPH-4E00}) missing from current font.\n",
      "  fig.canvas.print_figure(bytes_io, **kw)\n",
      "E:\\Anaconda3\\envs\\pytorch\\lib\\site-packages\\IPython\\core\\pylabtools.py:152: UserWarning: Glyph 21270 (\\N{CJK UNIFIED IDEOGRAPH-5316}) missing from current font.\n",
      "  fig.canvas.print_figure(bytes_io, **kw)\n",
      "E:\\Anaconda3\\envs\\pytorch\\lib\\site-packages\\IPython\\core\\pylabtools.py:152: UserWarning: Glyph 28151 (\\N{CJK UNIFIED IDEOGRAPH-6DF7}) missing from current font.\n",
      "  fig.canvas.print_figure(bytes_io, **kw)\n",
      "E:\\Anaconda3\\envs\\pytorch\\lib\\site-packages\\IPython\\core\\pylabtools.py:152: UserWarning: Glyph 28102 (\\N{CJK UNIFIED IDEOGRAPH-6DC6}) missing from current font.\n",
      "  fig.canvas.print_figure(bytes_io, **kw)\n",
      "E:\\Anaconda3\\envs\\pytorch\\lib\\site-packages\\IPython\\core\\pylabtools.py:152: UserWarning: Glyph 30697 (\\N{CJK UNIFIED IDEOGRAPH-77E9}) missing from current font.\n",
      "  fig.canvas.print_figure(bytes_io, **kw)\n",
      "E:\\Anaconda3\\envs\\pytorch\\lib\\site-packages\\IPython\\core\\pylabtools.py:152: UserWarning: Glyph 38453 (\\N{CJK UNIFIED IDEOGRAPH-9635}) missing from current font.\n",
      "  fig.canvas.print_figure(bytes_io, **kw)\n"
     ]
    },
    {
     "data": {
      "text/plain": [
       "<Figure size 800x800 with 2 Axes>"
      ],
      "image/png": "[encoded data removed]"
     },
     "metadata": {},
     "output_type": "display_data"
    },
    {
     "name": "stdout",
     "output_type": "stream",
     "text": [
      "-------------------------\n",
      "| 分类报告 |\n",
      "-------------------------\n"
     ]
    },
    {
     "name": "stderr",
     "output_type": "stream",
     "text": [
      "E:\\Anaconda3\\envs\\pytorch\\lib\\site-packages\\sklearn\\metrics\\_classification.py:1344: UndefinedMetricWarning: Precision and F-score are ill-defined and being set to 0.0 in labels with no predicted samples. Use `zero_division` parameter to control this behavior.\n",
      "  _warn_prf(average, modifier, msg_start, len(result))\n"
     ]
    },
    {
     "name": "stdout",
     "output_type": "stream",
     "text": [
      "                        precision    recall  f1-score   support\n",
      "\n",
      "               Bending       0.00      0.00      0.00        96\n",
      "             Squatting       0.00      0.00      0.00       286\n",
      "              Standing       0.99      0.12      0.22      2025\n",
      "Transitional movements       0.04      0.97      0.08       110\n",
      "               Walking       0.67      0.01      0.01       300\n",
      "\n",
      "              accuracy                           0.13      2817\n",
      "             macro avg       0.34      0.22      0.06      2817\n",
      "          weighted avg       0.79      0.13      0.16      2817\n",
      "\n"
     ]
    },
    {
     "name": "stderr",
     "output_type": "stream",
     "text": [
      "E:\\Anaconda3\\envs\\pytorch\\lib\\site-packages\\sklearn\\metrics\\_classification.py:1344: UndefinedMetricWarning: Precision and F-score are ill-defined and being set to 0.0 in labels with no predicted samples. Use `zero_division` parameter to control this behavior.\n",
      "  _warn_prf(average, modifier, msg_start, len(result))\n",
      "E:\\Anaconda3\\envs\\pytorch\\lib\\site-packages\\sklearn\\metrics\\_classification.py:1344: UndefinedMetricWarning: Precision and F-score are ill-defined and being set to 0.0 in labels with no predicted samples. Use `zero_division` parameter to control this behavior.\n",
      "  _warn_prf(average, modifier, msg_start, len(result))\n"
     ]
    }
   ],
   "execution_count": 23
  },
  {
   "cell_type": "code",
   "metadata": {
    "ExecuteTime": {
     "end_time": "2025-02-07T11:51:34.508776Z",
     "start_time": "2025-02-07T11:51:34.504221Z"
    }
   },
   "source": [
    "print_grid_search_attributes(lr_svc_grid_results['model'])"
   ],
   "outputs": [
    {
     "name": "stdout",
     "output_type": "stream",
     "text": [
      "--------------------------\n",
      "|      Best Estimator     |\n",
      "--------------------------\n",
      "\n",
      "\tLinearSVC(C=0.5, tol=5e-05)\n",
      "\n",
      "--------------------------\n",
      "|     Best parameters     |\n",
      "--------------------------\n",
      "\tParameters of best estimator : \n",
      "\n",
      "\t{'C': 0.5}\n",
      "\n",
      "---------------------------------\n",
      "|   No of CrossValidation sets   |\n",
      "--------------------------------\n",
      "\n",
      "\tTotal numbre of cross validation sets: 5\n",
      "\n",
      "--------------------------\n",
      "|        Best Score       |\n",
      "--------------------------\n",
      "\n",
      "\tAverage Cross Validate scores of best estimator : \n",
      "\n",
      "\t0.6292272266740352\n",
      "\n"
     ]
    }
   ],
   "execution_count": 24
  },
  {
   "cell_type": "markdown",
   "metadata": {},
   "source": [
    "# 4.  Kernel SVM with GridSearch"
   ]
  },
  {
   "cell_type": "code",
   "metadata": {
    "scrolled": false,
    "ExecuteTime": {
     "end_time": "2025-02-07T11:51:56.308788Z",
     "start_time": "2025-02-07T11:51:34.579269Z"
    }
   },
   "source": [
    "from sklearn.svm import SVC\n",
    "parameters = {'C':[2,8],\\\n",
    "              'gamma': [0.125, 2]}\n",
    "rbf_svm = SVC(kernel='rbf')\n",
    "rbf_svm_grid = GridSearchCV(rbf_svm,param_grid=parameters, n_jobs=-1)\n",
    "rbf_svm_grid_results = perform_model(rbf_svm_grid, X_train, y_train, X_test, y_test, class_labels=labels)"
   ],
   "outputs": [
    {
     "name": "stdout",
     "output_type": "stream",
     "text": [
      "训练模型中..\n",
      "完成 \n",
      " \n",
      "\n",
      "训练时间(HH:MM:SS.ms)  - 0:00:14.585521\n",
      "\n",
      "\n",
      "训练阶段最大内存使用: 594.55 MB\n",
      "\n",
      "\n",
      "预测测试数据\n",
      "完成 \n",
      " \n",
      "\n",
      "测试时间(HH:MM:SS.ms)  - 0:00:06.923838\n",
      "\n",
      "\n",
      "测试阶段最大内存使用: 612.49 MB\n",
      "\n",
      "\n",
      "---------------------\n",
      "|      准确率       |\n",
      "---------------------\n",
      "\n",
      "    0.7188498402555911\n",
      "\n",
      "\n",
      "--------------------\n",
      "| 混淆矩阵 |\n",
      "--------------------\n",
      "\n",
      " [[   0    0   96    0    0]\n",
      " [   0    0  286    0    0]\n",
      " [   0    0 2025    0    0]\n",
      " [   0    0  110    0    0]\n",
      " [   0    0  300    0    0]]\n"
     ]
    },
    {
     "name": "stderr",
     "output_type": "stream",
     "text": [
      "C:\\Users\\yuyu\\AppData\\Local\\Temp\\ipykernel_34940\\3027523060.py:64: MatplotlibDeprecationWarning: The 'b' parameter of grid() has been renamed 'visible' since Matplotlib 3.5; support for the old name will be dropped two minor releases later.\n",
      "  plt.grid(b=False)\n",
      "C:\\Users\\yuyu\\AppData\\Local\\Temp\\ipykernel_34940\\3315235828.py:30: UserWarning: Glyph 24402 (\\N{CJK UNIFIED IDEOGRAPH-5F52}) missing from current font.\n",
      "  plt.tight_layout()\n",
      "C:\\Users\\yuyu\\AppData\\Local\\Temp\\ipykernel_34940\\3315235828.py:30: UserWarning: Glyph 19968 (\\N{CJK UNIFIED IDEOGRAPH-4E00}) missing from current font.\n",
      "  plt.tight_layout()\n",
      "C:\\Users\\yuyu\\AppData\\Local\\Temp\\ipykernel_34940\\3315235828.py:30: UserWarning: Glyph 21270 (\\N{CJK UNIFIED IDEOGRAPH-5316}) missing from current font.\n",
      "  plt.tight_layout()\n",
      "C:\\Users\\yuyu\\AppData\\Local\\Temp\\ipykernel_34940\\3315235828.py:30: UserWarning: Glyph 28151 (\\N{CJK UNIFIED IDEOGRAPH-6DF7}) missing from current font.\n",
      "  plt.tight_layout()\n",
      "C:\\Users\\yuyu\\AppData\\Local\\Temp\\ipykernel_34940\\3315235828.py:30: UserWarning: Glyph 28102 (\\N{CJK UNIFIED IDEOGRAPH-6DC6}) missing from current font.\n",
      "  plt.tight_layout()\n",
      "C:\\Users\\yuyu\\AppData\\Local\\Temp\\ipykernel_34940\\3315235828.py:30: UserWarning: Glyph 30697 (\\N{CJK UNIFIED IDEOGRAPH-77E9}) missing from current font.\n",
      "  plt.tight_layout()\n",
      "C:\\Users\\yuyu\\AppData\\Local\\Temp\\ipykernel_34940\\3315235828.py:30: UserWarning: Glyph 38453 (\\N{CJK UNIFIED IDEOGRAPH-9635}) missing from current font.\n",
      "  plt.tight_layout()\n",
      "E:\\Anaconda3\\envs\\pytorch\\lib\\site-packages\\IPython\\core\\pylabtools.py:152: UserWarning: Glyph 24402 (\\N{CJK UNIFIED IDEOGRAPH-5F52}) missing from current font.\n",
      "  fig.canvas.print_figure(bytes_io, **kw)\n",
      "E:\\Anaconda3\\envs\\pytorch\\lib\\site-packages\\IPython\\core\\pylabtools.py:152: UserWarning: Glyph 19968 (\\N{CJK UNIFIED IDEOGRAPH-4E00}) missing from current font.\n",
      "  fig.canvas.print_figure(bytes_io, **kw)\n",
      "E:\\Anaconda3\\envs\\pytorch\\lib\\site-packages\\IPython\\core\\pylabtools.py:152: UserWarning: Glyph 21270 (\\N{CJK UNIFIED IDEOGRAPH-5316}) missing from current font.\n",
      "  fig.canvas.print_figure(bytes_io, **kw)\n",
      "E:\\Anaconda3\\envs\\pytorch\\lib\\site-packages\\IPython\\core\\pylabtools.py:152: UserWarning: Glyph 28151 (\\N{CJK UNIFIED IDEOGRAPH-6DF7}) missing from current font.\n",
      "  fig.canvas.print_figure(bytes_io, **kw)\n",
      "E:\\Anaconda3\\envs\\pytorch\\lib\\site-packages\\IPython\\core\\pylabtools.py:152: UserWarning: Glyph 28102 (\\N{CJK UNIFIED IDEOGRAPH-6DC6}) missing from current font.\n",
      "  fig.canvas.print_figure(bytes_io, **kw)\n",
      "E:\\Anaconda3\\envs\\pytorch\\lib\\site-packages\\IPython\\core\\pylabtools.py:152: UserWarning: Glyph 30697 (\\N{CJK UNIFIED IDEOGRAPH-77E9}) missing from current font.\n",
      "  fig.canvas.print_figure(bytes_io, **kw)\n",
      "E:\\Anaconda3\\envs\\pytorch\\lib\\site-packages\\IPython\\core\\pylabtools.py:152: UserWarning: Glyph 38453 (\\N{CJK UNIFIED IDEOGRAPH-9635}) missing from current font.\n",
      "  fig.canvas.print_figure(bytes_io, **kw)\n"
     ]
    },
    {
     "data": {
      "text/plain": [
       "<Figure size 800x800 with 2 Axes>"
      ],
      "image/png": "[encoded data removed]"
     },
     "metadata": {},
     "output_type": "display_data"
    },
    {
     "name": "stdout",
     "output_type": "stream",
     "text": [
      "-------------------------\n",
      "| 分类报告 |\n",
      "-------------------------\n",
      "                        precision    recall  f1-score   support\n",
      "\n",
      "               Bending       0.00      0.00      0.00        96\n",
      "             Squatting       0.00      0.00      0.00       286\n",
      "              Standing       0.72      1.00      0.84      2025\n",
      "Transitional movements       0.00      0.00      0.00       110\n",
      "               Walking       0.00      0.00      0.00       300\n",
      "\n",
      "              accuracy                           0.72      2817\n",
      "             macro avg       0.14      0.20      0.17      2817\n",
      "          weighted avg       0.52      0.72      0.60      2817\n",
      "\n"
     ]
    },
    {
     "name": "stderr",
     "output_type": "stream",
     "text": [
      "E:\\Anaconda3\\envs\\pytorch\\lib\\site-packages\\sklearn\\metrics\\_classification.py:1344: UndefinedMetricWarning: Precision and F-score are ill-defined and being set to 0.0 in labels with no predicted samples. Use `zero_division` parameter to control this behavior.\n",
      "  _warn_prf(average, modifier, msg_start, len(result))\n",
      "E:\\Anaconda3\\envs\\pytorch\\lib\\site-packages\\sklearn\\metrics\\_classification.py:1344: UndefinedMetricWarning: Precision and F-score are ill-defined and being set to 0.0 in labels with no predicted samples. Use `zero_division` parameter to control this behavior.\n",
      "  _warn_prf(average, modifier, msg_start, len(result))\n",
      "E:\\Anaconda3\\envs\\pytorch\\lib\\site-packages\\sklearn\\metrics\\_classification.py:1344: UndefinedMetricWarning: Precision and F-score are ill-defined and being set to 0.0 in labels with no predicted samples. Use `zero_division` parameter to control this behavior.\n",
      "  _warn_prf(average, modifier, msg_start, len(result))\n"
     ]
    }
   ],
   "execution_count": 25
  },
  {
   "cell_type": "code",
   "metadata": {
    "ExecuteTime": {
     "end_time": "2025-02-07T11:51:56.574284Z",
     "start_time": "2025-02-07T11:51:56.559284Z"
    }
   },
   "source": [
    "print_grid_search_attributes(rbf_svm_grid_results['model'])"
   ],
   "outputs": [
    {
     "name": "stdout",
     "output_type": "stream",
     "text": [
      "--------------------------\n",
      "|      Best Estimator     |\n",
      "--------------------------\n",
      "\n",
      "\tSVC(C=2, gamma=0.125)\n",
      "\n",
      "--------------------------\n",
      "|     Best parameters     |\n",
      "--------------------------\n",
      "\tParameters of best estimator : \n",
      "\n",
      "\t{'C': 2, 'gamma': 0.125}\n",
      "\n",
      "---------------------------------\n",
      "|   No of CrossValidation sets   |\n",
      "--------------------------------\n",
      "\n",
      "\tTotal numbre of cross validation sets: 5\n",
      "\n",
      "--------------------------\n",
      "|        Best Score       |\n",
      "--------------------------\n",
      "\n",
      "\tAverage Cross Validate scores of best estimator : \n",
      "\n",
      "\t0.49393202542138714\n",
      "\n"
     ]
    }
   ],
   "execution_count": 26
  },
  {
   "cell_type": "markdown",
   "metadata": {
    "collapsed": true
   },
   "source": [
    "# 5. Decision Trees with GridSearchCV"
   ]
  },
  {
   "cell_type": "code",
   "metadata": {
    "scrolled": false,
    "ExecuteTime": {
     "end_time": "2025-02-07T11:52:01.234016Z",
     "start_time": "2025-02-07T11:51:56.629810Z"
    }
   },
   "source": [
    "from sklearn.tree import DecisionTreeClassifier\n",
    "parameters = {'max_depth':np.arange(3,6,2)}\n",
    "dt = DecisionTreeClassifier()\n",
    "dt_grid = GridSearchCV(dt,param_grid=parameters, n_jobs=-1)\n",
    "dt_grid_results = perform_model(dt_grid, X_train, y_train, X_test, y_test, class_labels=labels)\n",
    "print_grid_search_attributes(dt_grid_results['model'])"
   ],
   "outputs": [
    {
     "name": "stdout",
     "output_type": "stream",
     "text": [
      "训练模型中..\n",
      "完成 \n",
      " \n",
      "\n",
      "训练时间(HH:MM:SS.ms)  - 0:00:02.036015\n",
      "\n",
      "\n",
      "训练阶段最大内存使用: 600.09 MB\n",
      "\n",
      "\n",
      "预测测试数据\n",
      "完成 \n",
      " \n",
      "\n",
      "测试时间(HH:MM:SS.ms)  - 0:00:02.237136\n",
      "\n",
      "\n",
      "测试阶段最大内存使用: 622.93 MB\n",
      "\n",
      "\n",
      "---------------------\n",
      "|      准确率       |\n",
      "---------------------\n",
      "\n",
      "    0.8739794107206248\n",
      "\n",
      "\n",
      "--------------------\n",
      "| 混淆矩阵 |\n",
      "--------------------\n",
      "\n",
      " [[   6    6   83    0    1]\n",
      " [   8  253   24    0    1]\n",
      " [   0    0 2013    0   12]\n",
      " [   3   23   64    6   14]\n",
      " [   0    2  113    1  184]]\n"
     ]
    },
    {
     "name": "stderr",
     "output_type": "stream",
     "text": [
      "C:\\Users\\yuyu\\AppData\\Local\\Temp\\ipykernel_34940\\3027523060.py:64: MatplotlibDeprecationWarning: The 'b' parameter of grid() has been renamed 'visible' since Matplotlib 3.5; support for the old name will be dropped two minor releases later.\n",
      "  plt.grid(b=False)\n",
      "C:\\Users\\yuyu\\AppData\\Local\\Temp\\ipykernel_34940\\3315235828.py:30: UserWarning: Glyph 24402 (\\N{CJK UNIFIED IDEOGRAPH-5F52}) missing from current font.\n",
      "  plt.tight_layout()\n",
      "C:\\Users\\yuyu\\AppData\\Local\\Temp\\ipykernel_34940\\3315235828.py:30: UserWarning: Glyph 19968 (\\N{CJK UNIFIED IDEOGRAPH-4E00}) missing from current font.\n",
      "  plt.tight_layout()\n",
      "C:\\Users\\yuyu\\AppData\\Local\\Temp\\ipykernel_34940\\3315235828.py:30: UserWarning: Glyph 21270 (\\N{CJK UNIFIED IDEOGRAPH-5316}) missing from current font.\n",
      "  plt.tight_layout()\n",
      "C:\\Users\\yuyu\\AppData\\Local\\Temp\\ipykernel_34940\\3315235828.py:30: UserWarning: Glyph 28151 (\\N{CJK UNIFIED IDEOGRAPH-6DF7}) missing from current font.\n",
      "  plt.tight_layout()\n",
      "C:\\Users\\yuyu\\AppData\\Local\\Temp\\ipykernel_34940\\3315235828.py:30: UserWarning: Glyph 28102 (\\N{CJK UNIFIED IDEOGRAPH-6DC6}) missing from current font.\n",
      "  plt.tight_layout()\n",
      "C:\\Users\\yuyu\\AppData\\Local\\Temp\\ipykernel_34940\\3315235828.py:30: UserWarning: Glyph 30697 (\\N{CJK UNIFIED IDEOGRAPH-77E9}) missing from current font.\n",
      "  plt.tight_layout()\n",
      "C:\\Users\\yuyu\\AppData\\Local\\Temp\\ipykernel_34940\\3315235828.py:30: UserWarning: Glyph 38453 (\\N{CJK UNIFIED IDEOGRAPH-9635}) missing from current font.\n",
      "  plt.tight_layout()\n",
      "E:\\Anaconda3\\envs\\pytorch\\lib\\site-packages\\IPython\\core\\pylabtools.py:152: UserWarning: Glyph 24402 (\\N{CJK UNIFIED IDEOGRAPH-5F52}) missing from current font.\n",
      "  fig.canvas.print_figure(bytes_io, **kw)\n",
      "E:\\Anaconda3\\envs\\pytorch\\lib\\site-packages\\IPython\\core\\pylabtools.py:152: UserWarning: Glyph 19968 (\\N{CJK UNIFIED IDEOGRAPH-4E00}) missing from current font.\n",
      "  fig.canvas.print_figure(bytes_io, **kw)\n",
      "E:\\Anaconda3\\envs\\pytorch\\lib\\site-packages\\IPython\\core\\pylabtools.py:152: UserWarning: Glyph 21270 (\\N{CJK UNIFIED IDEOGRAPH-5316}) missing from current font.\n",
      "  fig.canvas.print_figure(bytes_io, **kw)\n",
      "E:\\Anaconda3\\envs\\pytorch\\lib\\site-packages\\IPython\\core\\pylabtools.py:152: UserWarning: Glyph 28151 (\\N{CJK UNIFIED IDEOGRAPH-6DF7}) missing from current font.\n",
      "  fig.canvas.print_figure(bytes_io, **kw)\n",
      "E:\\Anaconda3\\envs\\pytorch\\lib\\site-packages\\IPython\\core\\pylabtools.py:152: UserWarning: Glyph 28102 (\\N{CJK UNIFIED IDEOGRAPH-6DC6}) missing from current font.\n",
      "  fig.canvas.print_figure(bytes_io, **kw)\n",
      "E:\\Anaconda3\\envs\\pytorch\\lib\\site-packages\\IPython\\core\\pylabtools.py:152: UserWarning: Glyph 30697 (\\N{CJK UNIFIED IDEOGRAPH-77E9}) missing from current font.\n",
      "  fig.canvas.print_figure(bytes_io, **kw)\n",
      "E:\\Anaconda3\\envs\\pytorch\\lib\\site-packages\\IPython\\core\\pylabtools.py:152: UserWarning: Glyph 38453 (\\N{CJK UNIFIED IDEOGRAPH-9635}) missing from current font.\n",
      "  fig.canvas.print_figure(bytes_io, **kw)\n"
     ]
    },
    {
     "data": {
      "text/plain": [
       "<Figure size 800x800 with 2 Axes>"
      ],
      "image/png": "[encoded data removed]"
     },
     "metadata": {},
     "output_type": "display_data"
    },
    {
     "name": "stdout",
     "output_type": "stream",
     "text": [
      "-------------------------\n",
      "| 分类报告 |\n",
      "-------------------------\n",
      "                        precision    recall  f1-score   support\n",
      "\n",
      "               Bending       0.35      0.06      0.11        96\n",
      "             Squatting       0.89      0.88      0.89       286\n",
      "              Standing       0.88      0.99      0.93      2025\n",
      "Transitional movements       0.86      0.05      0.10       110\n",
      "               Walking       0.87      0.61      0.72       300\n",
      "\n",
      "              accuracy                           0.87      2817\n",
      "             macro avg       0.77      0.52      0.55      2817\n",
      "          weighted avg       0.86      0.87      0.84      2817\n",
      "\n",
      "--------------------------\n",
      "|      Best Estimator     |\n",
      "--------------------------\n",
      "\n",
      "\tDecisionTreeClassifier(max_depth=5)\n",
      "\n",
      "--------------------------\n",
      "|     Best parameters     |\n",
      "--------------------------\n",
      "\tParameters of best estimator : \n",
      "\n",
      "\t{'max_depth': 5}\n",
      "\n",
      "---------------------------------\n",
      "|   No of CrossValidation sets   |\n",
      "--------------------------------\n",
      "\n",
      "\tTotal numbre of cross validation sets: 5\n",
      "\n",
      "--------------------------\n",
      "|        Best Score       |\n",
      "--------------------------\n",
      "\n",
      "\tAverage Cross Validate scores of best estimator : \n",
      "\n",
      "\t0.8361757391544625\n",
      "\n"
     ]
    }
   ],
   "execution_count": 27
  },
  {
   "cell_type": "markdown",
   "metadata": {},
   "source": [
    "# 6. Random Forest Classifier with GridSearch"
   ]
  },
  {
   "cell_type": "code",
   "metadata": {
    "scrolled": false,
    "ExecuteTime": {
     "end_time": "2025-02-07T11:53:51.098776Z",
     "start_time": "2025-02-07T11:52:01.300012Z"
    }
   },
   "source": [
    "from sklearn.ensemble import RandomForestClassifier\n",
    "params = {'n_estimators': np.arange(10,201,20), 'max_depth':np.arange(3,15,2)}\n",
    "rfc = RandomForestClassifier()\n",
    "rfc_grid = GridSearchCV(rfc, param_grid=params, n_jobs=-1)\n",
    "rfc_grid_results = perform_model(rfc_grid, X_train, y_train, X_test, y_test, class_labels=labels)\n",
    "print_grid_search_attributes(rfc_grid_results['model'])"
   ],
   "outputs": [
    {
     "name": "stdout",
     "output_type": "stream",
     "text": [
      "训练模型中..\n",
      "完成 \n",
      " \n",
      "\n",
      "训练时间(HH:MM:SS.ms)  - 0:01:47.957524\n",
      "\n",
      "\n",
      "训练阶段最大内存使用: 604.11 MB\n",
      "\n",
      "\n",
      "预测测试数据\n",
      "完成 \n",
      " \n",
      "\n",
      "测试时间(HH:MM:SS.ms)  - 0:00:01.353536\n",
      "\n",
      "\n",
      "测试阶段最大内存使用: 608.42 MB\n",
      "\n",
      "\n",
      "---------------------\n",
      "|      准确率       |\n",
      "---------------------\n",
      "\n",
      "    0.8374156904508342\n",
      "\n",
      "\n",
      "--------------------\n",
      "| 混淆矩阵 |\n",
      "--------------------\n",
      "\n",
      " [[  12    2   80    2    0]\n",
      " [  95  157   32    2    0]\n",
      " [   1    0 2020    0    4]\n",
      " [  13   18   51   24    4]\n",
      " [   2    0  148    4  146]]\n"
     ]
    },
    {
     "name": "stderr",
     "output_type": "stream",
     "text": [
      "C:\\Users\\yuyu\\AppData\\Local\\Temp\\ipykernel_34940\\3027523060.py:64: MatplotlibDeprecationWarning: The 'b' parameter of grid() has been renamed 'visible' since Matplotlib 3.5; support for the old name will be dropped two minor releases later.\n",
      "  plt.grid(b=False)\n",
      "C:\\Users\\yuyu\\AppData\\Local\\Temp\\ipykernel_34940\\3315235828.py:30: UserWarning: Glyph 24402 (\\N{CJK UNIFIED IDEOGRAPH-5F52}) missing from current font.\n",
      "  plt.tight_layout()\n",
      "C:\\Users\\yuyu\\AppData\\Local\\Temp\\ipykernel_34940\\3315235828.py:30: UserWarning: Glyph 19968 (\\N{CJK UNIFIED IDEOGRAPH-4E00}) missing from current font.\n",
      "  plt.tight_layout()\n",
      "C:\\Users\\yuyu\\AppData\\Local\\Temp\\ipykernel_34940\\3315235828.py:30: UserWarning: Glyph 21270 (\\N{CJK UNIFIED IDEOGRAPH-5316}) missing from current font.\n",
      "  plt.tight_layout()\n",
      "C:\\Users\\yuyu\\AppData\\Local\\Temp\\ipykernel_34940\\3315235828.py:30: UserWarning: Glyph 28151 (\\N{CJK UNIFIED IDEOGRAPH-6DF7}) missing from current font.\n",
      "  plt.tight_layout()\n",
      "C:\\Users\\yuyu\\AppData\\Local\\Temp\\ipykernel_34940\\3315235828.py:30: UserWarning: Glyph 28102 (\\N{CJK UNIFIED IDEOGRAPH-6DC6}) missing from current font.\n",
      "  plt.tight_layout()\n",
      "C:\\Users\\yuyu\\AppData\\Local\\Temp\\ipykernel_34940\\3315235828.py:30: UserWarning: Glyph 30697 (\\N{CJK UNIFIED IDEOGRAPH-77E9}) missing from current font.\n",
      "  plt.tight_layout()\n",
      "C:\\Users\\yuyu\\AppData\\Local\\Temp\\ipykernel_34940\\3315235828.py:30: UserWarning: Glyph 38453 (\\N{CJK UNIFIED IDEOGRAPH-9635}) missing from current font.\n",
      "  plt.tight_layout()\n",
      "E:\\Anaconda3\\envs\\pytorch\\lib\\site-packages\\IPython\\core\\pylabtools.py:152: UserWarning: Glyph 24402 (\\N{CJK UNIFIED IDEOGRAPH-5F52}) missing from current font.\n",
      "  fig.canvas.print_figure(bytes_io, **kw)\n",
      "E:\\Anaconda3\\envs\\pytorch\\lib\\site-packages\\IPython\\core\\pylabtools.py:152: UserWarning: Glyph 19968 (\\N{CJK UNIFIED IDEOGRAPH-4E00}) missing from current font.\n",
      "  fig.canvas.print_figure(bytes_io, **kw)\n",
      "E:\\Anaconda3\\envs\\pytorch\\lib\\site-packages\\IPython\\core\\pylabtools.py:152: UserWarning: Glyph 21270 (\\N{CJK UNIFIED IDEOGRAPH-5316}) missing from current font.\n",
      "  fig.canvas.print_figure(bytes_io, **kw)\n",
      "E:\\Anaconda3\\envs\\pytorch\\lib\\site-packages\\IPython\\core\\pylabtools.py:152: UserWarning: Glyph 28151 (\\N{CJK UNIFIED IDEOGRAPH-6DF7}) missing from current font.\n",
      "  fig.canvas.print_figure(bytes_io, **kw)\n",
      "E:\\Anaconda3\\envs\\pytorch\\lib\\site-packages\\IPython\\core\\pylabtools.py:152: UserWarning: Glyph 28102 (\\N{CJK UNIFIED IDEOGRAPH-6DC6}) missing from current font.\n",
      "  fig.canvas.print_figure(bytes_io, **kw)\n",
      "E:\\Anaconda3\\envs\\pytorch\\lib\\site-packages\\IPython\\core\\pylabtools.py:152: UserWarning: Glyph 30697 (\\N{CJK UNIFIED IDEOGRAPH-77E9}) missing from current font.\n",
      "  fig.canvas.print_figure(bytes_io, **kw)\n",
      "E:\\Anaconda3\\envs\\pytorch\\lib\\site-packages\\IPython\\core\\pylabtools.py:152: UserWarning: Glyph 38453 (\\N{CJK UNIFIED IDEOGRAPH-9635}) missing from current font.\n",
      "  fig.canvas.print_figure(bytes_io, **kw)\n"
     ]
    },
    {
     "data": {
      "text/plain": [
       "<Figure size 800x800 with 2 Axes>"
      ],
      "image/png": "[encoded data removed]"
     },
     "metadata": {},
     "output_type": "display_data"
    },
    {
     "name": "stdout",
     "output_type": "stream",
     "text": [
      "-------------------------\n",
      "| 分类报告 |\n",
      "-------------------------\n",
      "                        precision    recall  f1-score   support\n",
      "\n",
      "               Bending       0.10      0.12      0.11        96\n",
      "             Squatting       0.89      0.55      0.68       286\n",
      "              Standing       0.87      1.00      0.93      2025\n",
      "Transitional movements       0.75      0.22      0.34       110\n",
      "               Walking       0.95      0.49      0.64       300\n",
      "\n",
      "              accuracy                           0.84      2817\n",
      "             macro avg       0.71      0.48      0.54      2817\n",
      "          weighted avg       0.85      0.84      0.82      2817\n",
      "\n",
      "--------------------------\n",
      "|      Best Estimator     |\n",
      "--------------------------\n",
      "\n",
      "\tRandomForestClassifier(max_depth=13, n_estimators=130)\n",
      "\n",
      "--------------------------\n",
      "|     Best parameters     |\n",
      "--------------------------\n",
      "\tParameters of best estimator : \n",
      "\n",
      "\t{'max_depth': 13, 'n_estimators': 130}\n",
      "\n",
      "---------------------------------\n",
      "|   No of CrossValidation sets   |\n",
      "--------------------------------\n",
      "\n",
      "\tTotal numbre of cross validation sets: 5\n",
      "\n",
      "--------------------------\n",
      "|        Best Score       |\n",
      "--------------------------\n",
      "\n",
      "\tAverage Cross Validate scores of best estimator : \n",
      "\n",
      "\t0.8828976697061804\n",
      "\n"
     ]
    }
   ],
   "execution_count": 28
  },
  {
   "cell_type": "markdown",
   "metadata": {},
   "source": [
    "# 7.  Gradient Boosted Decision Trees With GridSearch"
   ]
  },
  {
   "cell_type": "code",
   "metadata": {
    "scrolled": false,
    "ExecuteTime": {
     "end_time": "2025-02-07T12:12:02.704508Z",
     "start_time": "2025-02-07T11:53:51.280841Z"
    }
   },
   "source": [
    "from sklearn.ensemble import GradientBoostingClassifier\n",
    "param_grid = {'max_depth': np.arange(5,6,1), \\\n",
    "             'n_estimators':np.arange(130,140,10)}\n",
    "gbdt = GradientBoostingClassifier()\n",
    "gbdt_grid = GridSearchCV(gbdt, param_grid=param_grid, n_jobs=-1)\n",
    "gbdt_grid_results = perform_model(gbdt_grid, X_train, y_train, X_test, y_test, class_labels=labels)\n",
    "print_grid_search_attributes(gbdt_grid_results['model'])"
   ],
   "outputs": [
    {
     "name": "stdout",
     "output_type": "stream",
     "text": [
      "训练模型中..\n",
      "完成 \n",
      " \n",
      "\n",
      "训练时间(HH:MM:SS.ms)  - 0:18:09.897593\n",
      "\n",
      "\n",
      "训练阶段最大内存使用: 610.14 MB\n",
      "\n",
      "\n",
      "预测测试数据\n",
      "完成 \n",
      " \n",
      "\n",
      "测试时间(HH:MM:SS.ms)  - 0:00:01.296583\n",
      "\n",
      "\n",
      "测试阶段最大内存使用: 615.38 MB\n",
      "\n",
      "\n",
      "---------------------\n",
      "|      准确率       |\n",
      "---------------------\n",
      "\n",
      "    0.8413205537806177\n",
      "\n",
      "\n",
      "--------------------\n",
      "| 混淆矩阵 |\n",
      "--------------------\n",
      "\n",
      " [[   9    1   81    2    3]\n",
      " [  79  160   45    2    0]\n",
      " [   0    0 2021    0    4]\n",
      " [  12    9   59   28    2]\n",
      " [   1    0  142    5  152]]\n"
     ]
    },
    {
     "name": "stderr",
     "output_type": "stream",
     "text": [
      "C:\\Users\\yuyu\\AppData\\Local\\Temp\\ipykernel_34940\\3027523060.py:64: MatplotlibDeprecationWarning: The 'b' parameter of grid() has been renamed 'visible' since Matplotlib 3.5; support for the old name will be dropped two minor releases later.\n",
      "  plt.grid(b=False)\n",
      "C:\\Users\\yuyu\\AppData\\Local\\Temp\\ipykernel_34940\\3315235828.py:30: UserWarning: Glyph 24402 (\\N{CJK UNIFIED IDEOGRAPH-5F52}) missing from current font.\n",
      "  plt.tight_layout()\n",
      "C:\\Users\\yuyu\\AppData\\Local\\Temp\\ipykernel_34940\\3315235828.py:30: UserWarning: Glyph 19968 (\\N{CJK UNIFIED IDEOGRAPH-4E00}) missing from current font.\n",
      "  plt.tight_layout()\n",
      "C:\\Users\\yuyu\\AppData\\Local\\Temp\\ipykernel_34940\\3315235828.py:30: UserWarning: Glyph 21270 (\\N{CJK UNIFIED IDEOGRAPH-5316}) missing from current font.\n",
      "  plt.tight_layout()\n",
      "C:\\Users\\yuyu\\AppData\\Local\\Temp\\ipykernel_34940\\3315235828.py:30: UserWarning: Glyph 28151 (\\N{CJK UNIFIED IDEOGRAPH-6DF7}) missing from current font.\n",
      "  plt.tight_layout()\n",
      "C:\\Users\\yuyu\\AppData\\Local\\Temp\\ipykernel_34940\\3315235828.py:30: UserWarning: Glyph 28102 (\\N{CJK UNIFIED IDEOGRAPH-6DC6}) missing from current font.\n",
      "  plt.tight_layout()\n",
      "C:\\Users\\yuyu\\AppData\\Local\\Temp\\ipykernel_34940\\3315235828.py:30: UserWarning: Glyph 30697 (\\N{CJK UNIFIED IDEOGRAPH-77E9}) missing from current font.\n",
      "  plt.tight_layout()\n",
      "C:\\Users\\yuyu\\AppData\\Local\\Temp\\ipykernel_34940\\3315235828.py:30: UserWarning: Glyph 38453 (\\N{CJK UNIFIED IDEOGRAPH-9635}) missing from current font.\n",
      "  plt.tight_layout()\n",
      "E:\\Anaconda3\\envs\\pytorch\\lib\\site-packages\\IPython\\core\\pylabtools.py:152: UserWarning: Glyph 24402 (\\N{CJK UNIFIED IDEOGRAPH-5F52}) missing from current font.\n",
      "  fig.canvas.print_figure(bytes_io, **kw)\n",
      "E:\\Anaconda3\\envs\\pytorch\\lib\\site-packages\\IPython\\core\\pylabtools.py:152: UserWarning: Glyph 19968 (\\N{CJK UNIFIED IDEOGRAPH-4E00}) missing from current font.\n",
      "  fig.canvas.print_figure(bytes_io, **kw)\n",
      "E:\\Anaconda3\\envs\\pytorch\\lib\\site-packages\\IPython\\core\\pylabtools.py:152: UserWarning: Glyph 21270 (\\N{CJK UNIFIED IDEOGRAPH-5316}) missing from current font.\n",
      "  fig.canvas.print_figure(bytes_io, **kw)\n",
      "E:\\Anaconda3\\envs\\pytorch\\lib\\site-packages\\IPython\\core\\pylabtools.py:152: UserWarning: Glyph 28151 (\\N{CJK UNIFIED IDEOGRAPH-6DF7}) missing from current font.\n",
      "  fig.canvas.print_figure(bytes_io, **kw)\n",
      "E:\\Anaconda3\\envs\\pytorch\\lib\\site-packages\\IPython\\core\\pylabtools.py:152: UserWarning: Glyph 28102 (\\N{CJK UNIFIED IDEOGRAPH-6DC6}) missing from current font.\n",
      "  fig.canvas.print_figure(bytes_io, **kw)\n",
      "E:\\Anaconda3\\envs\\pytorch\\lib\\site-packages\\IPython\\core\\pylabtools.py:152: UserWarning: Glyph 30697 (\\N{CJK UNIFIED IDEOGRAPH-77E9}) missing from current font.\n",
      "  fig.canvas.print_figure(bytes_io, **kw)\n",
      "E:\\Anaconda3\\envs\\pytorch\\lib\\site-packages\\IPython\\core\\pylabtools.py:152: UserWarning: Glyph 38453 (\\N{CJK UNIFIED IDEOGRAPH-9635}) missing from current font.\n",
      "  fig.canvas.print_figure(bytes_io, **kw)\n"
     ]
    },
    {
     "data": {
      "text/plain": [
       "<Figure size 800x800 with 2 Axes>"
      ],
      "image/png": "[encoded data removed]"
     },
     "metadata": {},
     "output_type": "display_data"
    },
    {
     "name": "stdout",
     "output_type": "stream",
     "text": [
      "-------------------------\n",
      "| 分类报告 |\n",
      "-------------------------\n",
      "                        precision    recall  f1-score   support\n",
      "\n",
      "               Bending       0.09      0.09      0.09        96\n",
      "             Squatting       0.94      0.56      0.70       286\n",
      "              Standing       0.86      1.00      0.92      2025\n",
      "Transitional movements       0.76      0.25      0.38       110\n",
      "               Walking       0.94      0.51      0.66       300\n",
      "\n",
      "              accuracy                           0.84      2817\n",
      "             macro avg       0.72      0.48      0.55      2817\n",
      "          weighted avg       0.85      0.84      0.82      2817\n",
      "\n",
      "--------------------------\n",
      "|      Best Estimator     |\n",
      "--------------------------\n",
      "\n",
      "\tGradientBoostingClassifier(max_depth=5, n_estimators=130)\n",
      "\n",
      "--------------------------\n",
      "|     Best parameters     |\n",
      "--------------------------\n",
      "\tParameters of best estimator : \n",
      "\n",
      "\t{'max_depth': 5, 'n_estimators': 130}\n",
      "\n",
      "---------------------------------\n",
      "|   No of CrossValidation sets   |\n",
      "--------------------------------\n",
      "\n",
      "\tTotal numbre of cross validation sets: 5\n",
      "\n",
      "--------------------------\n",
      "|        Best Score       |\n",
      "--------------------------\n",
      "\n",
      "\tAverage Cross Validate scores of best estimator : \n",
      "\n",
      "\t0.870161186331399\n",
      "\n"
     ]
    }
   ],
   "execution_count": 29
  },
  {
   "metadata": {
    "ExecuteTime": {
     "end_time": "2025-02-08T00:56:00.331390Z",
     "start_time": "2025-02-08T00:55:55.853454Z"
    }
   },
   "cell_type": "code",
   "source": [
    "import numpy as np \n",
    "from sklearn.model_selection  import GridSearchCV \n",
    "from xgboost import XGBClassifier \n",
    "from lightgbm import LGBMClassifier\n",
    "from catboost import CatBoostClassifier"
   ],
   "outputs": [],
   "execution_count": 31
  },
  {
   "metadata": {
    "ExecuteTime": {
     "end_time": "2025-02-08T00:56:00.408033Z",
     "start_time": "2025-02-08T00:56:00.388527Z"
    }
   },
   "cell_type": "code",
   "source": [
    "import xgboost\n",
    "print(xgboost.__version__)  # 需要 >= 1.6.0\n"
   ],
   "outputs": [
    {
     "name": "stdout",
     "output_type": "stream",
     "text": [
      "1.6.0\n"
     ]
    }
   ],
   "execution_count": 32
  },
  {
   "metadata": {
    "ExecuteTime": {
     "end_time": "2025-02-07T12:16:06.136352Z",
     "start_time": "2025-02-07T12:16:05.063287Z"
    }
   },
   "cell_type": "code",
   "source": [
    "param_grid_lgb = { \n",
    "    'num_leaves': np.arange(31,  41, 5), \n",
    "    'n_estimators': np.arange(100,  121, 20) \n",
    "}\n",
    "lgb_model = LGBMClassifier() \n",
    "lgb_grid = GridSearchCV(lgb_model, param_grid=param_grid_lgb, n_jobs=-1)\n",
    "lgb_results = perform_model(lgb_grid, X_train, y_train, X_test, y_test, class_labels=labels) \n",
    "print_grid_search_attributes(lgb_results['model'])"
   ],
   "outputs": [
    {
     "name": "stdout",
     "output_type": "stream",
     "text": [
      "训练模型中..\n"
     ]
    },
    {
     "ename": "OSError",
     "evalue": "[Errno 22] Invalid argument",
     "output_type": "error",
     "traceback": [
      "\u001B[1;31m---------------------------------------------------------------------------\u001B[0m",
      "\u001B[1;31mOSError\u001B[0m                                   Traceback (most recent call last)",
      "Cell \u001B[1;32mIn[38], line 7\u001B[0m\n\u001B[0;32m      5\u001B[0m lgb_model \u001B[38;5;241m=\u001B[39m LGBMClassifier() \n\u001B[0;32m      6\u001B[0m lgb_grid \u001B[38;5;241m=\u001B[39m GridSearchCV(lgb_model, param_grid\u001B[38;5;241m=\u001B[39mparam_grid_lgb, n_jobs\u001B[38;5;241m=\u001B[39m\u001B[38;5;241m-\u001B[39m\u001B[38;5;241m1\u001B[39m)\n\u001B[1;32m----> 7\u001B[0m lgb_results \u001B[38;5;241m=\u001B[39m \u001B[43mperform_model\u001B[49m\u001B[43m(\u001B[49m\u001B[43mlgb_grid\u001B[49m\u001B[43m,\u001B[49m\u001B[43m \u001B[49m\u001B[43mX_train\u001B[49m\u001B[43m,\u001B[49m\u001B[43m \u001B[49m\u001B[43my_train\u001B[49m\u001B[43m,\u001B[49m\u001B[43m \u001B[49m\u001B[43mX_test\u001B[49m\u001B[43m,\u001B[49m\u001B[43m \u001B[49m\u001B[43my_test\u001B[49m\u001B[43m,\u001B[49m\u001B[43m \u001B[49m\u001B[43mclass_labels\u001B[49m\u001B[38;5;241;43m=\u001B[39;49m\u001B[43mlabels\u001B[49m\u001B[43m)\u001B[49m \n\u001B[0;32m      8\u001B[0m print_grid_search_attributes(lgb_results[\u001B[38;5;124m'\u001B[39m\u001B[38;5;124mmodel\u001B[39m\u001B[38;5;124m'\u001B[39m])\n",
      "Cell \u001B[1;32mIn[13], line 15\u001B[0m, in \u001B[0;36mperform_model\u001B[1;34m(model, X_train, y_train, X_test, y_test, class_labels, cm_normalize, print_cm, cm_cmap)\u001B[0m\n\u001B[0;32m     12\u001B[0m \u001B[38;5;28mprint\u001B[39m(\u001B[38;5;124m'\u001B[39m\u001B[38;5;124m训练模型中..\u001B[39m\u001B[38;5;124m'\u001B[39m)\n\u001B[0;32m     14\u001B[0m \u001B[38;5;66;03m# 监控训练阶段的内存使用\u001B[39;00m\n\u001B[1;32m---> 15\u001B[0m mem_usage_train \u001B[38;5;241m=\u001B[39m \u001B[43mmemory_usage\u001B[49m\u001B[43m(\u001B[49m\u001B[43m(\u001B[49m\u001B[43mmodel\u001B[49m\u001B[38;5;241;43m.\u001B[39;49m\u001B[43mfit\u001B[49m\u001B[43m,\u001B[49m\u001B[43m \u001B[49m\u001B[43m(\u001B[49m\u001B[43mX_train\u001B[49m\u001B[43m,\u001B[49m\u001B[43m \u001B[49m\u001B[43my_train\u001B[49m\u001B[43m)\u001B[49m\u001B[43m)\u001B[49m\u001B[43m,\u001B[49m\u001B[43m \u001B[49m\u001B[43minterval\u001B[49m\u001B[38;5;241;43m=\u001B[39;49m\u001B[38;5;241;43m0.1\u001B[39;49m\u001B[43m)\u001B[49m\n\u001B[0;32m     16\u001B[0m results[\u001B[38;5;124m'\u001B[39m\u001B[38;5;124mtrain_memory_usage\u001B[39m\u001B[38;5;124m'\u001B[39m] \u001B[38;5;241m=\u001B[39m \u001B[38;5;28mmax\u001B[39m(mem_usage_train)\n\u001B[0;32m     18\u001B[0m \u001B[38;5;28mprint\u001B[39m(\u001B[38;5;124m'\u001B[39m\u001B[38;5;124m完成 \u001B[39m\u001B[38;5;130;01m\\n\u001B[39;00m\u001B[38;5;124m \u001B[39m\u001B[38;5;130;01m\\n\u001B[39;00m\u001B[38;5;124m'\u001B[39m)\n",
      "File \u001B[1;32mE:\\Anaconda3\\envs\\pytorch\\lib\\site-packages\\memory_profiler.py:379\u001B[0m, in \u001B[0;36mmemory_usage\u001B[1;34m(proc, interval, timeout, timestamps, include_children, multiprocess, max_usage, retval, stream, backend, max_iterations)\u001B[0m\n\u001B[0;32m    376\u001B[0m \u001B[38;5;66;03m# When there is an exception in the \"proc\" - the (spawned) monitoring processes don't get killed.\u001B[39;00m\n\u001B[0;32m    377\u001B[0m \u001B[38;5;66;03m# Therefore, the whole process hangs indefinitely. Here, we are ensuring that the process gets killed!\u001B[39;00m\n\u001B[0;32m    378\u001B[0m \u001B[38;5;28;01mtry\u001B[39;00m:\n\u001B[1;32m--> 379\u001B[0m     returned \u001B[38;5;241m=\u001B[39m f(\u001B[38;5;241m*\u001B[39margs, \u001B[38;5;241m*\u001B[39m\u001B[38;5;241m*\u001B[39mkw)\n\u001B[0;32m    380\u001B[0m     parent_conn\u001B[38;5;241m.\u001B[39msend(\u001B[38;5;241m0\u001B[39m)  \u001B[38;5;66;03m# finish timing\u001B[39;00m\n\u001B[0;32m    381\u001B[0m     ret \u001B[38;5;241m=\u001B[39m parent_conn\u001B[38;5;241m.\u001B[39mrecv()\n",
      "File \u001B[1;32mE:\\Anaconda3\\envs\\pytorch\\lib\\site-packages\\sklearn\\model_selection\\_search.py:803\u001B[0m, in \u001B[0;36mBaseSearchCV.fit\u001B[1;34m(self, X, y, groups, **fit_params)\u001B[0m\n\u001B[0;32m    792\u001B[0m fit_and_score_kwargs \u001B[38;5;241m=\u001B[39m \u001B[38;5;28mdict\u001B[39m(\n\u001B[0;32m    793\u001B[0m     scorer\u001B[38;5;241m=\u001B[39mscorers,\n\u001B[0;32m    794\u001B[0m     fit_params\u001B[38;5;241m=\u001B[39mfit_params,\n\u001B[1;32m   (...)\u001B[0m\n\u001B[0;32m    800\u001B[0m     verbose\u001B[38;5;241m=\u001B[39m\u001B[38;5;28mself\u001B[39m\u001B[38;5;241m.\u001B[39mverbose,\n\u001B[0;32m    801\u001B[0m )\n\u001B[0;32m    802\u001B[0m results \u001B[38;5;241m=\u001B[39m {}\n\u001B[1;32m--> 803\u001B[0m \u001B[38;5;28;01mwith\u001B[39;00m parallel:\n\u001B[0;32m    804\u001B[0m     all_candidate_params \u001B[38;5;241m=\u001B[39m []\n\u001B[0;32m    805\u001B[0m     all_out \u001B[38;5;241m=\u001B[39m []\n",
      "File \u001B[1;32mE:\\Anaconda3\\envs\\pytorch\\lib\\site-packages\\joblib\\parallel.py:1347\u001B[0m, in \u001B[0;36mParallel.__enter__\u001B[1;34m(self)\u001B[0m\n\u001B[0;32m   1345\u001B[0m \u001B[38;5;28mself\u001B[39m\u001B[38;5;241m.\u001B[39m_managed_backend \u001B[38;5;241m=\u001B[39m \u001B[38;5;28;01mTrue\u001B[39;00m\n\u001B[0;32m   1346\u001B[0m \u001B[38;5;28mself\u001B[39m\u001B[38;5;241m.\u001B[39m_calling \u001B[38;5;241m=\u001B[39m \u001B[38;5;28;01mFalse\u001B[39;00m\n\u001B[1;32m-> 1347\u001B[0m \u001B[38;5;28;43mself\u001B[39;49m\u001B[38;5;241;43m.\u001B[39;49m\u001B[43m_initialize_backend\u001B[49m\u001B[43m(\u001B[49m\u001B[43m)\u001B[49m\n\u001B[0;32m   1348\u001B[0m \u001B[38;5;28;01mreturn\u001B[39;00m \u001B[38;5;28mself\u001B[39m\n",
      "File \u001B[1;32mE:\\Anaconda3\\envs\\pytorch\\lib\\site-packages\\joblib\\parallel.py:1359\u001B[0m, in \u001B[0;36mParallel._initialize_backend\u001B[1;34m(self)\u001B[0m\n\u001B[0;32m   1357\u001B[0m \u001B[38;5;250m\u001B[39m\u001B[38;5;124;03m\"\"\"Build a process or thread pool and return the number of workers\"\"\"\u001B[39;00m\n\u001B[0;32m   1358\u001B[0m \u001B[38;5;28;01mtry\u001B[39;00m:\n\u001B[1;32m-> 1359\u001B[0m     n_jobs \u001B[38;5;241m=\u001B[39m \u001B[38;5;28mself\u001B[39m\u001B[38;5;241m.\u001B[39m_backend\u001B[38;5;241m.\u001B[39mconfigure(n_jobs\u001B[38;5;241m=\u001B[39m\u001B[38;5;28mself\u001B[39m\u001B[38;5;241m.\u001B[39mn_jobs, parallel\u001B[38;5;241m=\u001B[39m\u001B[38;5;28mself\u001B[39m,\n\u001B[0;32m   1360\u001B[0m                                      \u001B[38;5;241m*\u001B[39m\u001B[38;5;241m*\u001B[39m\u001B[38;5;28mself\u001B[39m\u001B[38;5;241m.\u001B[39m_backend_args)\n\u001B[0;32m   1361\u001B[0m     \u001B[38;5;28;01mif\u001B[39;00m \u001B[38;5;28mself\u001B[39m\u001B[38;5;241m.\u001B[39mtimeout \u001B[38;5;129;01mis\u001B[39;00m \u001B[38;5;129;01mnot\u001B[39;00m \u001B[38;5;28;01mNone\u001B[39;00m \u001B[38;5;129;01mand\u001B[39;00m \u001B[38;5;129;01mnot\u001B[39;00m \u001B[38;5;28mself\u001B[39m\u001B[38;5;241m.\u001B[39m_backend\u001B[38;5;241m.\u001B[39msupports_timeout:\n\u001B[0;32m   1362\u001B[0m         warnings\u001B[38;5;241m.\u001B[39mwarn(\n\u001B[0;32m   1363\u001B[0m             \u001B[38;5;124m'\u001B[39m\u001B[38;5;124mThe backend class \u001B[39m\u001B[38;5;132;01m{!r}\u001B[39;00m\u001B[38;5;124m does not support timeout. \u001B[39m\u001B[38;5;124m'\u001B[39m\n\u001B[0;32m   1364\u001B[0m             \u001B[38;5;124m\"\u001B[39m\u001B[38;5;124mYou have set \u001B[39m\u001B[38;5;124m'\u001B[39m\u001B[38;5;124mtimeout=\u001B[39m\u001B[38;5;132;01m{}\u001B[39;00m\u001B[38;5;124m'\u001B[39m\u001B[38;5;124m in Parallel but \u001B[39m\u001B[38;5;124m\"\u001B[39m\n\u001B[0;32m   1365\u001B[0m             \u001B[38;5;124m\"\u001B[39m\u001B[38;5;124mthe \u001B[39m\u001B[38;5;124m'\u001B[39m\u001B[38;5;124mtimeout\u001B[39m\u001B[38;5;124m'\u001B[39m\u001B[38;5;124m parameter will not be used.\u001B[39m\u001B[38;5;124m\"\u001B[39m\u001B[38;5;241m.\u001B[39mformat(\n\u001B[0;32m   1366\u001B[0m                 \u001B[38;5;28mself\u001B[39m\u001B[38;5;241m.\u001B[39m_backend\u001B[38;5;241m.\u001B[39m\u001B[38;5;18m__class__\u001B[39m\u001B[38;5;241m.\u001B[39m\u001B[38;5;18m__name__\u001B[39m,\n\u001B[0;32m   1367\u001B[0m                 \u001B[38;5;28mself\u001B[39m\u001B[38;5;241m.\u001B[39mtimeout))\n",
      "File \u001B[1;32mE:\\Anaconda3\\envs\\pytorch\\lib\\site-packages\\joblib\\_parallel_backends.py:538\u001B[0m, in \u001B[0;36mLokyBackend.configure\u001B[1;34m(self, n_jobs, parallel, prefer, require, idle_worker_timeout, **memmappingexecutor_args)\u001B[0m\n\u001B[0;32m    534\u001B[0m \u001B[38;5;28;01mif\u001B[39;00m n_jobs \u001B[38;5;241m==\u001B[39m \u001B[38;5;241m1\u001B[39m:\n\u001B[0;32m    535\u001B[0m     \u001B[38;5;28;01mraise\u001B[39;00m FallbackToBackend(\n\u001B[0;32m    536\u001B[0m         SequentialBackend(nesting_level\u001B[38;5;241m=\u001B[39m\u001B[38;5;28mself\u001B[39m\u001B[38;5;241m.\u001B[39mnesting_level))\n\u001B[1;32m--> 538\u001B[0m \u001B[38;5;28mself\u001B[39m\u001B[38;5;241m.\u001B[39m_workers \u001B[38;5;241m=\u001B[39m get_memmapping_executor(\n\u001B[0;32m    539\u001B[0m     n_jobs, timeout\u001B[38;5;241m=\u001B[39midle_worker_timeout,\n\u001B[0;32m    540\u001B[0m     env\u001B[38;5;241m=\u001B[39m\u001B[38;5;28mself\u001B[39m\u001B[38;5;241m.\u001B[39m_prepare_worker_env(n_jobs\u001B[38;5;241m=\u001B[39mn_jobs),\n\u001B[0;32m    541\u001B[0m     context_id\u001B[38;5;241m=\u001B[39mparallel\u001B[38;5;241m.\u001B[39m_id, \u001B[38;5;241m*\u001B[39m\u001B[38;5;241m*\u001B[39mmemmappingexecutor_args)\n\u001B[0;32m    542\u001B[0m \u001B[38;5;28mself\u001B[39m\u001B[38;5;241m.\u001B[39mparallel \u001B[38;5;241m=\u001B[39m parallel\n\u001B[0;32m    543\u001B[0m \u001B[38;5;28;01mreturn\u001B[39;00m n_jobs\n",
      "File \u001B[1;32mE:\\Anaconda3\\envs\\pytorch\\lib\\site-packages\\joblib\\executor.py:20\u001B[0m, in \u001B[0;36mget_memmapping_executor\u001B[1;34m(n_jobs, **kwargs)\u001B[0m\n\u001B[0;32m     19\u001B[0m \u001B[38;5;28;01mdef\u001B[39;00m \u001B[38;5;21mget_memmapping_executor\u001B[39m(n_jobs, \u001B[38;5;241m*\u001B[39m\u001B[38;5;241m*\u001B[39mkwargs):\n\u001B[1;32m---> 20\u001B[0m     \u001B[38;5;28;01mreturn\u001B[39;00m MemmappingExecutor\u001B[38;5;241m.\u001B[39mget_memmapping_executor(n_jobs, \u001B[38;5;241m*\u001B[39m\u001B[38;5;241m*\u001B[39mkwargs)\n",
      "File \u001B[1;32mE:\\Anaconda3\\envs\\pytorch\\lib\\site-packages\\joblib\\executor.py:42\u001B[0m, in \u001B[0;36mMemmappingExecutor.get_memmapping_executor\u001B[1;34m(cls, n_jobs, timeout, initializer, initargs, env, temp_folder, context_id, **backend_args)\u001B[0m\n\u001B[0;32m     39\u001B[0m reuse \u001B[38;5;241m=\u001B[39m _executor_args \u001B[38;5;129;01mis\u001B[39;00m \u001B[38;5;28;01mNone\u001B[39;00m \u001B[38;5;129;01mor\u001B[39;00m _executor_args \u001B[38;5;241m==\u001B[39m executor_args\n\u001B[0;32m     40\u001B[0m _executor_args \u001B[38;5;241m=\u001B[39m executor_args\n\u001B[1;32m---> 42\u001B[0m manager \u001B[38;5;241m=\u001B[39m \u001B[43mTemporaryResourcesManager\u001B[49m\u001B[43m(\u001B[49m\u001B[43mtemp_folder\u001B[49m\u001B[43m)\u001B[49m\n\u001B[0;32m     44\u001B[0m \u001B[38;5;66;03m# reducers access the temporary folder in which to store temporary\u001B[39;00m\n\u001B[0;32m     45\u001B[0m \u001B[38;5;66;03m# pickles through a call to manager.resolve_temp_folder_name. resolving\u001B[39;00m\n\u001B[0;32m     46\u001B[0m \u001B[38;5;66;03m# the folder name dynamically is useful to use different folders across\u001B[39;00m\n\u001B[0;32m     47\u001B[0m \u001B[38;5;66;03m# calls of a same reusable executor\u001B[39;00m\n\u001B[0;32m     48\u001B[0m job_reducers, result_reducers \u001B[38;5;241m=\u001B[39m get_memmapping_reducers(\n\u001B[0;32m     49\u001B[0m     unlink_on_gc_collect\u001B[38;5;241m=\u001B[39m\u001B[38;5;28;01mTrue\u001B[39;00m,\n\u001B[0;32m     50\u001B[0m     temp_folder_resolver\u001B[38;5;241m=\u001B[39mmanager\u001B[38;5;241m.\u001B[39mresolve_temp_folder_name,\n\u001B[0;32m     51\u001B[0m     \u001B[38;5;241m*\u001B[39m\u001B[38;5;241m*\u001B[39mbackend_args)\n",
      "File \u001B[1;32mE:\\Anaconda3\\envs\\pytorch\\lib\\site-packages\\joblib\\_memmapping_reducer.py:540\u001B[0m, in \u001B[0;36mTemporaryResourcesManager.__init__\u001B[1;34m(self, temp_folder_root, context_id)\u001B[0m\n\u001B[0;32m    534\u001B[0m \u001B[38;5;28;01mif\u001B[39;00m context_id \u001B[38;5;129;01mis\u001B[39;00m \u001B[38;5;28;01mNone\u001B[39;00m:\n\u001B[0;32m    535\u001B[0m     \u001B[38;5;66;03m# It would be safer to not assign a default context id (less silent\u001B[39;00m\n\u001B[0;32m    536\u001B[0m     \u001B[38;5;66;03m# bugs), but doing this while maintaining backward compatibility\u001B[39;00m\n\u001B[0;32m    537\u001B[0m     \u001B[38;5;66;03m# with the previous, context-unaware version get_memmaping_executor\u001B[39;00m\n\u001B[0;32m    538\u001B[0m     \u001B[38;5;66;03m# exposes too many low-level details.\u001B[39;00m\n\u001B[0;32m    539\u001B[0m     context_id \u001B[38;5;241m=\u001B[39m uuid4()\u001B[38;5;241m.\u001B[39mhex\n\u001B[1;32m--> 540\u001B[0m \u001B[38;5;28;43mself\u001B[39;49m\u001B[38;5;241;43m.\u001B[39;49m\u001B[43mset_current_context\u001B[49m\u001B[43m(\u001B[49m\u001B[43mcontext_id\u001B[49m\u001B[43m)\u001B[49m\n",
      "File \u001B[1;32mE:\\Anaconda3\\envs\\pytorch\\lib\\site-packages\\joblib\\_memmapping_reducer.py:544\u001B[0m, in \u001B[0;36mTemporaryResourcesManager.set_current_context\u001B[1;34m(self, context_id)\u001B[0m\n\u001B[0;32m    542\u001B[0m \u001B[38;5;28;01mdef\u001B[39;00m \u001B[38;5;21mset_current_context\u001B[39m(\u001B[38;5;28mself\u001B[39m, context_id):\n\u001B[0;32m    543\u001B[0m     \u001B[38;5;28mself\u001B[39m\u001B[38;5;241m.\u001B[39m_current_context_id \u001B[38;5;241m=\u001B[39m context_id\n\u001B[1;32m--> 544\u001B[0m     \u001B[38;5;28;43mself\u001B[39;49m\u001B[38;5;241;43m.\u001B[39;49m\u001B[43mregister_new_context\u001B[49m\u001B[43m(\u001B[49m\u001B[43mcontext_id\u001B[49m\u001B[43m)\u001B[49m\n",
      "File \u001B[1;32mE:\\Anaconda3\\envs\\pytorch\\lib\\site-packages\\joblib\\_memmapping_reducer.py:569\u001B[0m, in \u001B[0;36mTemporaryResourcesManager.register_new_context\u001B[1;34m(self, context_id)\u001B[0m\n\u001B[0;32m    562\u001B[0m new_folder_name \u001B[38;5;241m=\u001B[39m (\n\u001B[0;32m    563\u001B[0m     \u001B[38;5;124m\"\u001B[39m\u001B[38;5;124mjoblib_memmapping_folder_\u001B[39m\u001B[38;5;132;01m{}\u001B[39;00m\u001B[38;5;124m_\u001B[39m\u001B[38;5;132;01m{}\u001B[39;00m\u001B[38;5;124m_\u001B[39m\u001B[38;5;132;01m{}\u001B[39;00m\u001B[38;5;124m\"\u001B[39m\u001B[38;5;241m.\u001B[39mformat(\n\u001B[0;32m    564\u001B[0m         os\u001B[38;5;241m.\u001B[39mgetpid(), \u001B[38;5;28mself\u001B[39m\u001B[38;5;241m.\u001B[39m_id, context_id)\n\u001B[0;32m    565\u001B[0m )\n\u001B[0;32m    566\u001B[0m new_folder_path, _ \u001B[38;5;241m=\u001B[39m _get_temp_dir(\n\u001B[0;32m    567\u001B[0m     new_folder_name, \u001B[38;5;28mself\u001B[39m\u001B[38;5;241m.\u001B[39m_temp_folder_root\n\u001B[0;32m    568\u001B[0m )\n\u001B[1;32m--> 569\u001B[0m \u001B[38;5;28;43mself\u001B[39;49m\u001B[38;5;241;43m.\u001B[39;49m\u001B[43mregister_folder_finalizer\u001B[49m\u001B[43m(\u001B[49m\u001B[43mnew_folder_path\u001B[49m\u001B[43m,\u001B[49m\u001B[43m \u001B[49m\u001B[43mcontext_id\u001B[49m\u001B[43m)\u001B[49m\n\u001B[0;32m    570\u001B[0m \u001B[38;5;28mself\u001B[39m\u001B[38;5;241m.\u001B[39m_cached_temp_folders[context_id] \u001B[38;5;241m=\u001B[39m new_folder_path\n",
      "File \u001B[1;32mE:\\Anaconda3\\envs\\pytorch\\lib\\site-packages\\joblib\\_memmapping_reducer.py:585\u001B[0m, in \u001B[0;36mTemporaryResourcesManager.register_folder_finalizer\u001B[1;34m(self, pool_subfolder, context_id)\u001B[0m\n\u001B[0;32m    578\u001B[0m \u001B[38;5;28;01mdef\u001B[39;00m \u001B[38;5;21mregister_folder_finalizer\u001B[39m(\u001B[38;5;28mself\u001B[39m, pool_subfolder, context_id):\n\u001B[0;32m    579\u001B[0m     \u001B[38;5;66;03m# Register the garbage collector at program exit in case caller forgets\u001B[39;00m\n\u001B[0;32m    580\u001B[0m     \u001B[38;5;66;03m# to call terminate explicitly: note we do not pass any reference to\u001B[39;00m\n\u001B[0;32m    581\u001B[0m     \u001B[38;5;66;03m# ensure that this callback won't prevent garbage collection of\u001B[39;00m\n\u001B[0;32m    582\u001B[0m     \u001B[38;5;66;03m# parallel instance and related file handler resources such as POSIX\u001B[39;00m\n\u001B[0;32m    583\u001B[0m     \u001B[38;5;66;03m# semaphores and pipes\u001B[39;00m\n\u001B[0;32m    584\u001B[0m     pool_module_name \u001B[38;5;241m=\u001B[39m whichmodule(delete_folder, \u001B[38;5;124m'\u001B[39m\u001B[38;5;124mdelete_folder\u001B[39m\u001B[38;5;124m'\u001B[39m)\n\u001B[1;32m--> 585\u001B[0m     \u001B[43mresource_tracker\u001B[49m\u001B[38;5;241;43m.\u001B[39;49m\u001B[43mregister\u001B[49m\u001B[43m(\u001B[49m\u001B[43mpool_subfolder\u001B[49m\u001B[43m,\u001B[49m\u001B[43m \u001B[49m\u001B[38;5;124;43m\"\u001B[39;49m\u001B[38;5;124;43mfolder\u001B[39;49m\u001B[38;5;124;43m\"\u001B[39;49m\u001B[43m)\u001B[49m\n\u001B[0;32m    587\u001B[0m     \u001B[38;5;28;01mdef\u001B[39;00m \u001B[38;5;21m_cleanup\u001B[39m():\n\u001B[0;32m    588\u001B[0m         \u001B[38;5;66;03m# In some cases the Python runtime seems to set delete_folder to\u001B[39;00m\n\u001B[0;32m    589\u001B[0m         \u001B[38;5;66;03m# None just before exiting when accessing the delete_folder\u001B[39;00m\n\u001B[1;32m   (...)\u001B[0m\n\u001B[0;32m    594\u001B[0m         \u001B[38;5;66;03m# because joblib should only use relative imports to allow\u001B[39;00m\n\u001B[0;32m    595\u001B[0m         \u001B[38;5;66;03m# easy vendoring.\u001B[39;00m\n\u001B[0;32m    596\u001B[0m         delete_folder \u001B[38;5;241m=\u001B[39m \u001B[38;5;28m__import__\u001B[39m(\n\u001B[0;32m    597\u001B[0m             pool_module_name, fromlist\u001B[38;5;241m=\u001B[39m[\u001B[38;5;124m'\u001B[39m\u001B[38;5;124mdelete_folder\u001B[39m\u001B[38;5;124m'\u001B[39m]\n\u001B[0;32m    598\u001B[0m         )\u001B[38;5;241m.\u001B[39mdelete_folder\n",
      "File \u001B[1;32mE:\\Anaconda3\\envs\\pytorch\\lib\\site-packages\\joblib\\externals\\loky\\backend\\resource_tracker.py:178\u001B[0m, in \u001B[0;36mResourceTracker.register\u001B[1;34m(self, name, rtype)\u001B[0m\n\u001B[0;32m    176\u001B[0m \u001B[38;5;28;01mdef\u001B[39;00m \u001B[38;5;21mregister\u001B[39m(\u001B[38;5;28mself\u001B[39m, name, rtype):\n\u001B[0;32m    177\u001B[0m \u001B[38;5;250m    \u001B[39m\u001B[38;5;124;03m\"\"\"Register a named resource, and increment its refcount.\"\"\"\u001B[39;00m\n\u001B[1;32m--> 178\u001B[0m     \u001B[38;5;28;43mself\u001B[39;49m\u001B[38;5;241;43m.\u001B[39;49m\u001B[43mensure_running\u001B[49m\u001B[43m(\u001B[49m\u001B[43m)\u001B[49m\n\u001B[0;32m    179\u001B[0m     \u001B[38;5;28mself\u001B[39m\u001B[38;5;241m.\u001B[39m_send(\u001B[38;5;124m\"\u001B[39m\u001B[38;5;124mREGISTER\u001B[39m\u001B[38;5;124m\"\u001B[39m, name, rtype)\n",
      "File \u001B[1;32mE:\\Anaconda3\\envs\\pytorch\\lib\\site-packages\\joblib\\externals\\loky\\backend\\resource_tracker.py:95\u001B[0m, in \u001B[0;36mResourceTracker.ensure_running\u001B[1;34m(self)\u001B[0m\n\u001B[0;32m     92\u001B[0m \u001B[38;5;28;01mwith\u001B[39;00m \u001B[38;5;28mself\u001B[39m\u001B[38;5;241m.\u001B[39m_lock:\n\u001B[0;32m     93\u001B[0m     \u001B[38;5;28;01mif\u001B[39;00m \u001B[38;5;28mself\u001B[39m\u001B[38;5;241m.\u001B[39m_fd \u001B[38;5;129;01mis\u001B[39;00m \u001B[38;5;129;01mnot\u001B[39;00m \u001B[38;5;28;01mNone\u001B[39;00m:\n\u001B[0;32m     94\u001B[0m         \u001B[38;5;66;03m# resource tracker was launched before, is it still running?\u001B[39;00m\n\u001B[1;32m---> 95\u001B[0m         \u001B[38;5;28;01mif\u001B[39;00m \u001B[38;5;28;43mself\u001B[39;49m\u001B[38;5;241;43m.\u001B[39;49m\u001B[43m_check_alive\u001B[49m\u001B[43m(\u001B[49m\u001B[43m)\u001B[49m:\n\u001B[0;32m     96\u001B[0m             \u001B[38;5;66;03m# => still alive\u001B[39;00m\n\u001B[0;32m     97\u001B[0m             \u001B[38;5;28;01mreturn\u001B[39;00m\n\u001B[0;32m     98\u001B[0m         \u001B[38;5;66;03m# => dead, launch it again\u001B[39;00m\n",
      "File \u001B[1;32mE:\\Anaconda3\\envs\\pytorch\\lib\\site-packages\\joblib\\externals\\loky\\backend\\resource_tracker.py:170\u001B[0m, in \u001B[0;36mResourceTracker._check_alive\u001B[1;34m(self)\u001B[0m\n\u001B[0;32m    168\u001B[0m \u001B[38;5;250m\u001B[39m\u001B[38;5;124;03m\"\"\"Check for the existence of the resource tracker process.\"\"\"\u001B[39;00m\n\u001B[0;32m    169\u001B[0m \u001B[38;5;28;01mtry\u001B[39;00m:\n\u001B[1;32m--> 170\u001B[0m     \u001B[38;5;28;43mself\u001B[39;49m\u001B[38;5;241;43m.\u001B[39;49m\u001B[43m_send\u001B[49m\u001B[43m(\u001B[49m\u001B[38;5;124;43m\"\u001B[39;49m\u001B[38;5;124;43mPROBE\u001B[39;49m\u001B[38;5;124;43m\"\u001B[39;49m\u001B[43m,\u001B[49m\u001B[43m \u001B[49m\u001B[38;5;124;43m\"\u001B[39;49m\u001B[38;5;124;43m\"\u001B[39;49m\u001B[43m,\u001B[49m\u001B[43m \u001B[49m\u001B[38;5;124;43m\"\u001B[39;49m\u001B[38;5;124;43m\"\u001B[39;49m\u001B[43m)\u001B[49m\n\u001B[0;32m    171\u001B[0m \u001B[38;5;28;01mexcept\u001B[39;00m \u001B[38;5;167;01mBrokenPipeError\u001B[39;00m:\n\u001B[0;32m    172\u001B[0m     \u001B[38;5;28;01mreturn\u001B[39;00m \u001B[38;5;28;01mFalse\u001B[39;00m\n",
      "File \u001B[1;32mE:\\Anaconda3\\envs\\pytorch\\lib\\site-packages\\joblib\\externals\\loky\\backend\\resource_tracker.py:197\u001B[0m, in \u001B[0;36mResourceTracker._send\u001B[1;34m(self, cmd, name, rtype)\u001B[0m\n\u001B[0;32m    195\u001B[0m     \u001B[38;5;28;01mraise\u001B[39;00m \u001B[38;5;167;01mValueError\u001B[39;00m(\u001B[38;5;124m\"\u001B[39m\u001B[38;5;124mname too long\u001B[39m\u001B[38;5;124m\"\u001B[39m)\n\u001B[0;32m    196\u001B[0m msg \u001B[38;5;241m=\u001B[39m \u001B[38;5;124mf\u001B[39m\u001B[38;5;124m\"\u001B[39m\u001B[38;5;132;01m{\u001B[39;00mcmd\u001B[38;5;132;01m}\u001B[39;00m\u001B[38;5;124m:\u001B[39m\u001B[38;5;132;01m{\u001B[39;00mname\u001B[38;5;132;01m}\u001B[39;00m\u001B[38;5;124m:\u001B[39m\u001B[38;5;132;01m{\u001B[39;00mrtype\u001B[38;5;132;01m}\u001B[39;00m\u001B[38;5;130;01m\\n\u001B[39;00m\u001B[38;5;124m\"\u001B[39m\u001B[38;5;241m.\u001B[39mencode(\u001B[38;5;124m\"\u001B[39m\u001B[38;5;124mascii\u001B[39m\u001B[38;5;124m\"\u001B[39m)\n\u001B[1;32m--> 197\u001B[0m nbytes \u001B[38;5;241m=\u001B[39m \u001B[43mos\u001B[49m\u001B[38;5;241;43m.\u001B[39;49m\u001B[43mwrite\u001B[49m\u001B[43m(\u001B[49m\u001B[38;5;28;43mself\u001B[39;49m\u001B[38;5;241;43m.\u001B[39;49m\u001B[43m_fd\u001B[49m\u001B[43m,\u001B[49m\u001B[43m \u001B[49m\u001B[43mmsg\u001B[49m\u001B[43m)\u001B[49m\n\u001B[0;32m    198\u001B[0m \u001B[38;5;28;01massert\u001B[39;00m nbytes \u001B[38;5;241m==\u001B[39m \u001B[38;5;28mlen\u001B[39m(msg)\n",
      "\u001B[1;31mOSError\u001B[0m: [Errno 22] Invalid argument"
     ]
    }
   ],
   "execution_count": 38
  },
  {
   "metadata": {
    "ExecuteTime": {
     "end_time": "2025-02-07T12:16:08.439686Z",
     "start_time": "2025-02-07T12:16:07.272833Z"
    }
   },
   "cell_type": "code",
   "source": [
    "param_grid_cat = {\n",
    "    'depth': np.arange(4, 5, 1), \n",
    "    'iterations': np.arange(100,  121, 20)\n",
    "}\n",
    "cat_model = CatBoostClassifier(verbose=0) \n",
    "cat_grid = GridSearchCV(cat_model, param_grid=param_grid_cat, n_jobs=-1) \n",
    "cat_results = perform_model(cat_grid, X_train, y_train, X_test, y_test, class_labels=labels) \n",
    "print_grid_search_attributes(cat_results['model']) "
   ],
   "outputs": [
    {
     "name": "stdout",
     "output_type": "stream",
     "text": [
      "训练模型中..\n"
     ]
    },
    {
     "ename": "OSError",
     "evalue": "[Errno 22] Invalid argument",
     "output_type": "error",
     "traceback": [
      "\u001B[1;31m---------------------------------------------------------------------------\u001B[0m",
      "\u001B[1;31mOSError\u001B[0m                                   Traceback (most recent call last)",
      "Cell \u001B[1;32mIn[39], line 7\u001B[0m\n\u001B[0;32m      5\u001B[0m cat_model \u001B[38;5;241m=\u001B[39m CatBoostClassifier(verbose\u001B[38;5;241m=\u001B[39m\u001B[38;5;241m0\u001B[39m) \n\u001B[0;32m      6\u001B[0m cat_grid \u001B[38;5;241m=\u001B[39m GridSearchCV(cat_model, param_grid\u001B[38;5;241m=\u001B[39mparam_grid_cat, n_jobs\u001B[38;5;241m=\u001B[39m\u001B[38;5;241m-\u001B[39m\u001B[38;5;241m1\u001B[39m) \n\u001B[1;32m----> 7\u001B[0m cat_results \u001B[38;5;241m=\u001B[39m \u001B[43mperform_model\u001B[49m\u001B[43m(\u001B[49m\u001B[43mcat_grid\u001B[49m\u001B[43m,\u001B[49m\u001B[43m \u001B[49m\u001B[43mX_train\u001B[49m\u001B[43m,\u001B[49m\u001B[43m \u001B[49m\u001B[43my_train\u001B[49m\u001B[43m,\u001B[49m\u001B[43m \u001B[49m\u001B[43mX_test\u001B[49m\u001B[43m,\u001B[49m\u001B[43m \u001B[49m\u001B[43my_test\u001B[49m\u001B[43m,\u001B[49m\u001B[43m \u001B[49m\u001B[43mclass_labels\u001B[49m\u001B[38;5;241;43m=\u001B[39;49m\u001B[43mlabels\u001B[49m\u001B[43m)\u001B[49m \n\u001B[0;32m      8\u001B[0m print_grid_search_attributes(cat_results[\u001B[38;5;124m'\u001B[39m\u001B[38;5;124mmodel\u001B[39m\u001B[38;5;124m'\u001B[39m])\n",
      "Cell \u001B[1;32mIn[13], line 15\u001B[0m, in \u001B[0;36mperform_model\u001B[1;34m(model, X_train, y_train, X_test, y_test, class_labels, cm_normalize, print_cm, cm_cmap)\u001B[0m\n\u001B[0;32m     12\u001B[0m \u001B[38;5;28mprint\u001B[39m(\u001B[38;5;124m'\u001B[39m\u001B[38;5;124m训练模型中..\u001B[39m\u001B[38;5;124m'\u001B[39m)\n\u001B[0;32m     14\u001B[0m \u001B[38;5;66;03m# 监控训练阶段的内存使用\u001B[39;00m\n\u001B[1;32m---> 15\u001B[0m mem_usage_train \u001B[38;5;241m=\u001B[39m \u001B[43mmemory_usage\u001B[49m\u001B[43m(\u001B[49m\u001B[43m(\u001B[49m\u001B[43mmodel\u001B[49m\u001B[38;5;241;43m.\u001B[39;49m\u001B[43mfit\u001B[49m\u001B[43m,\u001B[49m\u001B[43m \u001B[49m\u001B[43m(\u001B[49m\u001B[43mX_train\u001B[49m\u001B[43m,\u001B[49m\u001B[43m \u001B[49m\u001B[43my_train\u001B[49m\u001B[43m)\u001B[49m\u001B[43m)\u001B[49m\u001B[43m,\u001B[49m\u001B[43m \u001B[49m\u001B[43minterval\u001B[49m\u001B[38;5;241;43m=\u001B[39;49m\u001B[38;5;241;43m0.1\u001B[39;49m\u001B[43m)\u001B[49m\n\u001B[0;32m     16\u001B[0m results[\u001B[38;5;124m'\u001B[39m\u001B[38;5;124mtrain_memory_usage\u001B[39m\u001B[38;5;124m'\u001B[39m] \u001B[38;5;241m=\u001B[39m \u001B[38;5;28mmax\u001B[39m(mem_usage_train)\n\u001B[0;32m     18\u001B[0m \u001B[38;5;28mprint\u001B[39m(\u001B[38;5;124m'\u001B[39m\u001B[38;5;124m完成 \u001B[39m\u001B[38;5;130;01m\\n\u001B[39;00m\u001B[38;5;124m \u001B[39m\u001B[38;5;130;01m\\n\u001B[39;00m\u001B[38;5;124m'\u001B[39m)\n",
      "File \u001B[1;32mE:\\Anaconda3\\envs\\pytorch\\lib\\site-packages\\memory_profiler.py:379\u001B[0m, in \u001B[0;36mmemory_usage\u001B[1;34m(proc, interval, timeout, timestamps, include_children, multiprocess, max_usage, retval, stream, backend, max_iterations)\u001B[0m\n\u001B[0;32m    376\u001B[0m \u001B[38;5;66;03m# When there is an exception in the \"proc\" - the (spawned) monitoring processes don't get killed.\u001B[39;00m\n\u001B[0;32m    377\u001B[0m \u001B[38;5;66;03m# Therefore, the whole process hangs indefinitely. Here, we are ensuring that the process gets killed!\u001B[39;00m\n\u001B[0;32m    378\u001B[0m \u001B[38;5;28;01mtry\u001B[39;00m:\n\u001B[1;32m--> 379\u001B[0m     returned \u001B[38;5;241m=\u001B[39m f(\u001B[38;5;241m*\u001B[39margs, \u001B[38;5;241m*\u001B[39m\u001B[38;5;241m*\u001B[39mkw)\n\u001B[0;32m    380\u001B[0m     parent_conn\u001B[38;5;241m.\u001B[39msend(\u001B[38;5;241m0\u001B[39m)  \u001B[38;5;66;03m# finish timing\u001B[39;00m\n\u001B[0;32m    381\u001B[0m     ret \u001B[38;5;241m=\u001B[39m parent_conn\u001B[38;5;241m.\u001B[39mrecv()\n",
      "File \u001B[1;32mE:\\Anaconda3\\envs\\pytorch\\lib\\site-packages\\sklearn\\model_selection\\_search.py:803\u001B[0m, in \u001B[0;36mBaseSearchCV.fit\u001B[1;34m(self, X, y, groups, **fit_params)\u001B[0m\n\u001B[0;32m    792\u001B[0m fit_and_score_kwargs \u001B[38;5;241m=\u001B[39m \u001B[38;5;28mdict\u001B[39m(\n\u001B[0;32m    793\u001B[0m     scorer\u001B[38;5;241m=\u001B[39mscorers,\n\u001B[0;32m    794\u001B[0m     fit_params\u001B[38;5;241m=\u001B[39mfit_params,\n\u001B[1;32m   (...)\u001B[0m\n\u001B[0;32m    800\u001B[0m     verbose\u001B[38;5;241m=\u001B[39m\u001B[38;5;28mself\u001B[39m\u001B[38;5;241m.\u001B[39mverbose,\n\u001B[0;32m    801\u001B[0m )\n\u001B[0;32m    802\u001B[0m results \u001B[38;5;241m=\u001B[39m {}\n\u001B[1;32m--> 803\u001B[0m \u001B[38;5;28;01mwith\u001B[39;00m parallel:\n\u001B[0;32m    804\u001B[0m     all_candidate_params \u001B[38;5;241m=\u001B[39m []\n\u001B[0;32m    805\u001B[0m     all_out \u001B[38;5;241m=\u001B[39m []\n",
      "File \u001B[1;32mE:\\Anaconda3\\envs\\pytorch\\lib\\site-packages\\joblib\\parallel.py:1347\u001B[0m, in \u001B[0;36mParallel.__enter__\u001B[1;34m(self)\u001B[0m\n\u001B[0;32m   1345\u001B[0m \u001B[38;5;28mself\u001B[39m\u001B[38;5;241m.\u001B[39m_managed_backend \u001B[38;5;241m=\u001B[39m \u001B[38;5;28;01mTrue\u001B[39;00m\n\u001B[0;32m   1346\u001B[0m \u001B[38;5;28mself\u001B[39m\u001B[38;5;241m.\u001B[39m_calling \u001B[38;5;241m=\u001B[39m \u001B[38;5;28;01mFalse\u001B[39;00m\n\u001B[1;32m-> 1347\u001B[0m \u001B[38;5;28;43mself\u001B[39;49m\u001B[38;5;241;43m.\u001B[39;49m\u001B[43m_initialize_backend\u001B[49m\u001B[43m(\u001B[49m\u001B[43m)\u001B[49m\n\u001B[0;32m   1348\u001B[0m \u001B[38;5;28;01mreturn\u001B[39;00m \u001B[38;5;28mself\u001B[39m\n",
      "File \u001B[1;32mE:\\Anaconda3\\envs\\pytorch\\lib\\site-packages\\joblib\\parallel.py:1359\u001B[0m, in \u001B[0;36mParallel._initialize_backend\u001B[1;34m(self)\u001B[0m\n\u001B[0;32m   1357\u001B[0m \u001B[38;5;250m\u001B[39m\u001B[38;5;124;03m\"\"\"Build a process or thread pool and return the number of workers\"\"\"\u001B[39;00m\n\u001B[0;32m   1358\u001B[0m \u001B[38;5;28;01mtry\u001B[39;00m:\n\u001B[1;32m-> 1359\u001B[0m     n_jobs \u001B[38;5;241m=\u001B[39m \u001B[38;5;28mself\u001B[39m\u001B[38;5;241m.\u001B[39m_backend\u001B[38;5;241m.\u001B[39mconfigure(n_jobs\u001B[38;5;241m=\u001B[39m\u001B[38;5;28mself\u001B[39m\u001B[38;5;241m.\u001B[39mn_jobs, parallel\u001B[38;5;241m=\u001B[39m\u001B[38;5;28mself\u001B[39m,\n\u001B[0;32m   1360\u001B[0m                                      \u001B[38;5;241m*\u001B[39m\u001B[38;5;241m*\u001B[39m\u001B[38;5;28mself\u001B[39m\u001B[38;5;241m.\u001B[39m_backend_args)\n\u001B[0;32m   1361\u001B[0m     \u001B[38;5;28;01mif\u001B[39;00m \u001B[38;5;28mself\u001B[39m\u001B[38;5;241m.\u001B[39mtimeout \u001B[38;5;129;01mis\u001B[39;00m \u001B[38;5;129;01mnot\u001B[39;00m \u001B[38;5;28;01mNone\u001B[39;00m \u001B[38;5;129;01mand\u001B[39;00m \u001B[38;5;129;01mnot\u001B[39;00m \u001B[38;5;28mself\u001B[39m\u001B[38;5;241m.\u001B[39m_backend\u001B[38;5;241m.\u001B[39msupports_timeout:\n\u001B[0;32m   1362\u001B[0m         warnings\u001B[38;5;241m.\u001B[39mwarn(\n\u001B[0;32m   1363\u001B[0m             \u001B[38;5;124m'\u001B[39m\u001B[38;5;124mThe backend class \u001B[39m\u001B[38;5;132;01m{!r}\u001B[39;00m\u001B[38;5;124m does not support timeout. \u001B[39m\u001B[38;5;124m'\u001B[39m\n\u001B[0;32m   1364\u001B[0m             \u001B[38;5;124m\"\u001B[39m\u001B[38;5;124mYou have set \u001B[39m\u001B[38;5;124m'\u001B[39m\u001B[38;5;124mtimeout=\u001B[39m\u001B[38;5;132;01m{}\u001B[39;00m\u001B[38;5;124m'\u001B[39m\u001B[38;5;124m in Parallel but \u001B[39m\u001B[38;5;124m\"\u001B[39m\n\u001B[0;32m   1365\u001B[0m             \u001B[38;5;124m\"\u001B[39m\u001B[38;5;124mthe \u001B[39m\u001B[38;5;124m'\u001B[39m\u001B[38;5;124mtimeout\u001B[39m\u001B[38;5;124m'\u001B[39m\u001B[38;5;124m parameter will not be used.\u001B[39m\u001B[38;5;124m\"\u001B[39m\u001B[38;5;241m.\u001B[39mformat(\n\u001B[0;32m   1366\u001B[0m                 \u001B[38;5;28mself\u001B[39m\u001B[38;5;241m.\u001B[39m_backend\u001B[38;5;241m.\u001B[39m\u001B[38;5;18m__class__\u001B[39m\u001B[38;5;241m.\u001B[39m\u001B[38;5;18m__name__\u001B[39m,\n\u001B[0;32m   1367\u001B[0m                 \u001B[38;5;28mself\u001B[39m\u001B[38;5;241m.\u001B[39mtimeout))\n",
      "File \u001B[1;32mE:\\Anaconda3\\envs\\pytorch\\lib\\site-packages\\joblib\\_parallel_backends.py:538\u001B[0m, in \u001B[0;36mLokyBackend.configure\u001B[1;34m(self, n_jobs, parallel, prefer, require, idle_worker_timeout, **memmappingexecutor_args)\u001B[0m\n\u001B[0;32m    534\u001B[0m \u001B[38;5;28;01mif\u001B[39;00m n_jobs \u001B[38;5;241m==\u001B[39m \u001B[38;5;241m1\u001B[39m:\n\u001B[0;32m    535\u001B[0m     \u001B[38;5;28;01mraise\u001B[39;00m FallbackToBackend(\n\u001B[0;32m    536\u001B[0m         SequentialBackend(nesting_level\u001B[38;5;241m=\u001B[39m\u001B[38;5;28mself\u001B[39m\u001B[38;5;241m.\u001B[39mnesting_level))\n\u001B[1;32m--> 538\u001B[0m \u001B[38;5;28mself\u001B[39m\u001B[38;5;241m.\u001B[39m_workers \u001B[38;5;241m=\u001B[39m get_memmapping_executor(\n\u001B[0;32m    539\u001B[0m     n_jobs, timeout\u001B[38;5;241m=\u001B[39midle_worker_timeout,\n\u001B[0;32m    540\u001B[0m     env\u001B[38;5;241m=\u001B[39m\u001B[38;5;28mself\u001B[39m\u001B[38;5;241m.\u001B[39m_prepare_worker_env(n_jobs\u001B[38;5;241m=\u001B[39mn_jobs),\n\u001B[0;32m    541\u001B[0m     context_id\u001B[38;5;241m=\u001B[39mparallel\u001B[38;5;241m.\u001B[39m_id, \u001B[38;5;241m*\u001B[39m\u001B[38;5;241m*\u001B[39mmemmappingexecutor_args)\n\u001B[0;32m    542\u001B[0m \u001B[38;5;28mself\u001B[39m\u001B[38;5;241m.\u001B[39mparallel \u001B[38;5;241m=\u001B[39m parallel\n\u001B[0;32m    543\u001B[0m \u001B[38;5;28;01mreturn\u001B[39;00m n_jobs\n",
      "File \u001B[1;32mE:\\Anaconda3\\envs\\pytorch\\lib\\site-packages\\joblib\\executor.py:20\u001B[0m, in \u001B[0;36mget_memmapping_executor\u001B[1;34m(n_jobs, **kwargs)\u001B[0m\n\u001B[0;32m     19\u001B[0m \u001B[38;5;28;01mdef\u001B[39;00m \u001B[38;5;21mget_memmapping_executor\u001B[39m(n_jobs, \u001B[38;5;241m*\u001B[39m\u001B[38;5;241m*\u001B[39mkwargs):\n\u001B[1;32m---> 20\u001B[0m     \u001B[38;5;28;01mreturn\u001B[39;00m MemmappingExecutor\u001B[38;5;241m.\u001B[39mget_memmapping_executor(n_jobs, \u001B[38;5;241m*\u001B[39m\u001B[38;5;241m*\u001B[39mkwargs)\n",
      "File \u001B[1;32mE:\\Anaconda3\\envs\\pytorch\\lib\\site-packages\\joblib\\executor.py:42\u001B[0m, in \u001B[0;36mMemmappingExecutor.get_memmapping_executor\u001B[1;34m(cls, n_jobs, timeout, initializer, initargs, env, temp_folder, context_id, **backend_args)\u001B[0m\n\u001B[0;32m     39\u001B[0m reuse \u001B[38;5;241m=\u001B[39m _executor_args \u001B[38;5;129;01mis\u001B[39;00m \u001B[38;5;28;01mNone\u001B[39;00m \u001B[38;5;129;01mor\u001B[39;00m _executor_args \u001B[38;5;241m==\u001B[39m executor_args\n\u001B[0;32m     40\u001B[0m _executor_args \u001B[38;5;241m=\u001B[39m executor_args\n\u001B[1;32m---> 42\u001B[0m manager \u001B[38;5;241m=\u001B[39m \u001B[43mTemporaryResourcesManager\u001B[49m\u001B[43m(\u001B[49m\u001B[43mtemp_folder\u001B[49m\u001B[43m)\u001B[49m\n\u001B[0;32m     44\u001B[0m \u001B[38;5;66;03m# reducers access the temporary folder in which to store temporary\u001B[39;00m\n\u001B[0;32m     45\u001B[0m \u001B[38;5;66;03m# pickles through a call to manager.resolve_temp_folder_name. resolving\u001B[39;00m\n\u001B[0;32m     46\u001B[0m \u001B[38;5;66;03m# the folder name dynamically is useful to use different folders across\u001B[39;00m\n\u001B[0;32m     47\u001B[0m \u001B[38;5;66;03m# calls of a same reusable executor\u001B[39;00m\n\u001B[0;32m     48\u001B[0m job_reducers, result_reducers \u001B[38;5;241m=\u001B[39m get_memmapping_reducers(\n\u001B[0;32m     49\u001B[0m     unlink_on_gc_collect\u001B[38;5;241m=\u001B[39m\u001B[38;5;28;01mTrue\u001B[39;00m,\n\u001B[0;32m     50\u001B[0m     temp_folder_resolver\u001B[38;5;241m=\u001B[39mmanager\u001B[38;5;241m.\u001B[39mresolve_temp_folder_name,\n\u001B[0;32m     51\u001B[0m     \u001B[38;5;241m*\u001B[39m\u001B[38;5;241m*\u001B[39mbackend_args)\n",
      "File \u001B[1;32mE:\\Anaconda3\\envs\\pytorch\\lib\\site-packages\\joblib\\_memmapping_reducer.py:540\u001B[0m, in \u001B[0;36mTemporaryResourcesManager.__init__\u001B[1;34m(self, temp_folder_root, context_id)\u001B[0m\n\u001B[0;32m    534\u001B[0m \u001B[38;5;28;01mif\u001B[39;00m context_id \u001B[38;5;129;01mis\u001B[39;00m \u001B[38;5;28;01mNone\u001B[39;00m:\n\u001B[0;32m    535\u001B[0m     \u001B[38;5;66;03m# It would be safer to not assign a default context id (less silent\u001B[39;00m\n\u001B[0;32m    536\u001B[0m     \u001B[38;5;66;03m# bugs), but doing this while maintaining backward compatibility\u001B[39;00m\n\u001B[0;32m    537\u001B[0m     \u001B[38;5;66;03m# with the previous, context-unaware version get_memmaping_executor\u001B[39;00m\n\u001B[0;32m    538\u001B[0m     \u001B[38;5;66;03m# exposes too many low-level details.\u001B[39;00m\n\u001B[0;32m    539\u001B[0m     context_id \u001B[38;5;241m=\u001B[39m uuid4()\u001B[38;5;241m.\u001B[39mhex\n\u001B[1;32m--> 540\u001B[0m \u001B[38;5;28;43mself\u001B[39;49m\u001B[38;5;241;43m.\u001B[39;49m\u001B[43mset_current_context\u001B[49m\u001B[43m(\u001B[49m\u001B[43mcontext_id\u001B[49m\u001B[43m)\u001B[49m\n",
      "File \u001B[1;32mE:\\Anaconda3\\envs\\pytorch\\lib\\site-packages\\joblib\\_memmapping_reducer.py:544\u001B[0m, in \u001B[0;36mTemporaryResourcesManager.set_current_context\u001B[1;34m(self, context_id)\u001B[0m\n\u001B[0;32m    542\u001B[0m \u001B[38;5;28;01mdef\u001B[39;00m \u001B[38;5;21mset_current_context\u001B[39m(\u001B[38;5;28mself\u001B[39m, context_id):\n\u001B[0;32m    543\u001B[0m     \u001B[38;5;28mself\u001B[39m\u001B[38;5;241m.\u001B[39m_current_context_id \u001B[38;5;241m=\u001B[39m context_id\n\u001B[1;32m--> 544\u001B[0m     \u001B[38;5;28;43mself\u001B[39;49m\u001B[38;5;241;43m.\u001B[39;49m\u001B[43mregister_new_context\u001B[49m\u001B[43m(\u001B[49m\u001B[43mcontext_id\u001B[49m\u001B[43m)\u001B[49m\n",
      "File \u001B[1;32mE:\\Anaconda3\\envs\\pytorch\\lib\\site-packages\\joblib\\_memmapping_reducer.py:569\u001B[0m, in \u001B[0;36mTemporaryResourcesManager.register_new_context\u001B[1;34m(self, context_id)\u001B[0m\n\u001B[0;32m    562\u001B[0m new_folder_name \u001B[38;5;241m=\u001B[39m (\n\u001B[0;32m    563\u001B[0m     \u001B[38;5;124m\"\u001B[39m\u001B[38;5;124mjoblib_memmapping_folder_\u001B[39m\u001B[38;5;132;01m{}\u001B[39;00m\u001B[38;5;124m_\u001B[39m\u001B[38;5;132;01m{}\u001B[39;00m\u001B[38;5;124m_\u001B[39m\u001B[38;5;132;01m{}\u001B[39;00m\u001B[38;5;124m\"\u001B[39m\u001B[38;5;241m.\u001B[39mformat(\n\u001B[0;32m    564\u001B[0m         os\u001B[38;5;241m.\u001B[39mgetpid(), \u001B[38;5;28mself\u001B[39m\u001B[38;5;241m.\u001B[39m_id, context_id)\n\u001B[0;32m    565\u001B[0m )\n\u001B[0;32m    566\u001B[0m new_folder_path, _ \u001B[38;5;241m=\u001B[39m _get_temp_dir(\n\u001B[0;32m    567\u001B[0m     new_folder_name, \u001B[38;5;28mself\u001B[39m\u001B[38;5;241m.\u001B[39m_temp_folder_root\n\u001B[0;32m    568\u001B[0m )\n\u001B[1;32m--> 569\u001B[0m \u001B[38;5;28;43mself\u001B[39;49m\u001B[38;5;241;43m.\u001B[39;49m\u001B[43mregister_folder_finalizer\u001B[49m\u001B[43m(\u001B[49m\u001B[43mnew_folder_path\u001B[49m\u001B[43m,\u001B[49m\u001B[43m \u001B[49m\u001B[43mcontext_id\u001B[49m\u001B[43m)\u001B[49m\n\u001B[0;32m    570\u001B[0m \u001B[38;5;28mself\u001B[39m\u001B[38;5;241m.\u001B[39m_cached_temp_folders[context_id] \u001B[38;5;241m=\u001B[39m new_folder_path\n",
      "File \u001B[1;32mE:\\Anaconda3\\envs\\pytorch\\lib\\site-packages\\joblib\\_memmapping_reducer.py:585\u001B[0m, in \u001B[0;36mTemporaryResourcesManager.register_folder_finalizer\u001B[1;34m(self, pool_subfolder, context_id)\u001B[0m\n\u001B[0;32m    578\u001B[0m \u001B[38;5;28;01mdef\u001B[39;00m \u001B[38;5;21mregister_folder_finalizer\u001B[39m(\u001B[38;5;28mself\u001B[39m, pool_subfolder, context_id):\n\u001B[0;32m    579\u001B[0m     \u001B[38;5;66;03m# Register the garbage collector at program exit in case caller forgets\u001B[39;00m\n\u001B[0;32m    580\u001B[0m     \u001B[38;5;66;03m# to call terminate explicitly: note we do not pass any reference to\u001B[39;00m\n\u001B[0;32m    581\u001B[0m     \u001B[38;5;66;03m# ensure that this callback won't prevent garbage collection of\u001B[39;00m\n\u001B[0;32m    582\u001B[0m     \u001B[38;5;66;03m# parallel instance and related file handler resources such as POSIX\u001B[39;00m\n\u001B[0;32m    583\u001B[0m     \u001B[38;5;66;03m# semaphores and pipes\u001B[39;00m\n\u001B[0;32m    584\u001B[0m     pool_module_name \u001B[38;5;241m=\u001B[39m whichmodule(delete_folder, \u001B[38;5;124m'\u001B[39m\u001B[38;5;124mdelete_folder\u001B[39m\u001B[38;5;124m'\u001B[39m)\n\u001B[1;32m--> 585\u001B[0m     \u001B[43mresource_tracker\u001B[49m\u001B[38;5;241;43m.\u001B[39;49m\u001B[43mregister\u001B[49m\u001B[43m(\u001B[49m\u001B[43mpool_subfolder\u001B[49m\u001B[43m,\u001B[49m\u001B[43m \u001B[49m\u001B[38;5;124;43m\"\u001B[39;49m\u001B[38;5;124;43mfolder\u001B[39;49m\u001B[38;5;124;43m\"\u001B[39;49m\u001B[43m)\u001B[49m\n\u001B[0;32m    587\u001B[0m     \u001B[38;5;28;01mdef\u001B[39;00m \u001B[38;5;21m_cleanup\u001B[39m():\n\u001B[0;32m    588\u001B[0m         \u001B[38;5;66;03m# In some cases the Python runtime seems to set delete_folder to\u001B[39;00m\n\u001B[0;32m    589\u001B[0m         \u001B[38;5;66;03m# None just before exiting when accessing the delete_folder\u001B[39;00m\n\u001B[1;32m   (...)\u001B[0m\n\u001B[0;32m    594\u001B[0m         \u001B[38;5;66;03m# because joblib should only use relative imports to allow\u001B[39;00m\n\u001B[0;32m    595\u001B[0m         \u001B[38;5;66;03m# easy vendoring.\u001B[39;00m\n\u001B[0;32m    596\u001B[0m         delete_folder \u001B[38;5;241m=\u001B[39m \u001B[38;5;28m__import__\u001B[39m(\n\u001B[0;32m    597\u001B[0m             pool_module_name, fromlist\u001B[38;5;241m=\u001B[39m[\u001B[38;5;124m'\u001B[39m\u001B[38;5;124mdelete_folder\u001B[39m\u001B[38;5;124m'\u001B[39m]\n\u001B[0;32m    598\u001B[0m         )\u001B[38;5;241m.\u001B[39mdelete_folder\n",
      "File \u001B[1;32mE:\\Anaconda3\\envs\\pytorch\\lib\\site-packages\\joblib\\externals\\loky\\backend\\resource_tracker.py:178\u001B[0m, in \u001B[0;36mResourceTracker.register\u001B[1;34m(self, name, rtype)\u001B[0m\n\u001B[0;32m    176\u001B[0m \u001B[38;5;28;01mdef\u001B[39;00m \u001B[38;5;21mregister\u001B[39m(\u001B[38;5;28mself\u001B[39m, name, rtype):\n\u001B[0;32m    177\u001B[0m \u001B[38;5;250m    \u001B[39m\u001B[38;5;124;03m\"\"\"Register a named resource, and increment its refcount.\"\"\"\u001B[39;00m\n\u001B[1;32m--> 178\u001B[0m     \u001B[38;5;28;43mself\u001B[39;49m\u001B[38;5;241;43m.\u001B[39;49m\u001B[43mensure_running\u001B[49m\u001B[43m(\u001B[49m\u001B[43m)\u001B[49m\n\u001B[0;32m    179\u001B[0m     \u001B[38;5;28mself\u001B[39m\u001B[38;5;241m.\u001B[39m_send(\u001B[38;5;124m\"\u001B[39m\u001B[38;5;124mREGISTER\u001B[39m\u001B[38;5;124m\"\u001B[39m, name, rtype)\n",
      "File \u001B[1;32mE:\\Anaconda3\\envs\\pytorch\\lib\\site-packages\\joblib\\externals\\loky\\backend\\resource_tracker.py:95\u001B[0m, in \u001B[0;36mResourceTracker.ensure_running\u001B[1;34m(self)\u001B[0m\n\u001B[0;32m     92\u001B[0m \u001B[38;5;28;01mwith\u001B[39;00m \u001B[38;5;28mself\u001B[39m\u001B[38;5;241m.\u001B[39m_lock:\n\u001B[0;32m     93\u001B[0m     \u001B[38;5;28;01mif\u001B[39;00m \u001B[38;5;28mself\u001B[39m\u001B[38;5;241m.\u001B[39m_fd \u001B[38;5;129;01mis\u001B[39;00m \u001B[38;5;129;01mnot\u001B[39;00m \u001B[38;5;28;01mNone\u001B[39;00m:\n\u001B[0;32m     94\u001B[0m         \u001B[38;5;66;03m# resource tracker was launched before, is it still running?\u001B[39;00m\n\u001B[1;32m---> 95\u001B[0m         \u001B[38;5;28;01mif\u001B[39;00m \u001B[38;5;28;43mself\u001B[39;49m\u001B[38;5;241;43m.\u001B[39;49m\u001B[43m_check_alive\u001B[49m\u001B[43m(\u001B[49m\u001B[43m)\u001B[49m:\n\u001B[0;32m     96\u001B[0m             \u001B[38;5;66;03m# => still alive\u001B[39;00m\n\u001B[0;32m     97\u001B[0m             \u001B[38;5;28;01mreturn\u001B[39;00m\n\u001B[0;32m     98\u001B[0m         \u001B[38;5;66;03m# => dead, launch it again\u001B[39;00m\n",
      "File \u001B[1;32mE:\\Anaconda3\\envs\\pytorch\\lib\\site-packages\\joblib\\externals\\loky\\backend\\resource_tracker.py:170\u001B[0m, in \u001B[0;36mResourceTracker._check_alive\u001B[1;34m(self)\u001B[0m\n\u001B[0;32m    168\u001B[0m \u001B[38;5;250m\u001B[39m\u001B[38;5;124;03m\"\"\"Check for the existence of the resource tracker process.\"\"\"\u001B[39;00m\n\u001B[0;32m    169\u001B[0m \u001B[38;5;28;01mtry\u001B[39;00m:\n\u001B[1;32m--> 170\u001B[0m     \u001B[38;5;28;43mself\u001B[39;49m\u001B[38;5;241;43m.\u001B[39;49m\u001B[43m_send\u001B[49m\u001B[43m(\u001B[49m\u001B[38;5;124;43m\"\u001B[39;49m\u001B[38;5;124;43mPROBE\u001B[39;49m\u001B[38;5;124;43m\"\u001B[39;49m\u001B[43m,\u001B[49m\u001B[43m \u001B[49m\u001B[38;5;124;43m\"\u001B[39;49m\u001B[38;5;124;43m\"\u001B[39;49m\u001B[43m,\u001B[49m\u001B[43m \u001B[49m\u001B[38;5;124;43m\"\u001B[39;49m\u001B[38;5;124;43m\"\u001B[39;49m\u001B[43m)\u001B[49m\n\u001B[0;32m    171\u001B[0m \u001B[38;5;28;01mexcept\u001B[39;00m \u001B[38;5;167;01mBrokenPipeError\u001B[39;00m:\n\u001B[0;32m    172\u001B[0m     \u001B[38;5;28;01mreturn\u001B[39;00m \u001B[38;5;28;01mFalse\u001B[39;00m\n",
      "File \u001B[1;32mE:\\Anaconda3\\envs\\pytorch\\lib\\site-packages\\joblib\\externals\\loky\\backend\\resource_tracker.py:197\u001B[0m, in \u001B[0;36mResourceTracker._send\u001B[1;34m(self, cmd, name, rtype)\u001B[0m\n\u001B[0;32m    195\u001B[0m     \u001B[38;5;28;01mraise\u001B[39;00m \u001B[38;5;167;01mValueError\u001B[39;00m(\u001B[38;5;124m\"\u001B[39m\u001B[38;5;124mname too long\u001B[39m\u001B[38;5;124m\"\u001B[39m)\n\u001B[0;32m    196\u001B[0m msg \u001B[38;5;241m=\u001B[39m \u001B[38;5;124mf\u001B[39m\u001B[38;5;124m\"\u001B[39m\u001B[38;5;132;01m{\u001B[39;00mcmd\u001B[38;5;132;01m}\u001B[39;00m\u001B[38;5;124m:\u001B[39m\u001B[38;5;132;01m{\u001B[39;00mname\u001B[38;5;132;01m}\u001B[39;00m\u001B[38;5;124m:\u001B[39m\u001B[38;5;132;01m{\u001B[39;00mrtype\u001B[38;5;132;01m}\u001B[39;00m\u001B[38;5;130;01m\\n\u001B[39;00m\u001B[38;5;124m\"\u001B[39m\u001B[38;5;241m.\u001B[39mencode(\u001B[38;5;124m\"\u001B[39m\u001B[38;5;124mascii\u001B[39m\u001B[38;5;124m\"\u001B[39m)\n\u001B[1;32m--> 197\u001B[0m nbytes \u001B[38;5;241m=\u001B[39m \u001B[43mos\u001B[49m\u001B[38;5;241;43m.\u001B[39;49m\u001B[43mwrite\u001B[49m\u001B[43m(\u001B[49m\u001B[38;5;28;43mself\u001B[39;49m\u001B[38;5;241;43m.\u001B[39;49m\u001B[43m_fd\u001B[49m\u001B[43m,\u001B[49m\u001B[43m \u001B[49m\u001B[43mmsg\u001B[49m\u001B[43m)\u001B[49m\n\u001B[0;32m    198\u001B[0m \u001B[38;5;28;01massert\u001B[39;00m nbytes \u001B[38;5;241m==\u001B[39m \u001B[38;5;28mlen\u001B[39m(msg)\n",
      "\u001B[1;31mOSError\u001B[0m: [Errno 22] Invalid argument"
     ]
    }
   ],
   "execution_count": 39
  },
  {
   "metadata": {
    "ExecuteTime": {
     "end_time": "2025-02-08T01:08:05.856604Z",
     "start_time": "2025-02-08T01:08:05.844606Z"
    }
   },
   "cell_type": "code",
   "source": [
    "y_train = [x - 1 for x in y_train]\n",
    "y_train"
   ],
   "outputs": [
    {
     "data": {
      "text/plain": [
       "[3,\n",
       " -1,\n",
       " -1,\n",
       " 3,\n",
       " -1,\n",
       " -1,\n",
       " 3,\n",
       " -1,\n",
       " -1,\n",
       " 1,\n",
       " 3,\n",
       " -1,\n",
       " -1,\n",
       " -1,\n",
       " -1,\n",
       " 2,\n",
       " 3,\n",
       " 0,\n",
       " -1,\n",
       " 3,\n",
       " -1,\n",
       " -1,\n",
       " 3,\n",
       " 1,\n",
       " -1,\n",
       " -1,\n",
       " -1,\n",
       " -1,\n",
       " 1,\n",
       " 3,\n",
       " -1,\n",
       " -1,\n",
       " 0,\n",
       " 1,\n",
       " -1,\n",
       " -1,\n",
       " 1,\n",
       " 2,\n",
       " 2,\n",
       " -1,\n",
       " -1,\n",
       " -1,\n",
       " 3,\n",
       " -1,\n",
       " 3,\n",
       " 3,\n",
       " 2,\n",
       " 1,\n",
       " -1,\n",
       " 3,\n",
       " 2,\n",
       " 3,\n",
       " 2,\n",
       " 0,\n",
       " 3,\n",
       " -1,\n",
       " 1,\n",
       " 2,\n",
       " -1,\n",
       " -1,\n",
       " -1,\n",
       " 0,\n",
       " 2,\n",
       " 3,\n",
       " -1,\n",
       " -1,\n",
       " -1,\n",
       " -1,\n",
       " 1,\n",
       " 1,\n",
       " 3,\n",
       " -1,\n",
       " -1,\n",
       " -1,\n",
       " 1,\n",
       " 3,\n",
       " 3,\n",
       " 2,\n",
       " -1,\n",
       " 3,\n",
       " 2,\n",
       " -1,\n",
       " 3,\n",
       " -1,\n",
       " -1,\n",
       " -1,\n",
       " -1,\n",
       " 3,\n",
       " -1,\n",
       " 1,\n",
       " 0,\n",
       " -1,\n",
       " 1,\n",
       " -1,\n",
       " 3,\n",
       " 3,\n",
       " 2,\n",
       " 2,\n",
       " -1,\n",
       " 3,\n",
       " -1,\n",
       " -1,\n",
       " -1,\n",
       " 3,\n",
       " -1,\n",
       " 3,\n",
       " 3,\n",
       " 3,\n",
       " 3,\n",
       " -1,\n",
       " 1,\n",
       " -1,\n",
       " -1,\n",
       " 2,\n",
       " -1,\n",
       " -1,\n",
       " -1,\n",
       " -1,\n",
       " -1,\n",
       " -1,\n",
       " -1,\n",
       " -1,\n",
       " 2,\n",
       " 3,\n",
       " 3,\n",
       " 3,\n",
       " 3,\n",
       " 1,\n",
       " 3,\n",
       " -1,\n",
       " 1,\n",
       " -1,\n",
       " -1,\n",
       " 1,\n",
       " 3,\n",
       " -1,\n",
       " -1,\n",
       " 3,\n",
       " -1,\n",
       " 1,\n",
       " 2,\n",
       " 2,\n",
       " -1,\n",
       " 1,\n",
       " 3,\n",
       " 3,\n",
       " -1,\n",
       " -1,\n",
       " 0,\n",
       " -1,\n",
       " 2,\n",
       " -1,\n",
       " -1,\n",
       " 2,\n",
       " 3,\n",
       " -1,\n",
       " -1,\n",
       " 3,\n",
       " -1,\n",
       " -1,\n",
       " -1,\n",
       " -1,\n",
       " 0,\n",
       " -1,\n",
       " -1,\n",
       " 0,\n",
       " 1,\n",
       " -1,\n",
       " 3,\n",
       " -1,\n",
       " -1,\n",
       " -1,\n",
       " -1,\n",
       " 0,\n",
       " -1,\n",
       " 1,\n",
       " 1,\n",
       " -1,\n",
       " -1,\n",
       " -1,\n",
       " -1,\n",
       " 3,\n",
       " 3,\n",
       " 1,\n",
       " -1,\n",
       " 2,\n",
       " 2,\n",
       " 1,\n",
       " -1,\n",
       " -1,\n",
       " 1,\n",
       " -1,\n",
       " -1,\n",
       " -1,\n",
       " -1,\n",
       " -1,\n",
       " 2,\n",
       " 3,\n",
       " -1,\n",
       " 3,\n",
       " 2,\n",
       " 1,\n",
       " 3,\n",
       " -1,\n",
       " 3,\n",
       " 3,\n",
       " -1,\n",
       " -1,\n",
       " 0,\n",
       " 3,\n",
       " -1,\n",
       " -1,\n",
       " -1,\n",
       " 2,\n",
       " 0,\n",
       " 0,\n",
       " -1,\n",
       " -1,\n",
       " 3,\n",
       " -1,\n",
       " 1,\n",
       " 3,\n",
       " 0,\n",
       " -1,\n",
       " -1,\n",
       " -1,\n",
       " -1,\n",
       " 2,\n",
       " 1,\n",
       " -1,\n",
       " 1,\n",
       " -1,\n",
       " 3,\n",
       " -1,\n",
       " 2,\n",
       " 2,\n",
       " 3,\n",
       " -1,\n",
       " -1,\n",
       " 3,\n",
       " 3,\n",
       " -1,\n",
       " 2,\n",
       " -1,\n",
       " -1,\n",
       " -1,\n",
       " -1,\n",
       " 3,\n",
       " -1,\n",
       " -1,\n",
       " -1,\n",
       " -1,\n",
       " 3,\n",
       " 3,\n",
       " -1,\n",
       " 3,\n",
       " -1,\n",
       " -1,\n",
       " -1,\n",
       " 3,\n",
       " -1,\n",
       " 3,\n",
       " 3,\n",
       " -1,\n",
       " 2,\n",
       " -1,\n",
       " -1,\n",
       " -1,\n",
       " 2,\n",
       " -1,\n",
       " -1,\n",
       " 3,\n",
       " 3,\n",
       " 3,\n",
       " 1,\n",
       " -1,\n",
       " 2,\n",
       " -1,\n",
       " 3,\n",
       " -1,\n",
       " 3,\n",
       " -1,\n",
       " 2,\n",
       " -1,\n",
       " -1,\n",
       " -1,\n",
       " 2,\n",
       " -1,\n",
       " -1,\n",
       " -1,\n",
       " 3,\n",
       " 3,\n",
       " 3,\n",
       " -1,\n",
       " -1,\n",
       " -1,\n",
       " 3,\n",
       " -1,\n",
       " -1,\n",
       " -1,\n",
       " -1,\n",
       " 2,\n",
       " 2,\n",
       " -1,\n",
       " 2,\n",
       " -1,\n",
       " 1,\n",
       " -1,\n",
       " 1,\n",
       " 0,\n",
       " 1,\n",
       " -1,\n",
       " -1,\n",
       " -1,\n",
       " -1,\n",
       " -1,\n",
       " -1,\n",
       " 3,\n",
       " -1,\n",
       " -1,\n",
       " 1,\n",
       " 1,\n",
       " -1,\n",
       " 1,\n",
       " 1,\n",
       " -1,\n",
       " 1,\n",
       " 1,\n",
       " -1,\n",
       " 2,\n",
       " 3,\n",
       " -1,\n",
       " -1,\n",
       " 1,\n",
       " 2,\n",
       " 3,\n",
       " 1,\n",
       " 1,\n",
       " -1,\n",
       " 2,\n",
       " -1,\n",
       " -1,\n",
       " -1,\n",
       " -1,\n",
       " -1,\n",
       " 1,\n",
       " 2,\n",
       " -1,\n",
       " 3,\n",
       " -1,\n",
       " 3,\n",
       " -1,\n",
       " 3,\n",
       " -1,\n",
       " -1,\n",
       " 3,\n",
       " -1,\n",
       " -1,\n",
       " -1,\n",
       " 1,\n",
       " -1,\n",
       " -1,\n",
       " -1,\n",
       " 3,\n",
       " 3,\n",
       " 3,\n",
       " 0,\n",
       " 3,\n",
       " -1,\n",
       " -1,\n",
       " 3,\n",
       " 3,\n",
       " 3,\n",
       " 1,\n",
       " 2,\n",
       " -1,\n",
       " -1,\n",
       " 2,\n",
       " -1,\n",
       " 0,\n",
       " -1,\n",
       " 3,\n",
       " 3,\n",
       " 3,\n",
       " 2,\n",
       " 2,\n",
       " -1,\n",
       " -1,\n",
       " 2,\n",
       " -1,\n",
       " 2,\n",
       " -1,\n",
       " 1,\n",
       " 3,\n",
       " -1,\n",
       " 3,\n",
       " -1,\n",
       " 0,\n",
       " -1,\n",
       " -1,\n",
       " -1,\n",
       " 1,\n",
       " -1,\n",
       " -1,\n",
       " -1,\n",
       " 1,\n",
       " -1,\n",
       " 3,\n",
       " -1,\n",
       " -1,\n",
       " 2,\n",
       " -1,\n",
       " -1,\n",
       " -1,\n",
       " 3,\n",
       " 1,\n",
       " -1,\n",
       " -1,\n",
       " -1,\n",
       " 3,\n",
       " -1,\n",
       " 2,\n",
       " -1,\n",
       " 3,\n",
       " -1,\n",
       " 3,\n",
       " 3,\n",
       " 2,\n",
       " 3,\n",
       " -1,\n",
       " 3,\n",
       " 2,\n",
       " 2,\n",
       " 3,\n",
       " -1,\n",
       " 2,\n",
       " -1,\n",
       " 0,\n",
       " 3,\n",
       " 3,\n",
       " 2,\n",
       " -1,\n",
       " -1,\n",
       " -1,\n",
       " 2,\n",
       " 3,\n",
       " 3,\n",
       " 1,\n",
       " 3,\n",
       " 3,\n",
       " 3,\n",
       " 1,\n",
       " -1,\n",
       " -1,\n",
       " 3,\n",
       " 3,\n",
       " 0,\n",
       " -1,\n",
       " 1,\n",
       " 3,\n",
       " 1,\n",
       " 3,\n",
       " 1,\n",
       " -1,\n",
       " 3,\n",
       " 2,\n",
       " 2,\n",
       " -1,\n",
       " -1,\n",
       " -1,\n",
       " 3,\n",
       " -1,\n",
       " 2,\n",
       " -1,\n",
       " -1,\n",
       " 2,\n",
       " -1,\n",
       " 3,\n",
       " 3,\n",
       " 3,\n",
       " 3,\n",
       " 3,\n",
       " 0,\n",
       " -1,\n",
       " 0,\n",
       " 3,\n",
       " 0,\n",
       " 2,\n",
       " 3,\n",
       " 0,\n",
       " 3,\n",
       " -1,\n",
       " -1,\n",
       " 2,\n",
       " -1,\n",
       " 2,\n",
       " 3,\n",
       " 3,\n",
       " -1,\n",
       " 3,\n",
       " 3,\n",
       " -1,\n",
       " -1,\n",
       " -1,\n",
       " 3,\n",
       " 3,\n",
       " -1,\n",
       " -1,\n",
       " 2,\n",
       " 2,\n",
       " -1,\n",
       " 3,\n",
       " -1,\n",
       " -1,\n",
       " 2,\n",
       " -1,\n",
       " 3,\n",
       " -1,\n",
       " -1,\n",
       " 2,\n",
       " -1,\n",
       " -1,\n",
       " -1,\n",
       " 0,\n",
       " -1,\n",
       " -1,\n",
       " 1,\n",
       " -1,\n",
       " 3,\n",
       " 3,\n",
       " 3,\n",
       " -1,\n",
       " 3,\n",
       " 2,\n",
       " -1,\n",
       " -1,\n",
       " 1,\n",
       " -1,\n",
       " 0,\n",
       " 1,\n",
       " -1,\n",
       " 3,\n",
       " -1,\n",
       " -1,\n",
       " 3,\n",
       " -1,\n",
       " -1,\n",
       " -1,\n",
       " -1,\n",
       " -1,\n",
       " 2,\n",
       " 2,\n",
       " 3,\n",
       " -1,\n",
       " 2,\n",
       " -1,\n",
       " -1,\n",
       " -1,\n",
       " 3,\n",
       " 2,\n",
       " -1,\n",
       " 3,\n",
       " 3,\n",
       " -1,\n",
       " 3,\n",
       " 3,\n",
       " 2,\n",
       " -1,\n",
       " -1,\n",
       " 1,\n",
       " -1,\n",
       " 3,\n",
       " 3,\n",
       " 1,\n",
       " -1,\n",
       " -1,\n",
       " 3,\n",
       " -1,\n",
       " -1,\n",
       " 2,\n",
       " -1,\n",
       " -1,\n",
       " 2,\n",
       " -1,\n",
       " 1,\n",
       " 3,\n",
       " -1,\n",
       " 3,\n",
       " -1,\n",
       " -1,\n",
       " 1,\n",
       " -1,\n",
       " -1,\n",
       " -1,\n",
       " 2,\n",
       " 2,\n",
       " -1,\n",
       " 2,\n",
       " -1,\n",
       " -1,\n",
       " -1,\n",
       " 3,\n",
       " -1,\n",
       " 3,\n",
       " 3,\n",
       " -1,\n",
       " -1,\n",
       " -1,\n",
       " -1,\n",
       " -1,\n",
       " -1,\n",
       " 3,\n",
       " -1,\n",
       " -1,\n",
       " -1,\n",
       " -1,\n",
       " 3,\n",
       " 3,\n",
       " 3,\n",
       " 2,\n",
       " -1,\n",
       " 3,\n",
       " 1,\n",
       " 3,\n",
       " -1,\n",
       " -1,\n",
       " 0,\n",
       " 2,\n",
       " 0,\n",
       " -1,\n",
       " 2,\n",
       " -1,\n",
       " 2,\n",
       " 3,\n",
       " -1,\n",
       " 3,\n",
       " 3,\n",
       " -1,\n",
       " -1,\n",
       " 2,\n",
       " 2,\n",
       " 3,\n",
       " 3,\n",
       " -1,\n",
       " -1,\n",
       " 2,\n",
       " 2,\n",
       " 3,\n",
       " 1,\n",
       " 3,\n",
       " -1,\n",
       " -1,\n",
       " -1,\n",
       " 3,\n",
       " -1,\n",
       " 3,\n",
       " -1,\n",
       " 2,\n",
       " -1,\n",
       " 2,\n",
       " -1,\n",
       " 2,\n",
       " 3,\n",
       " -1,\n",
       " 3,\n",
       " 2,\n",
       " -1,\n",
       " -1,\n",
       " -1,\n",
       " 1,\n",
       " 2,\n",
       " -1,\n",
       " 2,\n",
       " -1,\n",
       " -1,\n",
       " 3,\n",
       " -1,\n",
       " 3,\n",
       " -1,\n",
       " -1,\n",
       " 0,\n",
       " -1,\n",
       " 2,\n",
       " 3,\n",
       " -1,\n",
       " 3,\n",
       " -1,\n",
       " 1,\n",
       " -1,\n",
       " 1,\n",
       " -1,\n",
       " 3,\n",
       " 1,\n",
       " 1,\n",
       " 3,\n",
       " -1,\n",
       " -1,\n",
       " 3,\n",
       " 3,\n",
       " 3,\n",
       " 3,\n",
       " -1,\n",
       " 3,\n",
       " 2,\n",
       " -1,\n",
       " -1,\n",
       " -1,\n",
       " 2,\n",
       " -1,\n",
       " -1,\n",
       " 2,\n",
       " -1,\n",
       " -1,\n",
       " 2,\n",
       " -1,\n",
       " 3,\n",
       " 2,\n",
       " 2,\n",
       " 3,\n",
       " -1,\n",
       " 2,\n",
       " -1,\n",
       " 2,\n",
       " 2,\n",
       " -1,\n",
       " -1,\n",
       " -1,\n",
       " -1,\n",
       " -1,\n",
       " -1,\n",
       " 3,\n",
       " -1,\n",
       " -1,\n",
       " -1,\n",
       " -1,\n",
       " 3,\n",
       " 2,\n",
       " 0,\n",
       " 1,\n",
       " -1,\n",
       " -1,\n",
       " -1,\n",
       " -1,\n",
       " 3,\n",
       " 2,\n",
       " 3,\n",
       " 1,\n",
       " 1,\n",
       " 2,\n",
       " 3,\n",
       " -1,\n",
       " -1,\n",
       " -1,\n",
       " -1,\n",
       " -1,\n",
       " 1,\n",
       " -1,\n",
       " 3,\n",
       " -1,\n",
       " 2,\n",
       " 2,\n",
       " -1,\n",
       " -1,\n",
       " 3,\n",
       " 0,\n",
       " -1,\n",
       " 3,\n",
       " -1,\n",
       " -1,\n",
       " -1,\n",
       " 3,\n",
       " 1,\n",
       " 2,\n",
       " 0,\n",
       " -1,\n",
       " -1,\n",
       " 1,\n",
       " -1,\n",
       " 3,\n",
       " 2,\n",
       " -1,\n",
       " -1,\n",
       " 2,\n",
       " -1,\n",
       " 3,\n",
       " 2,\n",
       " 3,\n",
       " 3,\n",
       " -1,\n",
       " -1,\n",
       " 2,\n",
       " -1,\n",
       " 3,\n",
       " -1,\n",
       " -1,\n",
       " -1,\n",
       " 3,\n",
       " -1,\n",
       " -1,\n",
       " 3,\n",
       " -1,\n",
       " -1,\n",
       " -1,\n",
       " -1,\n",
       " 3,\n",
       " -1,\n",
       " -1,\n",
       " 3,\n",
       " 2,\n",
       " -1,\n",
       " 0,\n",
       " -1,\n",
       " 3,\n",
       " -1,\n",
       " -1,\n",
       " 2,\n",
       " 1,\n",
       " -1,\n",
       " 0,\n",
       " 2,\n",
       " 3,\n",
       " 1,\n",
       " -1,\n",
       " -1,\n",
       " -1,\n",
       " 3,\n",
       " -1,\n",
       " 3,\n",
       " -1,\n",
       " -1,\n",
       " 0,\n",
       " -1,\n",
       " 1,\n",
       " 2,\n",
       " 1,\n",
       " -1,\n",
       " 3,\n",
       " -1,\n",
       " 2,\n",
       " 0,\n",
       " 3,\n",
       " -1,\n",
       " -1,\n",
       " 2,\n",
       " -1,\n",
       " 1,\n",
       " -1,\n",
       " -1,\n",
       " 2,\n",
       " -1,\n",
       " 2,\n",
       " -1,\n",
       " 1,\n",
       " -1,\n",
       " 3,\n",
       " 2,\n",
       " -1,\n",
       " 0,\n",
       " -1,\n",
       " -1,\n",
       " 3,\n",
       " -1,\n",
       " -1,\n",
       " 1,\n",
       " 3,\n",
       " 0,\n",
       " 3,\n",
       " -1,\n",
       " 2,\n",
       " -1,\n",
       " -1,\n",
       " -1,\n",
       " 2,\n",
       " -1,\n",
       " -1,\n",
       " -1,\n",
       " 3,\n",
       " 3,\n",
       " 3,\n",
       " 3,\n",
       " -1,\n",
       " 3,\n",
       " -1,\n",
       " -1,\n",
       " -1,\n",
       " -1,\n",
       " 0,\n",
       " -1,\n",
       " 1,\n",
       " 2,\n",
       " 3,\n",
       " -1,\n",
       " -1,\n",
       " 3,\n",
       " 3,\n",
       " -1,\n",
       " -1,\n",
       " 3,\n",
       " 2,\n",
       " -1,\n",
       " -1,\n",
       " -1,\n",
       " 0,\n",
       " -1,\n",
       " 2,\n",
       " 0,\n",
       " -1,\n",
       " 2,\n",
       " -1,\n",
       " 1,\n",
       " 2,\n",
       " -1,\n",
       " -1,\n",
       " 1,\n",
       " -1,\n",
       " -1,\n",
       " -1,\n",
       " 3,\n",
       " -1,\n",
       " -1,\n",
       " 2,\n",
       " -1,\n",
       " 3,\n",
       " -1,\n",
       " -1,\n",
       " 3,\n",
       " 1,\n",
       " -1,\n",
       " 3,\n",
       " 0,\n",
       " -1,\n",
       " 3,\n",
       " -1,\n",
       " -1,\n",
       " 3,\n",
       " 2,\n",
       " -1,\n",
       " 0,\n",
       " -1,\n",
       " -1,\n",
       " 3,\n",
       " 1,\n",
       " 1,\n",
       " -1,\n",
       " -1,\n",
       " -1,\n",
       " 3,\n",
       " 3,\n",
       " -1,\n",
       " 2,\n",
       " 3,\n",
       " -1,\n",
       " 1,\n",
       " 2,\n",
       " 3,\n",
       " -1,\n",
       " -1,\n",
       " -1,\n",
       " 1,\n",
       " -1,\n",
       " -1,\n",
       " -1,\n",
       " -1,\n",
       " 3,\n",
       " -1,\n",
       " 1,\n",
       " -1,\n",
       " 3,\n",
       " 2,\n",
       " 3,\n",
       " 3,\n",
       " 2,\n",
       " 3,\n",
       " 2,\n",
       " 3,\n",
       " -1,\n",
       " 0,\n",
       " 2,\n",
       " -1,\n",
       " -1,\n",
       " 2,\n",
       " -1,\n",
       " 3,\n",
       " -1,\n",
       " 3,\n",
       " 1,\n",
       " 3,\n",
       " 1,\n",
       " -1,\n",
       " -1,\n",
       " -1,\n",
       " 3,\n",
       " -1,\n",
       " 1,\n",
       " -1,\n",
       " 3,\n",
       " -1,\n",
       " -1,\n",
       " -1,\n",
       " -1,\n",
       " ...]"
      ]
     },
     "execution_count": 44,
     "metadata": {},
     "output_type": "execute_result"
    }
   ],
   "execution_count": 44
  },
  {
   "metadata": {
    "ExecuteTime": {
     "end_time": "2025-02-08T01:08:07.656350Z",
     "start_time": "2025-02-08T01:08:06.961589Z"
    }
   },
   "cell_type": "code",
   "source": [
    "param_grid_xgb = { \n",
    "    'max_depth': np.arange(3, 4, 1), \n",
    "    'n_estimators': np.arange(100,  121, 20) \n",
    "}\n",
    "\n",
    "xgb_model = XGBClassifier() \n",
    "xgb_grid = GridSearchCV(xgb_model, param_grid=param_grid_xgb, n_jobs=-1)\n",
    "xgb_results = perform_model(xgb_grid, X_train, y_train, X_test, y_test, class_labels=labels) \n",
    "print_grid_search_attributes(xgb_results['model'])"
   ],
   "outputs": [
    {
     "name": "stdout",
     "output_type": "stream",
     "text": [
      "训练模型中..\n"
     ]
    },
    {
     "ename": "OSError",
     "evalue": "[Errno 22] Invalid argument",
     "output_type": "error",
     "traceback": [
      "\u001B[1;31m---------------------------------------------------------------------------\u001B[0m",
      "\u001B[1;31mOSError\u001B[0m                                   Traceback (most recent call last)",
      "Cell \u001B[1;32mIn[45], line 8\u001B[0m\n\u001B[0;32m      6\u001B[0m xgb_model \u001B[38;5;241m=\u001B[39m XGBClassifier() \n\u001B[0;32m      7\u001B[0m xgb_grid \u001B[38;5;241m=\u001B[39m GridSearchCV(xgb_model, param_grid\u001B[38;5;241m=\u001B[39mparam_grid_xgb, n_jobs\u001B[38;5;241m=\u001B[39m\u001B[38;5;241m-\u001B[39m\u001B[38;5;241m1\u001B[39m)\n\u001B[1;32m----> 8\u001B[0m xgb_results \u001B[38;5;241m=\u001B[39m \u001B[43mperform_model\u001B[49m\u001B[43m(\u001B[49m\u001B[43mxgb_grid\u001B[49m\u001B[43m,\u001B[49m\u001B[43m \u001B[49m\u001B[43mX_train\u001B[49m\u001B[43m,\u001B[49m\u001B[43m \u001B[49m\u001B[43my_train\u001B[49m\u001B[43m,\u001B[49m\u001B[43m \u001B[49m\u001B[43mX_test\u001B[49m\u001B[43m,\u001B[49m\u001B[43m \u001B[49m\u001B[43my_test\u001B[49m\u001B[43m,\u001B[49m\u001B[43m \u001B[49m\u001B[43mclass_labels\u001B[49m\u001B[38;5;241;43m=\u001B[39;49m\u001B[43mlabels\u001B[49m\u001B[43m)\u001B[49m \n\u001B[0;32m      9\u001B[0m print_grid_search_attributes(xgb_results[\u001B[38;5;124m'\u001B[39m\u001B[38;5;124mmodel\u001B[39m\u001B[38;5;124m'\u001B[39m])\n",
      "Cell \u001B[1;32mIn[24], line 15\u001B[0m, in \u001B[0;36mperform_model\u001B[1;34m(model, X_train, y_train, X_test, y_test, class_labels, cm_normalize, print_cm, cm_cmap)\u001B[0m\n\u001B[0;32m     12\u001B[0m \u001B[38;5;28mprint\u001B[39m(\u001B[38;5;124m'\u001B[39m\u001B[38;5;124m训练模型中..\u001B[39m\u001B[38;5;124m'\u001B[39m)\n\u001B[0;32m     14\u001B[0m \u001B[38;5;66;03m# 监控训练阶段的内存使用\u001B[39;00m\n\u001B[1;32m---> 15\u001B[0m mem_usage_train \u001B[38;5;241m=\u001B[39m \u001B[43mmemory_usage\u001B[49m\u001B[43m(\u001B[49m\u001B[43m(\u001B[49m\u001B[43mmodel\u001B[49m\u001B[38;5;241;43m.\u001B[39;49m\u001B[43mfit\u001B[49m\u001B[43m,\u001B[49m\u001B[43m \u001B[49m\u001B[43m(\u001B[49m\u001B[43mX_train\u001B[49m\u001B[43m,\u001B[49m\u001B[43m \u001B[49m\u001B[43my_train\u001B[49m\u001B[43m)\u001B[49m\u001B[43m)\u001B[49m\u001B[43m,\u001B[49m\u001B[43m \u001B[49m\u001B[43minterval\u001B[49m\u001B[38;5;241;43m=\u001B[39;49m\u001B[38;5;241;43m0.1\u001B[39;49m\u001B[43m)\u001B[49m\n\u001B[0;32m     16\u001B[0m results[\u001B[38;5;124m'\u001B[39m\u001B[38;5;124mtrain_memory_usage\u001B[39m\u001B[38;5;124m'\u001B[39m] \u001B[38;5;241m=\u001B[39m \u001B[38;5;28mmax\u001B[39m(mem_usage_train)\n\u001B[0;32m     18\u001B[0m \u001B[38;5;28mprint\u001B[39m(\u001B[38;5;124m'\u001B[39m\u001B[38;5;124m完成 \u001B[39m\u001B[38;5;130;01m\\n\u001B[39;00m\u001B[38;5;124m \u001B[39m\u001B[38;5;130;01m\\n\u001B[39;00m\u001B[38;5;124m'\u001B[39m)\n",
      "File \u001B[1;32mE:\\Anaconda3\\envs\\pytorch\\lib\\site-packages\\memory_profiler.py:379\u001B[0m, in \u001B[0;36mmemory_usage\u001B[1;34m(proc, interval, timeout, timestamps, include_children, multiprocess, max_usage, retval, stream, backend, max_iterations)\u001B[0m\n\u001B[0;32m    376\u001B[0m \u001B[38;5;66;03m# When there is an exception in the \"proc\" - the (spawned) monitoring processes don't get killed.\u001B[39;00m\n\u001B[0;32m    377\u001B[0m \u001B[38;5;66;03m# Therefore, the whole process hangs indefinitely. Here, we are ensuring that the process gets killed!\u001B[39;00m\n\u001B[0;32m    378\u001B[0m \u001B[38;5;28;01mtry\u001B[39;00m:\n\u001B[1;32m--> 379\u001B[0m     returned \u001B[38;5;241m=\u001B[39m f(\u001B[38;5;241m*\u001B[39margs, \u001B[38;5;241m*\u001B[39m\u001B[38;5;241m*\u001B[39mkw)\n\u001B[0;32m    380\u001B[0m     parent_conn\u001B[38;5;241m.\u001B[39msend(\u001B[38;5;241m0\u001B[39m)  \u001B[38;5;66;03m# finish timing\u001B[39;00m\n\u001B[0;32m    381\u001B[0m     ret \u001B[38;5;241m=\u001B[39m parent_conn\u001B[38;5;241m.\u001B[39mrecv()\n",
      "File \u001B[1;32mE:\\Anaconda3\\envs\\pytorch\\lib\\site-packages\\sklearn\\model_selection\\_search.py:803\u001B[0m, in \u001B[0;36mBaseSearchCV.fit\u001B[1;34m(self, X, y, groups, **fit_params)\u001B[0m\n\u001B[0;32m    792\u001B[0m fit_and_score_kwargs \u001B[38;5;241m=\u001B[39m \u001B[38;5;28mdict\u001B[39m(\n\u001B[0;32m    793\u001B[0m     scorer\u001B[38;5;241m=\u001B[39mscorers,\n\u001B[0;32m    794\u001B[0m     fit_params\u001B[38;5;241m=\u001B[39mfit_params,\n\u001B[1;32m   (...)\u001B[0m\n\u001B[0;32m    800\u001B[0m     verbose\u001B[38;5;241m=\u001B[39m\u001B[38;5;28mself\u001B[39m\u001B[38;5;241m.\u001B[39mverbose,\n\u001B[0;32m    801\u001B[0m )\n\u001B[0;32m    802\u001B[0m results \u001B[38;5;241m=\u001B[39m {}\n\u001B[1;32m--> 803\u001B[0m \u001B[38;5;28;01mwith\u001B[39;00m parallel:\n\u001B[0;32m    804\u001B[0m     all_candidate_params \u001B[38;5;241m=\u001B[39m []\n\u001B[0;32m    805\u001B[0m     all_out \u001B[38;5;241m=\u001B[39m []\n",
      "File \u001B[1;32mE:\\Anaconda3\\envs\\pytorch\\lib\\site-packages\\joblib\\parallel.py:1347\u001B[0m, in \u001B[0;36mParallel.__enter__\u001B[1;34m(self)\u001B[0m\n\u001B[0;32m   1345\u001B[0m \u001B[38;5;28mself\u001B[39m\u001B[38;5;241m.\u001B[39m_managed_backend \u001B[38;5;241m=\u001B[39m \u001B[38;5;28;01mTrue\u001B[39;00m\n\u001B[0;32m   1346\u001B[0m \u001B[38;5;28mself\u001B[39m\u001B[38;5;241m.\u001B[39m_calling \u001B[38;5;241m=\u001B[39m \u001B[38;5;28;01mFalse\u001B[39;00m\n\u001B[1;32m-> 1347\u001B[0m \u001B[38;5;28;43mself\u001B[39;49m\u001B[38;5;241;43m.\u001B[39;49m\u001B[43m_initialize_backend\u001B[49m\u001B[43m(\u001B[49m\u001B[43m)\u001B[49m\n\u001B[0;32m   1348\u001B[0m \u001B[38;5;28;01mreturn\u001B[39;00m \u001B[38;5;28mself\u001B[39m\n",
      "File \u001B[1;32mE:\\Anaconda3\\envs\\pytorch\\lib\\site-packages\\joblib\\parallel.py:1359\u001B[0m, in \u001B[0;36mParallel._initialize_backend\u001B[1;34m(self)\u001B[0m\n\u001B[0;32m   1357\u001B[0m \u001B[38;5;250m\u001B[39m\u001B[38;5;124;03m\"\"\"Build a process or thread pool and return the number of workers\"\"\"\u001B[39;00m\n\u001B[0;32m   1358\u001B[0m \u001B[38;5;28;01mtry\u001B[39;00m:\n\u001B[1;32m-> 1359\u001B[0m     n_jobs \u001B[38;5;241m=\u001B[39m \u001B[38;5;28mself\u001B[39m\u001B[38;5;241m.\u001B[39m_backend\u001B[38;5;241m.\u001B[39mconfigure(n_jobs\u001B[38;5;241m=\u001B[39m\u001B[38;5;28mself\u001B[39m\u001B[38;5;241m.\u001B[39mn_jobs, parallel\u001B[38;5;241m=\u001B[39m\u001B[38;5;28mself\u001B[39m,\n\u001B[0;32m   1360\u001B[0m                                      \u001B[38;5;241m*\u001B[39m\u001B[38;5;241m*\u001B[39m\u001B[38;5;28mself\u001B[39m\u001B[38;5;241m.\u001B[39m_backend_args)\n\u001B[0;32m   1361\u001B[0m     \u001B[38;5;28;01mif\u001B[39;00m \u001B[38;5;28mself\u001B[39m\u001B[38;5;241m.\u001B[39mtimeout \u001B[38;5;129;01mis\u001B[39;00m \u001B[38;5;129;01mnot\u001B[39;00m \u001B[38;5;28;01mNone\u001B[39;00m \u001B[38;5;129;01mand\u001B[39;00m \u001B[38;5;129;01mnot\u001B[39;00m \u001B[38;5;28mself\u001B[39m\u001B[38;5;241m.\u001B[39m_backend\u001B[38;5;241m.\u001B[39msupports_timeout:\n\u001B[0;32m   1362\u001B[0m         warnings\u001B[38;5;241m.\u001B[39mwarn(\n\u001B[0;32m   1363\u001B[0m             \u001B[38;5;124m'\u001B[39m\u001B[38;5;124mThe backend class \u001B[39m\u001B[38;5;132;01m{!r}\u001B[39;00m\u001B[38;5;124m does not support timeout. \u001B[39m\u001B[38;5;124m'\u001B[39m\n\u001B[0;32m   1364\u001B[0m             \u001B[38;5;124m\"\u001B[39m\u001B[38;5;124mYou have set \u001B[39m\u001B[38;5;124m'\u001B[39m\u001B[38;5;124mtimeout=\u001B[39m\u001B[38;5;132;01m{}\u001B[39;00m\u001B[38;5;124m'\u001B[39m\u001B[38;5;124m in Parallel but \u001B[39m\u001B[38;5;124m\"\u001B[39m\n\u001B[0;32m   1365\u001B[0m             \u001B[38;5;124m\"\u001B[39m\u001B[38;5;124mthe \u001B[39m\u001B[38;5;124m'\u001B[39m\u001B[38;5;124mtimeout\u001B[39m\u001B[38;5;124m'\u001B[39m\u001B[38;5;124m parameter will not be used.\u001B[39m\u001B[38;5;124m\"\u001B[39m\u001B[38;5;241m.\u001B[39mformat(\n\u001B[0;32m   1366\u001B[0m                 \u001B[38;5;28mself\u001B[39m\u001B[38;5;241m.\u001B[39m_backend\u001B[38;5;241m.\u001B[39m\u001B[38;5;18m__class__\u001B[39m\u001B[38;5;241m.\u001B[39m\u001B[38;5;18m__name__\u001B[39m,\n\u001B[0;32m   1367\u001B[0m                 \u001B[38;5;28mself\u001B[39m\u001B[38;5;241m.\u001B[39mtimeout))\n",
      "File \u001B[1;32mE:\\Anaconda3\\envs\\pytorch\\lib\\site-packages\\joblib\\_parallel_backends.py:538\u001B[0m, in \u001B[0;36mLokyBackend.configure\u001B[1;34m(self, n_jobs, parallel, prefer, require, idle_worker_timeout, **memmappingexecutor_args)\u001B[0m\n\u001B[0;32m    534\u001B[0m \u001B[38;5;28;01mif\u001B[39;00m n_jobs \u001B[38;5;241m==\u001B[39m \u001B[38;5;241m1\u001B[39m:\n\u001B[0;32m    535\u001B[0m     \u001B[38;5;28;01mraise\u001B[39;00m FallbackToBackend(\n\u001B[0;32m    536\u001B[0m         SequentialBackend(nesting_level\u001B[38;5;241m=\u001B[39m\u001B[38;5;28mself\u001B[39m\u001B[38;5;241m.\u001B[39mnesting_level))\n\u001B[1;32m--> 538\u001B[0m \u001B[38;5;28mself\u001B[39m\u001B[38;5;241m.\u001B[39m_workers \u001B[38;5;241m=\u001B[39m get_memmapping_executor(\n\u001B[0;32m    539\u001B[0m     n_jobs, timeout\u001B[38;5;241m=\u001B[39midle_worker_timeout,\n\u001B[0;32m    540\u001B[0m     env\u001B[38;5;241m=\u001B[39m\u001B[38;5;28mself\u001B[39m\u001B[38;5;241m.\u001B[39m_prepare_worker_env(n_jobs\u001B[38;5;241m=\u001B[39mn_jobs),\n\u001B[0;32m    541\u001B[0m     context_id\u001B[38;5;241m=\u001B[39mparallel\u001B[38;5;241m.\u001B[39m_id, \u001B[38;5;241m*\u001B[39m\u001B[38;5;241m*\u001B[39mmemmappingexecutor_args)\n\u001B[0;32m    542\u001B[0m \u001B[38;5;28mself\u001B[39m\u001B[38;5;241m.\u001B[39mparallel \u001B[38;5;241m=\u001B[39m parallel\n\u001B[0;32m    543\u001B[0m \u001B[38;5;28;01mreturn\u001B[39;00m n_jobs\n",
      "File \u001B[1;32mE:\\Anaconda3\\envs\\pytorch\\lib\\site-packages\\joblib\\executor.py:20\u001B[0m, in \u001B[0;36mget_memmapping_executor\u001B[1;34m(n_jobs, **kwargs)\u001B[0m\n\u001B[0;32m     19\u001B[0m \u001B[38;5;28;01mdef\u001B[39;00m \u001B[38;5;21mget_memmapping_executor\u001B[39m(n_jobs, \u001B[38;5;241m*\u001B[39m\u001B[38;5;241m*\u001B[39mkwargs):\n\u001B[1;32m---> 20\u001B[0m     \u001B[38;5;28;01mreturn\u001B[39;00m MemmappingExecutor\u001B[38;5;241m.\u001B[39mget_memmapping_executor(n_jobs, \u001B[38;5;241m*\u001B[39m\u001B[38;5;241m*\u001B[39mkwargs)\n",
      "File \u001B[1;32mE:\\Anaconda3\\envs\\pytorch\\lib\\site-packages\\joblib\\executor.py:42\u001B[0m, in \u001B[0;36mMemmappingExecutor.get_memmapping_executor\u001B[1;34m(cls, n_jobs, timeout, initializer, initargs, env, temp_folder, context_id, **backend_args)\u001B[0m\n\u001B[0;32m     39\u001B[0m reuse \u001B[38;5;241m=\u001B[39m _executor_args \u001B[38;5;129;01mis\u001B[39;00m \u001B[38;5;28;01mNone\u001B[39;00m \u001B[38;5;129;01mor\u001B[39;00m _executor_args \u001B[38;5;241m==\u001B[39m executor_args\n\u001B[0;32m     40\u001B[0m _executor_args \u001B[38;5;241m=\u001B[39m executor_args\n\u001B[1;32m---> 42\u001B[0m manager \u001B[38;5;241m=\u001B[39m \u001B[43mTemporaryResourcesManager\u001B[49m\u001B[43m(\u001B[49m\u001B[43mtemp_folder\u001B[49m\u001B[43m)\u001B[49m\n\u001B[0;32m     44\u001B[0m \u001B[38;5;66;03m# reducers access the temporary folder in which to store temporary\u001B[39;00m\n\u001B[0;32m     45\u001B[0m \u001B[38;5;66;03m# pickles through a call to manager.resolve_temp_folder_name. resolving\u001B[39;00m\n\u001B[0;32m     46\u001B[0m \u001B[38;5;66;03m# the folder name dynamically is useful to use different folders across\u001B[39;00m\n\u001B[0;32m     47\u001B[0m \u001B[38;5;66;03m# calls of a same reusable executor\u001B[39;00m\n\u001B[0;32m     48\u001B[0m job_reducers, result_reducers \u001B[38;5;241m=\u001B[39m get_memmapping_reducers(\n\u001B[0;32m     49\u001B[0m     unlink_on_gc_collect\u001B[38;5;241m=\u001B[39m\u001B[38;5;28;01mTrue\u001B[39;00m,\n\u001B[0;32m     50\u001B[0m     temp_folder_resolver\u001B[38;5;241m=\u001B[39mmanager\u001B[38;5;241m.\u001B[39mresolve_temp_folder_name,\n\u001B[0;32m     51\u001B[0m     \u001B[38;5;241m*\u001B[39m\u001B[38;5;241m*\u001B[39mbackend_args)\n",
      "File \u001B[1;32mE:\\Anaconda3\\envs\\pytorch\\lib\\site-packages\\joblib\\_memmapping_reducer.py:540\u001B[0m, in \u001B[0;36mTemporaryResourcesManager.__init__\u001B[1;34m(self, temp_folder_root, context_id)\u001B[0m\n\u001B[0;32m    534\u001B[0m \u001B[38;5;28;01mif\u001B[39;00m context_id \u001B[38;5;129;01mis\u001B[39;00m \u001B[38;5;28;01mNone\u001B[39;00m:\n\u001B[0;32m    535\u001B[0m     \u001B[38;5;66;03m# It would be safer to not assign a default context id (less silent\u001B[39;00m\n\u001B[0;32m    536\u001B[0m     \u001B[38;5;66;03m# bugs), but doing this while maintaining backward compatibility\u001B[39;00m\n\u001B[0;32m    537\u001B[0m     \u001B[38;5;66;03m# with the previous, context-unaware version get_memmaping_executor\u001B[39;00m\n\u001B[0;32m    538\u001B[0m     \u001B[38;5;66;03m# exposes too many low-level details.\u001B[39;00m\n\u001B[0;32m    539\u001B[0m     context_id \u001B[38;5;241m=\u001B[39m uuid4()\u001B[38;5;241m.\u001B[39mhex\n\u001B[1;32m--> 540\u001B[0m \u001B[38;5;28;43mself\u001B[39;49m\u001B[38;5;241;43m.\u001B[39;49m\u001B[43mset_current_context\u001B[49m\u001B[43m(\u001B[49m\u001B[43mcontext_id\u001B[49m\u001B[43m)\u001B[49m\n",
      "File \u001B[1;32mE:\\Anaconda3\\envs\\pytorch\\lib\\site-packages\\joblib\\_memmapping_reducer.py:544\u001B[0m, in \u001B[0;36mTemporaryResourcesManager.set_current_context\u001B[1;34m(self, context_id)\u001B[0m\n\u001B[0;32m    542\u001B[0m \u001B[38;5;28;01mdef\u001B[39;00m \u001B[38;5;21mset_current_context\u001B[39m(\u001B[38;5;28mself\u001B[39m, context_id):\n\u001B[0;32m    543\u001B[0m     \u001B[38;5;28mself\u001B[39m\u001B[38;5;241m.\u001B[39m_current_context_id \u001B[38;5;241m=\u001B[39m context_id\n\u001B[1;32m--> 544\u001B[0m     \u001B[38;5;28;43mself\u001B[39;49m\u001B[38;5;241;43m.\u001B[39;49m\u001B[43mregister_new_context\u001B[49m\u001B[43m(\u001B[49m\u001B[43mcontext_id\u001B[49m\u001B[43m)\u001B[49m\n",
      "File \u001B[1;32mE:\\Anaconda3\\envs\\pytorch\\lib\\site-packages\\joblib\\_memmapping_reducer.py:569\u001B[0m, in \u001B[0;36mTemporaryResourcesManager.register_new_context\u001B[1;34m(self, context_id)\u001B[0m\n\u001B[0;32m    562\u001B[0m new_folder_name \u001B[38;5;241m=\u001B[39m (\n\u001B[0;32m    563\u001B[0m     \u001B[38;5;124m\"\u001B[39m\u001B[38;5;124mjoblib_memmapping_folder_\u001B[39m\u001B[38;5;132;01m{}\u001B[39;00m\u001B[38;5;124m_\u001B[39m\u001B[38;5;132;01m{}\u001B[39;00m\u001B[38;5;124m_\u001B[39m\u001B[38;5;132;01m{}\u001B[39;00m\u001B[38;5;124m\"\u001B[39m\u001B[38;5;241m.\u001B[39mformat(\n\u001B[0;32m    564\u001B[0m         os\u001B[38;5;241m.\u001B[39mgetpid(), \u001B[38;5;28mself\u001B[39m\u001B[38;5;241m.\u001B[39m_id, context_id)\n\u001B[0;32m    565\u001B[0m )\n\u001B[0;32m    566\u001B[0m new_folder_path, _ \u001B[38;5;241m=\u001B[39m _get_temp_dir(\n\u001B[0;32m    567\u001B[0m     new_folder_name, \u001B[38;5;28mself\u001B[39m\u001B[38;5;241m.\u001B[39m_temp_folder_root\n\u001B[0;32m    568\u001B[0m )\n\u001B[1;32m--> 569\u001B[0m \u001B[38;5;28;43mself\u001B[39;49m\u001B[38;5;241;43m.\u001B[39;49m\u001B[43mregister_folder_finalizer\u001B[49m\u001B[43m(\u001B[49m\u001B[43mnew_folder_path\u001B[49m\u001B[43m,\u001B[49m\u001B[43m \u001B[49m\u001B[43mcontext_id\u001B[49m\u001B[43m)\u001B[49m\n\u001B[0;32m    570\u001B[0m \u001B[38;5;28mself\u001B[39m\u001B[38;5;241m.\u001B[39m_cached_temp_folders[context_id] \u001B[38;5;241m=\u001B[39m new_folder_path\n",
      "File \u001B[1;32mE:\\Anaconda3\\envs\\pytorch\\lib\\site-packages\\joblib\\_memmapping_reducer.py:585\u001B[0m, in \u001B[0;36mTemporaryResourcesManager.register_folder_finalizer\u001B[1;34m(self, pool_subfolder, context_id)\u001B[0m\n\u001B[0;32m    578\u001B[0m \u001B[38;5;28;01mdef\u001B[39;00m \u001B[38;5;21mregister_folder_finalizer\u001B[39m(\u001B[38;5;28mself\u001B[39m, pool_subfolder, context_id):\n\u001B[0;32m    579\u001B[0m     \u001B[38;5;66;03m# Register the garbage collector at program exit in case caller forgets\u001B[39;00m\n\u001B[0;32m    580\u001B[0m     \u001B[38;5;66;03m# to call terminate explicitly: note we do not pass any reference to\u001B[39;00m\n\u001B[0;32m    581\u001B[0m     \u001B[38;5;66;03m# ensure that this callback won't prevent garbage collection of\u001B[39;00m\n\u001B[0;32m    582\u001B[0m     \u001B[38;5;66;03m# parallel instance and related file handler resources such as POSIX\u001B[39;00m\n\u001B[0;32m    583\u001B[0m     \u001B[38;5;66;03m# semaphores and pipes\u001B[39;00m\n\u001B[0;32m    584\u001B[0m     pool_module_name \u001B[38;5;241m=\u001B[39m whichmodule(delete_folder, \u001B[38;5;124m'\u001B[39m\u001B[38;5;124mdelete_folder\u001B[39m\u001B[38;5;124m'\u001B[39m)\n\u001B[1;32m--> 585\u001B[0m     \u001B[43mresource_tracker\u001B[49m\u001B[38;5;241;43m.\u001B[39;49m\u001B[43mregister\u001B[49m\u001B[43m(\u001B[49m\u001B[43mpool_subfolder\u001B[49m\u001B[43m,\u001B[49m\u001B[43m \u001B[49m\u001B[38;5;124;43m\"\u001B[39;49m\u001B[38;5;124;43mfolder\u001B[39;49m\u001B[38;5;124;43m\"\u001B[39;49m\u001B[43m)\u001B[49m\n\u001B[0;32m    587\u001B[0m     \u001B[38;5;28;01mdef\u001B[39;00m \u001B[38;5;21m_cleanup\u001B[39m():\n\u001B[0;32m    588\u001B[0m         \u001B[38;5;66;03m# In some cases the Python runtime seems to set delete_folder to\u001B[39;00m\n\u001B[0;32m    589\u001B[0m         \u001B[38;5;66;03m# None just before exiting when accessing the delete_folder\u001B[39;00m\n\u001B[1;32m   (...)\u001B[0m\n\u001B[0;32m    594\u001B[0m         \u001B[38;5;66;03m# because joblib should only use relative imports to allow\u001B[39;00m\n\u001B[0;32m    595\u001B[0m         \u001B[38;5;66;03m# easy vendoring.\u001B[39;00m\n\u001B[0;32m    596\u001B[0m         delete_folder \u001B[38;5;241m=\u001B[39m \u001B[38;5;28m__import__\u001B[39m(\n\u001B[0;32m    597\u001B[0m             pool_module_name, fromlist\u001B[38;5;241m=\u001B[39m[\u001B[38;5;124m'\u001B[39m\u001B[38;5;124mdelete_folder\u001B[39m\u001B[38;5;124m'\u001B[39m]\n\u001B[0;32m    598\u001B[0m         )\u001B[38;5;241m.\u001B[39mdelete_folder\n",
      "File \u001B[1;32mE:\\Anaconda3\\envs\\pytorch\\lib\\site-packages\\joblib\\externals\\loky\\backend\\resource_tracker.py:178\u001B[0m, in \u001B[0;36mResourceTracker.register\u001B[1;34m(self, name, rtype)\u001B[0m\n\u001B[0;32m    176\u001B[0m \u001B[38;5;28;01mdef\u001B[39;00m \u001B[38;5;21mregister\u001B[39m(\u001B[38;5;28mself\u001B[39m, name, rtype):\n\u001B[0;32m    177\u001B[0m \u001B[38;5;250m    \u001B[39m\u001B[38;5;124;03m\"\"\"Register a named resource, and increment its refcount.\"\"\"\u001B[39;00m\n\u001B[1;32m--> 178\u001B[0m     \u001B[38;5;28;43mself\u001B[39;49m\u001B[38;5;241;43m.\u001B[39;49m\u001B[43mensure_running\u001B[49m\u001B[43m(\u001B[49m\u001B[43m)\u001B[49m\n\u001B[0;32m    179\u001B[0m     \u001B[38;5;28mself\u001B[39m\u001B[38;5;241m.\u001B[39m_send(\u001B[38;5;124m\"\u001B[39m\u001B[38;5;124mREGISTER\u001B[39m\u001B[38;5;124m\"\u001B[39m, name, rtype)\n",
      "File \u001B[1;32mE:\\Anaconda3\\envs\\pytorch\\lib\\site-packages\\joblib\\externals\\loky\\backend\\resource_tracker.py:95\u001B[0m, in \u001B[0;36mResourceTracker.ensure_running\u001B[1;34m(self)\u001B[0m\n\u001B[0;32m     92\u001B[0m \u001B[38;5;28;01mwith\u001B[39;00m \u001B[38;5;28mself\u001B[39m\u001B[38;5;241m.\u001B[39m_lock:\n\u001B[0;32m     93\u001B[0m     \u001B[38;5;28;01mif\u001B[39;00m \u001B[38;5;28mself\u001B[39m\u001B[38;5;241m.\u001B[39m_fd \u001B[38;5;129;01mis\u001B[39;00m \u001B[38;5;129;01mnot\u001B[39;00m \u001B[38;5;28;01mNone\u001B[39;00m:\n\u001B[0;32m     94\u001B[0m         \u001B[38;5;66;03m# resource tracker was launched before, is it still running?\u001B[39;00m\n\u001B[1;32m---> 95\u001B[0m         \u001B[38;5;28;01mif\u001B[39;00m \u001B[38;5;28;43mself\u001B[39;49m\u001B[38;5;241;43m.\u001B[39;49m\u001B[43m_check_alive\u001B[49m\u001B[43m(\u001B[49m\u001B[43m)\u001B[49m:\n\u001B[0;32m     96\u001B[0m             \u001B[38;5;66;03m# => still alive\u001B[39;00m\n\u001B[0;32m     97\u001B[0m             \u001B[38;5;28;01mreturn\u001B[39;00m\n\u001B[0;32m     98\u001B[0m         \u001B[38;5;66;03m# => dead, launch it again\u001B[39;00m\n",
      "File \u001B[1;32mE:\\Anaconda3\\envs\\pytorch\\lib\\site-packages\\joblib\\externals\\loky\\backend\\resource_tracker.py:170\u001B[0m, in \u001B[0;36mResourceTracker._check_alive\u001B[1;34m(self)\u001B[0m\n\u001B[0;32m    168\u001B[0m \u001B[38;5;250m\u001B[39m\u001B[38;5;124;03m\"\"\"Check for the existence of the resource tracker process.\"\"\"\u001B[39;00m\n\u001B[0;32m    169\u001B[0m \u001B[38;5;28;01mtry\u001B[39;00m:\n\u001B[1;32m--> 170\u001B[0m     \u001B[38;5;28;43mself\u001B[39;49m\u001B[38;5;241;43m.\u001B[39;49m\u001B[43m_send\u001B[49m\u001B[43m(\u001B[49m\u001B[38;5;124;43m\"\u001B[39;49m\u001B[38;5;124;43mPROBE\u001B[39;49m\u001B[38;5;124;43m\"\u001B[39;49m\u001B[43m,\u001B[49m\u001B[43m \u001B[49m\u001B[38;5;124;43m\"\u001B[39;49m\u001B[38;5;124;43m\"\u001B[39;49m\u001B[43m,\u001B[49m\u001B[43m \u001B[49m\u001B[38;5;124;43m\"\u001B[39;49m\u001B[38;5;124;43m\"\u001B[39;49m\u001B[43m)\u001B[49m\n\u001B[0;32m    171\u001B[0m \u001B[38;5;28;01mexcept\u001B[39;00m \u001B[38;5;167;01mBrokenPipeError\u001B[39;00m:\n\u001B[0;32m    172\u001B[0m     \u001B[38;5;28;01mreturn\u001B[39;00m \u001B[38;5;28;01mFalse\u001B[39;00m\n",
      "File \u001B[1;32mE:\\Anaconda3\\envs\\pytorch\\lib\\site-packages\\joblib\\externals\\loky\\backend\\resource_tracker.py:197\u001B[0m, in \u001B[0;36mResourceTracker._send\u001B[1;34m(self, cmd, name, rtype)\u001B[0m\n\u001B[0;32m    195\u001B[0m     \u001B[38;5;28;01mraise\u001B[39;00m \u001B[38;5;167;01mValueError\u001B[39;00m(\u001B[38;5;124m\"\u001B[39m\u001B[38;5;124mname too long\u001B[39m\u001B[38;5;124m\"\u001B[39m)\n\u001B[0;32m    196\u001B[0m msg \u001B[38;5;241m=\u001B[39m \u001B[38;5;124mf\u001B[39m\u001B[38;5;124m\"\u001B[39m\u001B[38;5;132;01m{\u001B[39;00mcmd\u001B[38;5;132;01m}\u001B[39;00m\u001B[38;5;124m:\u001B[39m\u001B[38;5;132;01m{\u001B[39;00mname\u001B[38;5;132;01m}\u001B[39;00m\u001B[38;5;124m:\u001B[39m\u001B[38;5;132;01m{\u001B[39;00mrtype\u001B[38;5;132;01m}\u001B[39;00m\u001B[38;5;130;01m\\n\u001B[39;00m\u001B[38;5;124m\"\u001B[39m\u001B[38;5;241m.\u001B[39mencode(\u001B[38;5;124m\"\u001B[39m\u001B[38;5;124mascii\u001B[39m\u001B[38;5;124m\"\u001B[39m)\n\u001B[1;32m--> 197\u001B[0m nbytes \u001B[38;5;241m=\u001B[39m \u001B[43mos\u001B[49m\u001B[38;5;241;43m.\u001B[39;49m\u001B[43mwrite\u001B[49m\u001B[43m(\u001B[49m\u001B[38;5;28;43mself\u001B[39;49m\u001B[38;5;241;43m.\u001B[39;49m\u001B[43m_fd\u001B[49m\u001B[43m,\u001B[49m\u001B[43m \u001B[49m\u001B[43mmsg\u001B[49m\u001B[43m)\u001B[49m\n\u001B[0;32m    198\u001B[0m \u001B[38;5;28;01massert\u001B[39;00m nbytes \u001B[38;5;241m==\u001B[39m \u001B[38;5;28mlen\u001B[39m(msg)\n",
      "\u001B[1;31mOSError\u001B[0m: [Errno 22] Invalid argument"
     ]
    }
   ],
   "execution_count": 45
  },
  {
   "metadata": {},
   "cell_type": "markdown",
   "source": [
    "\n",
    "# 8. Comparing all models"
   ]
  },
  {
   "metadata": {
    "ExecuteTime": {
     "end_time": "2025-02-07T12:16:25.495602Z",
     "start_time": "2025-02-07T12:16:25.483081Z"
    }
   },
   "cell_type": "code",
   "outputs": [
    {
     "name": "stdout",
     "output_type": "stream",
     "text": [
      "\n",
      "                     Accuracy     Error\n",
      "                     ----------   --------\n",
      "Logistic Regression : 72.24%       27.76%\n",
      "KNN : 53.18%      46.82% \n",
      "Linear SVC          : 12.71%       87.29% \n",
      "rbf SVM classifier  : 71.88%      28.12% \n",
      "DecisionTree        : 87.4%      12.6% \n",
      "Random Forest       : 83.74%      16.26% \n",
      "GradientBoosting DT : 83.74%      16.26% \n"
     ]
    }
   ],
   "execution_count": 41,
   "source": [
    "print('\\n                     Accuracy     Error')\n",
    "print('                     ----------   --------')\n",
    "print('Logistic Regression : {:.04}%       {:.04}%'.format(log_reg_grid_results['accuracy'] * 100,\\\n",
    "                                                  100-(log_reg_grid_results['accuracy'] * 100)))\n",
    "\n",
    "print('KNN : {:.04}%      {:.04}% '.format(log_knn_grid_results['accuracy'] * 100,\\\n",
    "                                                        100-(log_knn_grid_results['accuracy'] * 100)))\n",
    "\n",
    "print('Linear SVC          : {:.04}%       {:.04}% '.format(lr_svc_grid_results['accuracy'] * 100,\\\n",
    "                                                        100-(lr_svc_grid_results['accuracy'] * 100)))\n",
    "\n",
    "print('rbf SVM classifier  : {:.04}%      {:.04}% '.format(rbf_svm_grid_results['accuracy'] * 100,\\\n",
    "                                                          100-(rbf_svm_grid_results['accuracy'] * 100)))\n",
    "\n",
    "print('DecisionTree        : {:.04}%      {:.04}% '.format(dt_grid_results['accuracy'] * 100,\\\n",
    "                                                        100-(dt_grid_results['accuracy'] * 100)))\n",
    "\n",
    "print('Random Forest       : {:.04}%      {:.04}% '.format(rfc_grid_results['accuracy'] * 100,\\\n",
    "                                                           100-(rfc_grid_results['accuracy'] * 100)))\n",
    "print('GradientBoosting DT : {:.04}%      {:.04}% '.format(rfc_grid_results['accuracy'] * 100,\\\n",
    "                                                        100-(rfc_grid_results['accuracy'] * 100)))\n",
    "\n",
    "# print('XGBoost             : {:.04}%      {:.04}% '.format(xgb_results['accuracy'] * 100, 100 - (xgb_results['accuracy'] * 100))) \n",
    " \n",
    "# print('LightGBM            : {:.04}%      {:.04}% '.format(lgb_results['accuracy'] * 100, 100 - (lgb_results['accuracy'] * 100)))\n",
    " \n",
    "# print('CatBoost            : {:.04}%      {:.04}% '.format(cat_results['accuracy'] * 100, 100 - (cat_results['accuracy'] * 100))) "
   ]
  }
 ],
 "metadata": {
  "kernelspec": {
   "display_name": "pytorch",
   "language": "python",
   "name": "pytorch"
  },
  "language_info": {
   "codemirror_mode": {
    "name": "ipython",
    "version": 3
   },
   "file_extension": ".py",
   "mimetype": "text/x-python",
   "name": "python",
   "nbconvert_exporter": "python",
   "pygments_lexer": "ipython3",
   "version": "3.6.8"
  }
 },
 "nbformat": 4,
 "nbformat_minor": 2
}
